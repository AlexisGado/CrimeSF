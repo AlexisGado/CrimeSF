{
  "nbformat": 4,
  "nbformat_minor": 0,
  "metadata": {
    "colab": {
      "name": "mlp_train.ipynb",
      "provenance": [],
      "authorship_tag": "ABX9TyOoImslsv6WliHeVFS2Px4r"
    },
    "kernelspec": {
      "name": "python3",
      "display_name": "Python 3"
    },
    "language_info": {
      "name": "python"
    }
  },
  "cells": [
    {
      "cell_type": "code",
      "metadata": {
        "id": "yYH6-wQp76IZ"
      },
      "source": [
        "import pandas as pd\n",
        "import numpy as np\n",
        "import matplotlib.pyplot as plt"
      ],
      "execution_count": null,
      "outputs": []
    },
    {
      "cell_type": "code",
      "metadata": {
        "colab": {
          "base_uri": "https://localhost:8080/"
        },
        "id": "eIH08UHf6y62",
        "outputId": "8ceaa9ce-0e43-4fce-90c6-87705dda30cc"
      },
      "source": [
        "# Import the files from Google Drive\n",
        "try:\n",
        "  from google.colab import drive\n",
        "  drive.mount('/content/gdrive', force_remount=True)\n",
        "\n",
        "  FOLDERNAME = 'Projet_malap'\n",
        "  %cd /content/gdrive/My\\ Drive/$FOLDERNAME\n",
        "except ImportError:\n",
        "  pass"
      ],
      "execution_count": null,
      "outputs": [
        {
          "output_type": "stream",
          "text": [
            "Mounted at /content/gdrive\n",
            "/content/gdrive/My Drive/Projet_malap\n"
          ],
          "name": "stdout"
        }
      ]
    },
    {
      "cell_type": "markdown",
      "metadata": {
        "id": "y6s7KjtVuK2V"
      },
      "source": [
        "Import the pre-processed data"
      ]
    },
    {
      "cell_type": "code",
      "metadata": {
        "id": "lOu4xl-975Nb"
      },
      "source": [
        "#Read training data\n",
        "\n",
        "train_data = pd.read_csv('pre_processing_train_data.csv')\n",
        "train_data=train_data.iloc[:,1:]"
      ],
      "execution_count": null,
      "outputs": []
    },
    {
      "cell_type": "markdown",
      "metadata": {
        "id": "NGVFwXxPuQ5n"
      },
      "source": [
        "\n",
        "Select a sample to train faster"
      ]
    },
    {
      "cell_type": "code",
      "metadata": {
        "colab": {
          "base_uri": "https://localhost:8080/",
          "height": 221
        },
        "id": "oNAxJsHz8g7k",
        "outputId": "3b341e05-536d-45dd-f4a2-bdfe8360743a"
      },
      "source": [
        "train_sample = train_data.sample(n=10000)\n",
        "#dfsample = rebuild_data(df,dfsample) # new line added in order to imporve the sample\n",
        "train_labels=train_sample['Category']\n",
        "print(len(train_labels.unique()))\n",
        "train_labels.head()\n",
        "train_sample.drop('Category',inplace =True, axis=1)\n",
        "train_sample.head()"
      ],
      "execution_count": null,
      "outputs": [
        {
          "output_type": "stream",
          "text": [
            "37\n"
          ],
          "name": "stdout"
        },
        {
          "output_type": "execute_result",
          "data": {
            "text/html": [
              "<div>\n",
              "<style scoped>\n",
              "    .dataframe tbody tr th:only-of-type {\n",
              "        vertical-align: middle;\n",
              "    }\n",
              "\n",
              "    .dataframe tbody tr th {\n",
              "        vertical-align: top;\n",
              "    }\n",
              "\n",
              "    .dataframe thead th {\n",
              "        text-align: right;\n",
              "    }\n",
              "</style>\n",
              "<table border=\"1\" class=\"dataframe\">\n",
              "  <thead>\n",
              "    <tr style=\"text-align: right;\">\n",
              "      <th></th>\n",
              "      <th>X</th>\n",
              "      <th>Y</th>\n",
              "      <th>Year</th>\n",
              "      <th>X_Bar_District</th>\n",
              "      <th>Y_Bar_District</th>\n",
              "      <th>Sin_Year</th>\n",
              "      <th>Cos_Year</th>\n",
              "      <th>Sin_Hour</th>\n",
              "      <th>Cos_Hour</th>\n",
              "      <th>Sin_Day_m</th>\n",
              "      <th>Cos_Day_m</th>\n",
              "      <th>Sin_Month</th>\n",
              "      <th>Cos_Month</th>\n",
              "      <th>Sin_Day_w</th>\n",
              "      <th>Cos_Day_w</th>\n",
              "    </tr>\n",
              "  </thead>\n",
              "  <tbody>\n",
              "    <tr>\n",
              "      <th>97450</th>\n",
              "      <td>-122.390412</td>\n",
              "      <td>37.736010</td>\n",
              "      <td>0.833333</td>\n",
              "      <td>-122.393550</td>\n",
              "      <td>37.737256</td>\n",
              "      <td>-0.108867</td>\n",
              "      <td>9.940563e-01</td>\n",
              "      <td>-0.258819</td>\n",
              "      <td>9.659258e-01</td>\n",
              "      <td>-0.988468</td>\n",
              "      <td>0.151428</td>\n",
              "      <td>5.000000e-01</td>\n",
              "      <td>0.866025</td>\n",
              "      <td>-0.433884</td>\n",
              "      <td>-0.900969</td>\n",
              "    </tr>\n",
              "    <tr>\n",
              "      <th>465075</th>\n",
              "      <td>-122.411747</td>\n",
              "      <td>37.751035</td>\n",
              "      <td>-0.166667</td>\n",
              "      <td>-122.419409</td>\n",
              "      <td>37.759961</td>\n",
              "      <td>-0.906308</td>\n",
              "      <td>4.226183e-01</td>\n",
              "      <td>-0.965926</td>\n",
              "      <td>2.588190e-01</td>\n",
              "      <td>-0.651372</td>\n",
              "      <td>-0.758758</td>\n",
              "      <td>-8.660254e-01</td>\n",
              "      <td>0.500000</td>\n",
              "      <td>-0.781831</td>\n",
              "      <td>0.623490</td>\n",
              "    </tr>\n",
              "    <tr>\n",
              "      <th>581520</th>\n",
              "      <td>-122.409795</td>\n",
              "      <td>37.780036</td>\n",
              "      <td>-0.333333</td>\n",
              "      <td>-122.405282</td>\n",
              "      <td>37.779915</td>\n",
              "      <td>-0.258819</td>\n",
              "      <td>9.659258e-01</td>\n",
              "      <td>-0.258819</td>\n",
              "      <td>9.659258e-01</td>\n",
              "      <td>-0.790776</td>\n",
              "      <td>-0.612106</td>\n",
              "      <td>8.660254e-01</td>\n",
              "      <td>0.500000</td>\n",
              "      <td>0.781831</td>\n",
              "      <td>0.623490</td>\n",
              "    </tr>\n",
              "    <tr>\n",
              "      <th>871006</th>\n",
              "      <td>-122.424196</td>\n",
              "      <td>37.743445</td>\n",
              "      <td>-1.000000</td>\n",
              "      <td>-122.428831</td>\n",
              "      <td>37.726543</td>\n",
              "      <td>-1.000000</td>\n",
              "      <td>-1.836970e-16</td>\n",
              "      <td>-1.000000</td>\n",
              "      <td>-1.836970e-16</td>\n",
              "      <td>0.848644</td>\n",
              "      <td>0.528964</td>\n",
              "      <td>8.660254e-01</td>\n",
              "      <td>0.500000</td>\n",
              "      <td>0.974928</td>\n",
              "      <td>-0.222521</td>\n",
              "    </tr>\n",
              "    <tr>\n",
              "      <th>843679</th>\n",
              "      <td>-122.416650</td>\n",
              "      <td>37.808166</td>\n",
              "      <td>-1.000000</td>\n",
              "      <td>-122.409619</td>\n",
              "      <td>37.795685</td>\n",
              "      <td>0.946930</td>\n",
              "      <td>3.214395e-01</td>\n",
              "      <td>0.866025</td>\n",
              "      <td>5.000000e-01</td>\n",
              "      <td>0.299363</td>\n",
              "      <td>-0.954139</td>\n",
              "      <td>1.224647e-16</td>\n",
              "      <td>-1.000000</td>\n",
              "      <td>-0.974928</td>\n",
              "      <td>-0.222521</td>\n",
              "    </tr>\n",
              "  </tbody>\n",
              "</table>\n",
              "</div>"
            ],
            "text/plain": [
              "                 X          Y      Year  ...  Cos_Month  Sin_Day_w  Cos_Day_w\n",
              "97450  -122.390412  37.736010  0.833333  ...   0.866025  -0.433884  -0.900969\n",
              "465075 -122.411747  37.751035 -0.166667  ...   0.500000  -0.781831   0.623490\n",
              "581520 -122.409795  37.780036 -0.333333  ...   0.500000   0.781831   0.623490\n",
              "871006 -122.424196  37.743445 -1.000000  ...   0.500000   0.974928  -0.222521\n",
              "843679 -122.416650  37.808166 -1.000000  ...  -1.000000  -0.974928  -0.222521\n",
              "\n",
              "[5 rows x 15 columns]"
            ]
          },
          "metadata": {
            "tags": []
          },
          "execution_count": 4
        }
      ]
    },
    {
      "cell_type": "code",
      "metadata": {
        "id": "YQsTuxVa81pV"
      },
      "source": [
        "# Load Library\n",
        "from sklearn.metrics import accuracy_score\n",
        "from sklearn.neural_network import MLPClassifier\n",
        "from sklearn.model_selection import train_test_split\n",
        "from sklearn.metrics import log_loss\n",
        "from sklearn.model_selection import cross_val_score\n",
        "\n",
        "X=train_sample\n",
        "y=train_labels\n",
        "\n",
        "# Split the training test set\n",
        "X_train, X_test, y_train, y_test = train_test_split(X, y, test_size=0.2, random_state=42)\n",
        "\n",
        "\n"
      ],
      "execution_count": null,
      "outputs": []
    },
    {
      "cell_type": "markdown",
      "metadata": {
        "id": "PF2464Ikukjt"
      },
      "source": [
        "First try"
      ]
    },
    {
      "cell_type": "code",
      "metadata": {
        "colab": {
          "base_uri": "https://localhost:8080/"
        },
        "id": "W7Fb0wb-IgJM",
        "outputId": "40abbbc8-fb73-4fa3-d3e0-b8b253f42cda"
      },
      "source": [
        "clf = MLPClassifier(hidden_layer_sizes=(12),solver='adam')\n",
        "clf.fit(X_train, y_train)\n",
        "# p_pred = clf.predict_proba(X_test)\n",
        "# print(log_loss(y_test,p_pred))\n",
        "clf.score(X_test, y_test)"
      ],
      "execution_count": null,
      "outputs": [
        {
          "output_type": "execute_result",
          "data": {
            "text/plain": [
              "0.206"
            ]
          },
          "metadata": {
            "tags": []
          },
          "execution_count": 12
        }
      ]
    },
    {
      "cell_type": "markdown",
      "metadata": {
        "id": "mFTwx4f-uaai"
      },
      "source": [
        "We want to make a cross validation on the MLP classifier model. The main parameters are the number of hidden layers and the number of nodes in each layer. \\\n",
        "We will first choose one layer and perform a cross validation on a large range of number of nodes in this layer (1 to 100). \\"
      ]
    },
    {
      "cell_type": "code",
      "metadata": {
        "id": "T8iTIgi-mdKo"
      },
      "source": [
        "# cross val for one layer\n",
        "def plot_cross_val_one_layer(test_range, X, y, cv=5):\n",
        "  l = []\n",
        "  for k in test_range:\n",
        "      clf = MLPClassifier(hidden_layer_sizes=(k), solver='adam')\n",
        "      scores = cross_val_score(clf,X,y,cv=cv)\n",
        "      l.append(scores)\n",
        "  l = np.asarray(l)\n",
        "  plt.errorbar(test_range, l.mean(axis=1), l.std(axis=1), fmt='-k')\n"
      ],
      "execution_count": null,
      "outputs": []
    },
    {
      "cell_type": "code",
      "metadata": {
        "colab": {
          "base_uri": "https://localhost:8080/",
          "height": 1000
        },
        "id": "_F2zGOQ8RxTC",
        "outputId": "286a2862-59b3-4ab5-b512-8469886b3001"
      },
      "source": [
        "# wide test range\n",
        "test_range = list(range(1, 100, 5))\n",
        "plot_cross_val_one_layer(test_range, X, y)"
      ],
      "execution_count": null,
      "outputs": [
        {
          "output_type": "stream",
          "text": [
            "/usr/local/lib/python3.7/dist-packages/sklearn/model_selection/_split.py:667: UserWarning: The least populated class in y has only 1 members, which is less than n_splits=5.\n",
            "  % (min_groups, self.n_splits)), UserWarning)\n",
            "/usr/local/lib/python3.7/dist-packages/sklearn/neural_network/_multilayer_perceptron.py:571: ConvergenceWarning: Stochastic Optimizer: Maximum iterations (200) reached and the optimization hasn't converged yet.\n",
            "  % self.max_iter, ConvergenceWarning)\n",
            "/usr/local/lib/python3.7/dist-packages/sklearn/model_selection/_split.py:667: UserWarning: The least populated class in y has only 1 members, which is less than n_splits=5.\n",
            "  % (min_groups, self.n_splits)), UserWarning)\n",
            "/usr/local/lib/python3.7/dist-packages/sklearn/neural_network/_multilayer_perceptron.py:571: ConvergenceWarning: Stochastic Optimizer: Maximum iterations (200) reached and the optimization hasn't converged yet.\n",
            "  % self.max_iter, ConvergenceWarning)\n",
            "/usr/local/lib/python3.7/dist-packages/sklearn/model_selection/_split.py:667: UserWarning: The least populated class in y has only 1 members, which is less than n_splits=5.\n",
            "  % (min_groups, self.n_splits)), UserWarning)\n",
            "/usr/local/lib/python3.7/dist-packages/sklearn/model_selection/_split.py:667: UserWarning: The least populated class in y has only 1 members, which is less than n_splits=5.\n",
            "  % (min_groups, self.n_splits)), UserWarning)\n",
            "/usr/local/lib/python3.7/dist-packages/sklearn/model_selection/_split.py:667: UserWarning: The least populated class in y has only 1 members, which is less than n_splits=5.\n",
            "  % (min_groups, self.n_splits)), UserWarning)\n",
            "/usr/local/lib/python3.7/dist-packages/sklearn/model_selection/_split.py:667: UserWarning: The least populated class in y has only 1 members, which is less than n_splits=5.\n",
            "  % (min_groups, self.n_splits)), UserWarning)\n",
            "/usr/local/lib/python3.7/dist-packages/sklearn/model_selection/_split.py:667: UserWarning: The least populated class in y has only 1 members, which is less than n_splits=5.\n",
            "  % (min_groups, self.n_splits)), UserWarning)\n",
            "/usr/local/lib/python3.7/dist-packages/sklearn/model_selection/_split.py:667: UserWarning: The least populated class in y has only 1 members, which is less than n_splits=5.\n",
            "  % (min_groups, self.n_splits)), UserWarning)\n",
            "/usr/local/lib/python3.7/dist-packages/sklearn/model_selection/_split.py:667: UserWarning: The least populated class in y has only 1 members, which is less than n_splits=5.\n",
            "  % (min_groups, self.n_splits)), UserWarning)\n",
            "/usr/local/lib/python3.7/dist-packages/sklearn/model_selection/_split.py:667: UserWarning: The least populated class in y has only 1 members, which is less than n_splits=5.\n",
            "  % (min_groups, self.n_splits)), UserWarning)\n",
            "/usr/local/lib/python3.7/dist-packages/sklearn/model_selection/_split.py:667: UserWarning: The least populated class in y has only 1 members, which is less than n_splits=5.\n",
            "  % (min_groups, self.n_splits)), UserWarning)\n",
            "/usr/local/lib/python3.7/dist-packages/sklearn/model_selection/_split.py:667: UserWarning: The least populated class in y has only 1 members, which is less than n_splits=5.\n",
            "  % (min_groups, self.n_splits)), UserWarning)\n",
            "/usr/local/lib/python3.7/dist-packages/sklearn/model_selection/_split.py:667: UserWarning: The least populated class in y has only 1 members, which is less than n_splits=5.\n",
            "  % (min_groups, self.n_splits)), UserWarning)\n",
            "/usr/local/lib/python3.7/dist-packages/sklearn/model_selection/_split.py:667: UserWarning: The least populated class in y has only 1 members, which is less than n_splits=5.\n",
            "  % (min_groups, self.n_splits)), UserWarning)\n",
            "/usr/local/lib/python3.7/dist-packages/sklearn/model_selection/_split.py:667: UserWarning: The least populated class in y has only 1 members, which is less than n_splits=5.\n",
            "  % (min_groups, self.n_splits)), UserWarning)\n",
            "/usr/local/lib/python3.7/dist-packages/sklearn/model_selection/_split.py:667: UserWarning: The least populated class in y has only 1 members, which is less than n_splits=5.\n",
            "  % (min_groups, self.n_splits)), UserWarning)\n",
            "/usr/local/lib/python3.7/dist-packages/sklearn/model_selection/_split.py:667: UserWarning: The least populated class in y has only 1 members, which is less than n_splits=5.\n",
            "  % (min_groups, self.n_splits)), UserWarning)\n",
            "/usr/local/lib/python3.7/dist-packages/sklearn/model_selection/_split.py:667: UserWarning: The least populated class in y has only 1 members, which is less than n_splits=5.\n",
            "  % (min_groups, self.n_splits)), UserWarning)\n",
            "/usr/local/lib/python3.7/dist-packages/sklearn/model_selection/_split.py:667: UserWarning: The least populated class in y has only 1 members, which is less than n_splits=5.\n",
            "  % (min_groups, self.n_splits)), UserWarning)\n",
            "/usr/local/lib/python3.7/dist-packages/sklearn/model_selection/_split.py:667: UserWarning: The least populated class in y has only 1 members, which is less than n_splits=5.\n",
            "  % (min_groups, self.n_splits)), UserWarning)\n"
          ],
          "name": "stderr"
        },
        {
          "output_type": "execute_result",
          "data": {
            "text/plain": [
              "<ErrorbarContainer object of 3 artists>"
            ]
          },
          "metadata": {
            "tags": []
          },
          "execution_count": 14
        },
        {
          "output_type": "display_data",
          "data": {
            "image/png": "[encoded data removed]",
            "text/plain": [
              "<Figure size 432x288 with 1 Axes>"
            ]
          },
          "metadata": {
            "tags": [],
            "needs_background": "light"
          }
        }
      ]
    },
    {
      "cell_type": "markdown",
      "metadata": {
        "id": "FRtG84Nqvvmi"
      },
      "source": [
        "We deduce from the graph above that only a few nodes are needed so we perform a more precise cross validation on a smaller range (1 to 40)."
      ]
    },
    {
      "cell_type": "code",
      "metadata": {
        "colab": {
          "base_uri": "https://localhost:8080/",
          "height": 945
        },
        "id": "Kum2_01NmufY",
        "outputId": "3cd9ba83-9e03-4e5d-8d21-e0e469fcb7f0"
      },
      "source": [
        "# small test range\n",
        "test_range = list(range(1, 40, 2))\n",
        "plot_cross_val_one_layer(test_range, X, y)"
      ],
      "execution_count": null,
      "outputs": [
        {
          "output_type": "stream",
          "text": [
            "/usr/local/lib/python3.7/dist-packages/sklearn/model_selection/_split.py:667: UserWarning: The least populated class in y has only 1 members, which is less than n_splits=5.\n",
            "  % (min_groups, self.n_splits)), UserWarning)\n",
            "/usr/local/lib/python3.7/dist-packages/sklearn/model_selection/_split.py:667: UserWarning: The least populated class in y has only 1 members, which is less than n_splits=5.\n",
            "  % (min_groups, self.n_splits)), UserWarning)\n",
            "/usr/local/lib/python3.7/dist-packages/sklearn/model_selection/_split.py:667: UserWarning: The least populated class in y has only 1 members, which is less than n_splits=5.\n",
            "  % (min_groups, self.n_splits)), UserWarning)\n",
            "/usr/local/lib/python3.7/dist-packages/sklearn/model_selection/_split.py:667: UserWarning: The least populated class in y has only 1 members, which is less than n_splits=5.\n",
            "  % (min_groups, self.n_splits)), UserWarning)\n",
            "/usr/local/lib/python3.7/dist-packages/sklearn/model_selection/_split.py:667: UserWarning: The least populated class in y has only 1 members, which is less than n_splits=5.\n",
            "  % (min_groups, self.n_splits)), UserWarning)\n",
            "/usr/local/lib/python3.7/dist-packages/sklearn/model_selection/_split.py:667: UserWarning: The least populated class in y has only 1 members, which is less than n_splits=5.\n",
            "  % (min_groups, self.n_splits)), UserWarning)\n",
            "/usr/local/lib/python3.7/dist-packages/sklearn/model_selection/_split.py:667: UserWarning: The least populated class in y has only 1 members, which is less than n_splits=5.\n",
            "  % (min_groups, self.n_splits)), UserWarning)\n",
            "/usr/local/lib/python3.7/dist-packages/sklearn/model_selection/_split.py:667: UserWarning: The least populated class in y has only 1 members, which is less than n_splits=5.\n",
            "  % (min_groups, self.n_splits)), UserWarning)\n",
            "/usr/local/lib/python3.7/dist-packages/sklearn/model_selection/_split.py:667: UserWarning: The least populated class in y has only 1 members, which is less than n_splits=5.\n",
            "  % (min_groups, self.n_splits)), UserWarning)\n",
            "/usr/local/lib/python3.7/dist-packages/sklearn/model_selection/_split.py:667: UserWarning: The least populated class in y has only 1 members, which is less than n_splits=5.\n",
            "  % (min_groups, self.n_splits)), UserWarning)\n",
            "/usr/local/lib/python3.7/dist-packages/sklearn/model_selection/_split.py:667: UserWarning: The least populated class in y has only 1 members, which is less than n_splits=5.\n",
            "  % (min_groups, self.n_splits)), UserWarning)\n",
            "/usr/local/lib/python3.7/dist-packages/sklearn/model_selection/_split.py:667: UserWarning: The least populated class in y has only 1 members, which is less than n_splits=5.\n",
            "  % (min_groups, self.n_splits)), UserWarning)\n",
            "/usr/local/lib/python3.7/dist-packages/sklearn/model_selection/_split.py:667: UserWarning: The least populated class in y has only 1 members, which is less than n_splits=5.\n",
            "  % (min_groups, self.n_splits)), UserWarning)\n",
            "/usr/local/lib/python3.7/dist-packages/sklearn/model_selection/_split.py:667: UserWarning: The least populated class in y has only 1 members, which is less than n_splits=5.\n",
            "  % (min_groups, self.n_splits)), UserWarning)\n",
            "/usr/local/lib/python3.7/dist-packages/sklearn/model_selection/_split.py:667: UserWarning: The least populated class in y has only 1 members, which is less than n_splits=5.\n",
            "  % (min_groups, self.n_splits)), UserWarning)\n",
            "/usr/local/lib/python3.7/dist-packages/sklearn/model_selection/_split.py:667: UserWarning: The least populated class in y has only 1 members, which is less than n_splits=5.\n",
            "  % (min_groups, self.n_splits)), UserWarning)\n",
            "/usr/local/lib/python3.7/dist-packages/sklearn/model_selection/_split.py:667: UserWarning: The least populated class in y has only 1 members, which is less than n_splits=5.\n",
            "  % (min_groups, self.n_splits)), UserWarning)\n",
            "/usr/local/lib/python3.7/dist-packages/sklearn/model_selection/_split.py:667: UserWarning: The least populated class in y has only 1 members, which is less than n_splits=5.\n",
            "  % (min_groups, self.n_splits)), UserWarning)\n",
            "/usr/local/lib/python3.7/dist-packages/sklearn/model_selection/_split.py:667: UserWarning: The least populated class in y has only 1 members, which is less than n_splits=5.\n",
            "  % (min_groups, self.n_splits)), UserWarning)\n",
            "/usr/local/lib/python3.7/dist-packages/sklearn/model_selection/_split.py:667: UserWarning: The least populated class in y has only 1 members, which is less than n_splits=5.\n",
            "  % (min_groups, self.n_splits)), UserWarning)\n"
          ],
          "name": "stderr"
        },
        {
          "output_type": "display_data",
          "data": {
            "image/png": "[encoded data removed]",
            "text/plain": [
              "<Figure size 432x288 with 1 Axes>"
            ]
          },
          "metadata": {
            "tags": [],
            "needs_background": "light"
          }
        }
      ]
    },
    {
      "cell_type": "markdown",
      "metadata": {
        "id": "PrNYjOUjwOfs"
      },
      "source": [
        "Again from the results on the graph above we try on little range (23 to 27)."
      ]
    },
    {
      "cell_type": "code",
      "metadata": {
        "colab": {
          "base_uri": "https://localhost:8080/",
          "height": 435
        },
        "id": "RiI5njl_rwfJ",
        "outputId": "4d54a81a-df46-4022-ea00-b716564f2f75"
      },
      "source": [
        "# smaller test range\n",
        "test_range = list(range(23, 28))\n",
        "plot_cross_val_one_layer(test_range, X, y, cv=10)"
      ],
      "execution_count": null,
      "outputs": [
        {
          "output_type": "stream",
          "text": [
            "/usr/local/lib/python3.7/dist-packages/sklearn/model_selection/_split.py:667: UserWarning: The least populated class in y has only 1 members, which is less than n_splits=10.\n",
            "  % (min_groups, self.n_splits)), UserWarning)\n",
            "/usr/local/lib/python3.7/dist-packages/sklearn/model_selection/_split.py:667: UserWarning: The least populated class in y has only 1 members, which is less than n_splits=10.\n",
            "  % (min_groups, self.n_splits)), UserWarning)\n",
            "/usr/local/lib/python3.7/dist-packages/sklearn/model_selection/_split.py:667: UserWarning: The least populated class in y has only 1 members, which is less than n_splits=10.\n",
            "  % (min_groups, self.n_splits)), UserWarning)\n",
            "/usr/local/lib/python3.7/dist-packages/sklearn/model_selection/_split.py:667: UserWarning: The least populated class in y has only 1 members, which is less than n_splits=10.\n",
            "  % (min_groups, self.n_splits)), UserWarning)\n",
            "/usr/local/lib/python3.7/dist-packages/sklearn/model_selection/_split.py:667: UserWarning: The least populated class in y has only 1 members, which is less than n_splits=10.\n",
            "  % (min_groups, self.n_splits)), UserWarning)\n"
          ],
          "name": "stderr"
        },
        {
          "output_type": "display_data",
          "data": {
            "image/png": "[encoded data removed]",
            "text/plain": [
              "<Figure size 432x288 with 1 Axes>"
            ]
          },
          "metadata": {
            "tags": [],
            "needs_background": "light"
          }
        }
      ]
    },
    {
      "cell_type": "markdown",
      "metadata": {
        "id": "vDT2eXqAwq87"
      },
      "source": [
        "We deduce that the best number of node for one layer is 25 with an accuracy between 20% and 21%. \\\n",
        "We finally perform a cross validation on a particuliar type of two layers MLP ((2*k,k) with k from 8 to 15) and we immediatly see that the results are not better so we keep only one layer."
      ]
    },
    {
      "cell_type": "code",
      "metadata": {
        "colab": {
          "base_uri": "https://localhost:8080/",
          "height": 588
        },
        "id": "CcqZeEl7Wyli",
        "outputId": "3d7f4258-9c70-461e-f67c-4b9be504caec"
      },
      "source": [
        "# cross val for two layers\n",
        "l = []\n",
        "test_range = list(range(8,16))\n",
        "for k in test_range:\n",
        "    clf = MLPClassifier(hidden_layer_sizes=(2*k,k), solver='adam')\n",
        "    scores = cross_val_score(clf,X,y)\n",
        "    l.append(scores)\n",
        "l = np.asarray(l)\n",
        "plt.errorbar(test_range, l.mean(axis=1), l.std(axis=1), fmt='-k')"
      ],
      "execution_count": null,
      "outputs": [
        {
          "output_type": "stream",
          "text": [
            "/usr/local/lib/python3.7/dist-packages/sklearn/model_selection/_split.py:667: UserWarning: The least populated class in y has only 1 members, which is less than n_splits=5.\n",
            "  % (min_groups, self.n_splits)), UserWarning)\n",
            "/usr/local/lib/python3.7/dist-packages/sklearn/model_selection/_split.py:667: UserWarning: The least populated class in y has only 1 members, which is less than n_splits=5.\n",
            "  % (min_groups, self.n_splits)), UserWarning)\n",
            "/usr/local/lib/python3.7/dist-packages/sklearn/model_selection/_split.py:667: UserWarning: The least populated class in y has only 1 members, which is less than n_splits=5.\n",
            "  % (min_groups, self.n_splits)), UserWarning)\n",
            "/usr/local/lib/python3.7/dist-packages/sklearn/model_selection/_split.py:667: UserWarning: The least populated class in y has only 1 members, which is less than n_splits=5.\n",
            "  % (min_groups, self.n_splits)), UserWarning)\n",
            "/usr/local/lib/python3.7/dist-packages/sklearn/model_selection/_split.py:667: UserWarning: The least populated class in y has only 1 members, which is less than n_splits=5.\n",
            "  % (min_groups, self.n_splits)), UserWarning)\n",
            "/usr/local/lib/python3.7/dist-packages/sklearn/model_selection/_split.py:667: UserWarning: The least populated class in y has only 1 members, which is less than n_splits=5.\n",
            "  % (min_groups, self.n_splits)), UserWarning)\n",
            "/usr/local/lib/python3.7/dist-packages/sklearn/model_selection/_split.py:667: UserWarning: The least populated class in y has only 1 members, which is less than n_splits=5.\n",
            "  % (min_groups, self.n_splits)), UserWarning)\n",
            "/usr/local/lib/python3.7/dist-packages/sklearn/neural_network/_multilayer_perceptron.py:571: ConvergenceWarning: Stochastic Optimizer: Maximum iterations (200) reached and the optimization hasn't converged yet.\n",
            "  % self.max_iter, ConvergenceWarning)\n",
            "/usr/local/lib/python3.7/dist-packages/sklearn/model_selection/_split.py:667: UserWarning: The least populated class in y has only 1 members, which is less than n_splits=5.\n",
            "  % (min_groups, self.n_splits)), UserWarning)\n"
          ],
          "name": "stderr"
        },
        {
          "output_type": "execute_result",
          "data": {
            "text/plain": [
              "<ErrorbarContainer object of 3 artists>"
            ]
          },
          "metadata": {
            "tags": []
          },
          "execution_count": 17
        },
        {
          "output_type": "display_data",
          "data": {
            "image/png": "[encoded data removed]",
            "text/plain": [
              "<Figure size 432x288 with 1 Axes>"
            ]
          },
          "metadata": {
            "tags": [],
            "needs_background": "light"
          }
        }
      ]
    },
    {
      "cell_type": "markdown",
      "metadata": {
        "id": "dtd9i5kbxsU0"
      },
      "source": [
        "The accuracy of this model is a bit worse than the random forest so we won't keep it."
      ]
    }
  ]
}