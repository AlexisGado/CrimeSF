{
 "cells": [
  {
   "cell_type": "markdown",
   "metadata": {},
   "source": [
    "# Crime classification in San Francisco"
   ]
  },
  {
   "cell_type": "code",
   "execution_count": 12,
   "metadata": {},
   "outputs": [],
   "source": [
    "import sys\n",
    "import pandas as pd\n",
    "import seaborn as sns\n",
    "import matplotlib.pyplot as plt\n",
    "import numpy as np\n"
   ]
  },
  {
   "cell_type": "code",
   "execution_count": 13,
   "metadata": {},
   "outputs": [
    {
     "output_type": "stream",
     "name": "stdout",
     "text": [
      "(878049, 9)\ndata loaded\n"
     ]
    }
   ],
   "source": [
    "#Read training data\n",
    "\n",
    "train_data = pd.read_csv('data/train.csv')\n",
    "print(train_data.shape)\n",
    "print('data loaded')"
   ]
  },
  {
   "cell_type": "code",
   "execution_count": 14,
   "metadata": {},
   "outputs": [
    {
     "output_type": "stream",
     "name": "stdout",
     "text": [
      "['WARRANTS' 'OTHER OFFENSES' 'LARCENY/THEFT' 'VEHICLE THEFT' 'VANDALISM'\n 'NON-CRIMINAL' 'ROBBERY' 'ASSAULT' 'WEAPON LAWS' 'BURGLARY'\n 'SUSPICIOUS OCC' 'DRUNKENNESS' 'FORGERY/COUNTERFEITING' 'DRUG/NARCOTIC'\n 'STOLEN PROPERTY' 'SECONDARY CODES' 'TRESPASS' 'MISSING PERSON' 'FRAUD'\n 'KIDNAPPING' 'RUNAWAY' 'DRIVING UNDER THE INFLUENCE'\n 'SEX OFFENSES FORCIBLE' 'PROSTITUTION' 'DISORDERLY CONDUCT' 'ARSON'\n 'FAMILY OFFENSES' 'LIQUOR LAWS' 'BRIBERY' 'EMBEZZLEMENT' 'SUICIDE'\n 'LOITERING' 'SEX OFFENSES NON FORCIBLE' 'EXTORTION' 'GAMBLING'\n 'BAD CHECKS' 'TREA' 'RECOVERED VEHICLE' 'PORNOGRAPHY/OBSCENE MAT']\n"
     ]
    },
    {
     "output_type": "execute_result",
     "data": {
      "text/plain": [
       "                 Dates        Category  DayOfWeek PdDistrict           X  \\\n",
       "0  2015-05-13 23:53:00        WARRANTS          2   NORTHERN -122.425892   \n",
       "1  2015-05-13 23:53:00  OTHER OFFENSES          2   NORTHERN -122.425892   \n",
       "2  2015-05-13 23:33:00  OTHER OFFENSES          2   NORTHERN -122.424363   \n",
       "3  2015-05-13 23:30:00   LARCENY/THEFT          2   NORTHERN -122.426995   \n",
       "4  2015-05-13 23:30:00   LARCENY/THEFT          2       PARK -122.438738   \n",
       "\n",
       "           Y  \n",
       "0  37.774599  \n",
       "1  37.774599  \n",
       "2  37.800414  \n",
       "3  37.800873  \n",
       "4  37.771541  "
      ],
      "text/html": "<div>\n<style scoped>\n    .dataframe tbody tr th:only-of-type {\n        vertical-align: middle;\n    }\n\n    .dataframe tbody tr th {\n        vertical-align: top;\n    }\n\n    .dataframe thead th {\n        text-align: right;\n    }\n</style>\n<table border=\"1\" class=\"dataframe\">\n  <thead>\n    <tr style=\"text-align: right;\">\n      <th></th>\n      <th>Dates</th>\n      <th>Category</th>\n      <th>DayOfWeek</th>\n      <th>PdDistrict</th>\n      <th>X</th>\n      <th>Y</th>\n    </tr>\n  </thead>\n  <tbody>\n    <tr>\n      <th>0</th>\n      <td>2015-05-13 23:53:00</td>\n      <td>WARRANTS</td>\n      <td>2</td>\n      <td>NORTHERN</td>\n      <td>-122.425892</td>\n      <td>37.774599</td>\n    </tr>\n    <tr>\n      <th>1</th>\n      <td>2015-05-13 23:53:00</td>\n      <td>OTHER OFFENSES</td>\n      <td>2</td>\n      <td>NORTHERN</td>\n      <td>-122.425892</td>\n      <td>37.774599</td>\n    </tr>\n    <tr>\n      <th>2</th>\n      <td>2015-05-13 23:33:00</td>\n      <td>OTHER OFFENSES</td>\n      <td>2</td>\n      <td>NORTHERN</td>\n      <td>-122.424363</td>\n      <td>37.800414</td>\n    </tr>\n    <tr>\n      <th>3</th>\n      <td>2015-05-13 23:30:00</td>\n      <td>LARCENY/THEFT</td>\n      <td>2</td>\n      <td>NORTHERN</td>\n      <td>-122.426995</td>\n      <td>37.800873</td>\n    </tr>\n    <tr>\n      <th>4</th>\n      <td>2015-05-13 23:30:00</td>\n      <td>LARCENY/THEFT</td>\n      <td>2</td>\n      <td>PARK</td>\n      <td>-122.438738</td>\n      <td>37.771541</td>\n    </tr>\n  </tbody>\n</table>\n</div>"
     },
     "metadata": {},
     "execution_count": 14
    }
   ],
   "source": [
    "#Get categories (output to find)\n",
    "\n",
    "cat = train_data.Category.unique()\n",
    "print(cat)\n",
    "list_cat=np.copy(cat)\n",
    "np.save('categories.npy', list_cat) \n",
    "train_data.drop(['Descript','Resolution','Address'],inplace =True, axis=1)  #data useless, unsignificant, estimated useless\n",
    "train_data.drop(train_data[(train_data.Y>60)|(train_data.X>-122)].index, inplace=True)  #outliers\n",
    "train_data['DayOfWeek'].replace(to_replace=['Monday','Tuesday','Wednesday','Thursday','Friday','Saturday','Sunday'],value=[i for i in range(0,7)],inplace=True)\n",
    "\n",
    "\n",
    "train_data.head()"
   ]
  },
  {
   "cell_type": "code",
   "execution_count": 4,
   "metadata": {},
   "outputs": [
    {
     "output_type": "execute_result",
     "data": {
      "text/plain": [
       "                Dates  Category  DayOfWeek PdDistrict           X          Y  \\\n",
       "0 2015-05-13 23:53:00         0          2   NORTHERN -122.425892  37.774599   \n",
       "1 2015-05-13 23:53:00         1          2   NORTHERN -122.425892  37.774599   \n",
       "2 2015-05-13 23:33:00         1          2   NORTHERN -122.424363  37.800414   \n",
       "3 2015-05-13 23:30:00         2          2   NORTHERN -122.426995  37.800873   \n",
       "4 2015-05-13 23:30:00         2          2       PARK -122.438738  37.771541   \n",
       "\n",
       "    Time  Hour  Day  Month  Year  \n",
       "0  85980    23   13      5  2015  \n",
       "1  85980    23   13      5  2015  \n",
       "2  84780    23   13      5  2015  \n",
       "3  84600    23   13      5  2015  \n",
       "4  84600    23   13      5  2015  "
      ],
      "text/html": "<div>\n<style scoped>\n    .dataframe tbody tr th:only-of-type {\n        vertical-align: middle;\n    }\n\n    .dataframe tbody tr th {\n        vertical-align: top;\n    }\n\n    .dataframe thead th {\n        text-align: right;\n    }\n</style>\n<table border=\"1\" class=\"dataframe\">\n  <thead>\n    <tr style=\"text-align: right;\">\n      <th></th>\n      <th>Dates</th>\n      <th>Category</th>\n      <th>DayOfWeek</th>\n      <th>PdDistrict</th>\n      <th>X</th>\n      <th>Y</th>\n      <th>Time</th>\n      <th>Hour</th>\n      <th>Day</th>\n      <th>Month</th>\n      <th>Year</th>\n    </tr>\n  </thead>\n  <tbody>\n    <tr>\n      <th>0</th>\n      <td>2015-05-13 23:53:00</td>\n      <td>0</td>\n      <td>2</td>\n      <td>NORTHERN</td>\n      <td>-122.425892</td>\n      <td>37.774599</td>\n      <td>85980</td>\n      <td>23</td>\n      <td>13</td>\n      <td>5</td>\n      <td>2015</td>\n    </tr>\n    <tr>\n      <th>1</th>\n      <td>2015-05-13 23:53:00</td>\n      <td>1</td>\n      <td>2</td>\n      <td>NORTHERN</td>\n      <td>-122.425892</td>\n      <td>37.774599</td>\n      <td>85980</td>\n      <td>23</td>\n      <td>13</td>\n      <td>5</td>\n      <td>2015</td>\n    </tr>\n    <tr>\n      <th>2</th>\n      <td>2015-05-13 23:33:00</td>\n      <td>1</td>\n      <td>2</td>\n      <td>NORTHERN</td>\n      <td>-122.424363</td>\n      <td>37.800414</td>\n      <td>84780</td>\n      <td>23</td>\n      <td>13</td>\n      <td>5</td>\n      <td>2015</td>\n    </tr>\n    <tr>\n      <th>3</th>\n      <td>2015-05-13 23:30:00</td>\n      <td>2</td>\n      <td>2</td>\n      <td>NORTHERN</td>\n      <td>-122.426995</td>\n      <td>37.800873</td>\n      <td>84600</td>\n      <td>23</td>\n      <td>13</td>\n      <td>5</td>\n      <td>2015</td>\n    </tr>\n    <tr>\n      <th>4</th>\n      <td>2015-05-13 23:30:00</td>\n      <td>2</td>\n      <td>2</td>\n      <td>PARK</td>\n      <td>-122.438738</td>\n      <td>37.771541</td>\n      <td>84600</td>\n      <td>23</td>\n      <td>13</td>\n      <td>5</td>\n      <td>2015</td>\n    </tr>\n  </tbody>\n</table>\n</div>"
     },
     "metadata": {},
     "execution_count": 4
    }
   ],
   "source": [
    "#Format time data\n",
    "\n",
    "train_data.Dates = pd.to_datetime(train_data.Dates)\n",
    "train_data['Time'] = train_data.Dates.dt.hour*3600 + train_data.Dates.dt.minute*60 + train_data.Dates.dt.second\n",
    "train_data['Hour'] = train_data.Dates.dt.hour\n",
    "train_data['Day'] = train_data.Dates.dt.day\n",
    "train_data['Month']=train_data.Dates.dt.month\n",
    "train_data['Year']=train_data.Dates.dt.year\n",
    "for key in ['Time','Hour','Day','Month','Year']:\n",
    "    train_data[key]=pd.to_numeric(train_data[key])\n",
    "\n",
    "\n",
    "train_data['Category'].replace(to_replace=cat,value=[i for i in range(len(cat))],inplace=True)\n",
    "train_data.head()"
   ]
  },
  {
   "cell_type": "code",
   "execution_count": 5,
   "metadata": {},
   "outputs": [
    {
     "output_type": "execute_result",
     "data": {
      "text/plain": [
       "                Dates  Category  DayOfWeek PdDistrict           X          Y  \\\n",
       "0 2015-05-13 23:53:00         0          2   NORTHERN -122.425892  37.774599   \n",
       "1 2015-05-13 23:53:00         1          2   NORTHERN -122.425892  37.774599   \n",
       "2 2015-05-13 23:33:00         1          2   NORTHERN -122.424363  37.800414   \n",
       "3 2015-05-13 23:30:00         2          2   NORTHERN -122.426995  37.800873   \n",
       "4 2015-05-13 23:30:00         2          2       PARK -122.438738  37.771541   \n",
       "\n",
       "    Time  Hour  Day  Month  Year  \n",
       "0  85980    23   13      5   1.0  \n",
       "1  85980    23   13      5   1.0  \n",
       "2  84780    23   13      5   1.0  \n",
       "3  84600    23   13      5   1.0  \n",
       "4  84600    23   13      5   1.0  "
      ],
      "text/html": "<div>\n<style scoped>\n    .dataframe tbody tr th:only-of-type {\n        vertical-align: middle;\n    }\n\n    .dataframe tbody tr th {\n        vertical-align: top;\n    }\n\n    .dataframe thead th {\n        text-align: right;\n    }\n</style>\n<table border=\"1\" class=\"dataframe\">\n  <thead>\n    <tr style=\"text-align: right;\">\n      <th></th>\n      <th>Dates</th>\n      <th>Category</th>\n      <th>DayOfWeek</th>\n      <th>PdDistrict</th>\n      <th>X</th>\n      <th>Y</th>\n      <th>Time</th>\n      <th>Hour</th>\n      <th>Day</th>\n      <th>Month</th>\n      <th>Year</th>\n    </tr>\n  </thead>\n  <tbody>\n    <tr>\n      <th>0</th>\n      <td>2015-05-13 23:53:00</td>\n      <td>0</td>\n      <td>2</td>\n      <td>NORTHERN</td>\n      <td>-122.425892</td>\n      <td>37.774599</td>\n      <td>85980</td>\n      <td>23</td>\n      <td>13</td>\n      <td>5</td>\n      <td>1.0</td>\n    </tr>\n    <tr>\n      <th>1</th>\n      <td>2015-05-13 23:53:00</td>\n      <td>1</td>\n      <td>2</td>\n      <td>NORTHERN</td>\n      <td>-122.425892</td>\n      <td>37.774599</td>\n      <td>85980</td>\n      <td>23</td>\n      <td>13</td>\n      <td>5</td>\n      <td>1.0</td>\n    </tr>\n    <tr>\n      <th>2</th>\n      <td>2015-05-13 23:33:00</td>\n      <td>1</td>\n      <td>2</td>\n      <td>NORTHERN</td>\n      <td>-122.424363</td>\n      <td>37.800414</td>\n      <td>84780</td>\n      <td>23</td>\n      <td>13</td>\n      <td>5</td>\n      <td>1.0</td>\n    </tr>\n    <tr>\n      <th>3</th>\n      <td>2015-05-13 23:30:00</td>\n      <td>2</td>\n      <td>2</td>\n      <td>NORTHERN</td>\n      <td>-122.426995</td>\n      <td>37.800873</td>\n      <td>84600</td>\n      <td>23</td>\n      <td>13</td>\n      <td>5</td>\n      <td>1.0</td>\n    </tr>\n    <tr>\n      <th>4</th>\n      <td>2015-05-13 23:30:00</td>\n      <td>2</td>\n      <td>2</td>\n      <td>PARK</td>\n      <td>-122.438738</td>\n      <td>37.771541</td>\n      <td>84600</td>\n      <td>23</td>\n      <td>13</td>\n      <td>5</td>\n      <td>1.0</td>\n    </tr>\n  </tbody>\n</table>\n</div>"
     },
     "metadata": {},
     "execution_count": 5
    }
   ],
   "source": [
    "#Cell to run if you want to have year normalized between -1 and 1\n",
    "def normalize_year(data):\n",
    "    years = data.Dates.dt.year.unique()\n",
    "    years = sorted(years)\n",
    "    a = 2/(years[-1] - years[0])\n",
    "    b = -a*(years[-1]+years[0])/2\n",
    "    data['Year'].replace(to_replace=years,value=[a*year +b for year in years],inplace=True)\n",
    "\n",
    "normalize_year(train_data)\n",
    "train_data.head()"
   ]
  },
  {
   "cell_type": "code",
   "execution_count": 6,
   "metadata": {},
   "outputs": [
    {
     "output_type": "execute_result",
     "data": {
      "text/plain": [
       "                Dates  Category  DayOfWeek           X          Y   Time  \\\n",
       "0 2015-05-13 23:53:00         0          2 -122.425892  37.774599  85980   \n",
       "1 2015-05-13 23:53:00         1          2 -122.425892  37.774599  85980   \n",
       "2 2015-05-13 23:33:00         1          2 -122.424363  37.800414  84780   \n",
       "3 2015-05-13 23:30:00         2          2 -122.426995  37.800873  84600   \n",
       "4 2015-05-13 23:30:00         2          2 -122.438738  37.771541  84600   \n",
       "\n",
       "   Hour  Day  Month  Year  X_Bar_District  Y_Bar_District  \n",
       "0    23   13      5   1.0     -122.426647       37.786379  \n",
       "1    23   13      5   1.0     -122.426647       37.786379  \n",
       "2    23   13      5   1.0     -122.426647       37.786379  \n",
       "3    23   13      5   1.0     -122.426647       37.786379  \n",
       "4    23   13      5   1.0     -122.445448       37.770299  "
      ],
      "text/html": "<div>\n<style scoped>\n    .dataframe tbody tr th:only-of-type {\n        vertical-align: middle;\n    }\n\n    .dataframe tbody tr th {\n        vertical-align: top;\n    }\n\n    .dataframe thead th {\n        text-align: right;\n    }\n</style>\n<table border=\"1\" class=\"dataframe\">\n  <thead>\n    <tr style=\"text-align: right;\">\n      <th></th>\n      <th>Dates</th>\n      <th>Category</th>\n      <th>DayOfWeek</th>\n      <th>X</th>\n      <th>Y</th>\n      <th>Time</th>\n      <th>Hour</th>\n      <th>Day</th>\n      <th>Month</th>\n      <th>Year</th>\n      <th>X_Bar_District</th>\n      <th>Y_Bar_District</th>\n    </tr>\n  </thead>\n  <tbody>\n    <tr>\n      <th>0</th>\n      <td>2015-05-13 23:53:00</td>\n      <td>0</td>\n      <td>2</td>\n      <td>-122.425892</td>\n      <td>37.774599</td>\n      <td>85980</td>\n      <td>23</td>\n      <td>13</td>\n      <td>5</td>\n      <td>1.0</td>\n      <td>-122.426647</td>\n      <td>37.786379</td>\n    </tr>\n    <tr>\n      <th>1</th>\n      <td>2015-05-13 23:53:00</td>\n      <td>1</td>\n      <td>2</td>\n      <td>-122.425892</td>\n      <td>37.774599</td>\n      <td>85980</td>\n      <td>23</td>\n      <td>13</td>\n      <td>5</td>\n      <td>1.0</td>\n      <td>-122.426647</td>\n      <td>37.786379</td>\n    </tr>\n    <tr>\n      <th>2</th>\n      <td>2015-05-13 23:33:00</td>\n      <td>1</td>\n      <td>2</td>\n      <td>-122.424363</td>\n      <td>37.800414</td>\n      <td>84780</td>\n      <td>23</td>\n      <td>13</td>\n      <td>5</td>\n      <td>1.0</td>\n      <td>-122.426647</td>\n      <td>37.786379</td>\n    </tr>\n    <tr>\n      <th>3</th>\n      <td>2015-05-13 23:30:00</td>\n      <td>2</td>\n      <td>2</td>\n      <td>-122.426995</td>\n      <td>37.800873</td>\n      <td>84600</td>\n      <td>23</td>\n      <td>13</td>\n      <td>5</td>\n      <td>1.0</td>\n      <td>-122.426647</td>\n      <td>37.786379</td>\n    </tr>\n    <tr>\n      <th>4</th>\n      <td>2015-05-13 23:30:00</td>\n      <td>2</td>\n      <td>2</td>\n      <td>-122.438738</td>\n      <td>37.771541</td>\n      <td>84600</td>\n      <td>23</td>\n      <td>13</td>\n      <td>5</td>\n      <td>1.0</td>\n      <td>-122.445448</td>\n      <td>37.770299</td>\n    </tr>\n  </tbody>\n</table>\n</div>"
     },
     "metadata": {},
     "execution_count": 6
    }
   ],
   "source": [
    "def District_barycenters(data):\n",
    "    Districts = data['PdDistrict'].unique()\n",
    "    Bary_coord = {}\n",
    "    for i in range(len(Districts)):\n",
    "        test = data[['PdDistrict','X','Y']]\n",
    "        district = test.loc[test['PdDistrict']==Districts[i],:]\n",
    "        abs = district['X']\n",
    "        ord = district['Y']\n",
    "        mean_abs = abs.mean()\n",
    "        mean_ord = ord.mean()\n",
    "        Bary_coord[Districts[i]] = (mean_abs,mean_ord)\n",
    "    data['X_Bar_District'] = data['PdDistrict']\n",
    "    data['Y_Bar_District'] = data['PdDistrict']\n",
    "    data.drop('PdDistrict', inplace = True, axis=1)\n",
    "    data['X_Bar_District'].replace(to_replace=Districts,value=[Bary_coord[Districts[i]][0] for i in range(len(Districts))],                   inplace=True)\n",
    "    data['Y_Bar_District'].replace(to_replace=Districts,value=[Bary_coord[Districts[i]][1] for i in range(len(Districts))],                   inplace=True)\n",
    "District_barycenters(train_data)\n",
    "train_data.head()"
   ]
  },
  {
   "cell_type": "code",
   "execution_count": 7,
   "metadata": {},
   "outputs": [],
   "source": [
    "def percentage_per_category(data):\n",
    "    percentage_per_category = np.zeros(39)\n",
    "    for c in range(39):\n",
    "        #compute the percentage of category c in data\n",
    "        percentage_per_category[c] = data.loc[data['Category']==c,:].count().unique()/len(data) \n",
    "    return percentage_per_category"
   ]
  },
  {
   "cell_type": "code",
   "execution_count": 8,
   "metadata": {},
   "outputs": [],
   "source": [
    "# this function enables to add data in the sample in order to minimize (less than epsilon = 1e-3 here) the gap between the proportion of\n",
    "# each category in the real data (df) and in the sample (dfsample)\n",
    "def rebuild_data(data,sample, epsilon = 1e-3):\n",
    "    real_percentage = percentage_per_category(data)\n",
    "    proportion = percentage_per_category(sample)\n",
    "    category = np.sort(data['Category'].unique())\n",
    "    N = len(category)\n",
    "    for i in range(N):\n",
    "        m = category[i]\n",
    "        incomplete = True\n",
    "        error = np.abs(real_percentage[m] - proportion[m])\n",
    "        while incomplete:\n",
    "            data_cat = data.loc[data['Category'] == m,:]\n",
    "            n = len(data_cat)\n",
    "            index = np.random.randint(1,n)\n",
    "            new_line = data_cat[index:index+1]\n",
    "            sample = sample.append(new_line,ignore_index = True)\n",
    "            proportion = percentage_per_category(sample)\n",
    "            incomplete = real_percentage[m] - proportion[m] > epsilon\n",
    "            error = np.abs(real_percentage[m] - proportion[m])\n",
    "    return sample"
   ]
  },
  {
   "cell_type": "code",
   "execution_count": 9,
   "metadata": {},
   "outputs": [
    {
     "output_type": "execute_result",
     "data": {
      "text/plain": [
       "   Category           X          Y  Year  X_Bar_District  Y_Bar_District  \\\n",
       "0         0 -122.425892  37.774599   1.0     -122.426647       37.786379   \n",
       "1         1 -122.425892  37.774599   1.0     -122.426647       37.786379   \n",
       "2         1 -122.424363  37.800414   1.0     -122.426647       37.786379   \n",
       "3         2 -122.426995  37.800873   1.0     -122.426647       37.786379   \n",
       "4         2 -122.438738  37.771541   1.0     -122.445448       37.770299   \n",
       "\n",
       "   Sin_Year  Cos_Year  Sin_Hour  Cos_Hour  Sin_Day_m  Cos_Day_m  Sin_Month  \\\n",
       "0 -0.030539  0.999534 -0.258819  0.965926   0.485302  -0.874347        0.5   \n",
       "1 -0.030539  0.999534 -0.258819  0.965926   0.485302  -0.874347        0.5   \n",
       "2 -0.117537  0.993068 -0.258819  0.965926   0.485302  -0.874347        0.5   \n",
       "3 -0.130526  0.991445 -0.258819  0.965926   0.485302  -0.874347        0.5   \n",
       "4 -0.130526  0.991445 -0.258819  0.965926   0.485302  -0.874347        0.5   \n",
       "\n",
       "   Cos_Month  Sin_Day_w  Cos_Day_w  \n",
       "0  -0.866025   0.974928  -0.222521  \n",
       "1  -0.866025   0.974928  -0.222521  \n",
       "2  -0.866025   0.974928  -0.222521  \n",
       "3  -0.866025   0.974928  -0.222521  \n",
       "4  -0.866025   0.974928  -0.222521  "
      ],
      "text/html": "<div>\n<style scoped>\n    .dataframe tbody tr th:only-of-type {\n        vertical-align: middle;\n    }\n\n    .dataframe tbody tr th {\n        vertical-align: top;\n    }\n\n    .dataframe thead th {\n        text-align: right;\n    }\n</style>\n<table border=\"1\" class=\"dataframe\">\n  <thead>\n    <tr style=\"text-align: right;\">\n      <th></th>\n      <th>Category</th>\n      <th>X</th>\n      <th>Y</th>\n      <th>Year</th>\n      <th>X_Bar_District</th>\n      <th>Y_Bar_District</th>\n      <th>Sin_Year</th>\n      <th>Cos_Year</th>\n      <th>Sin_Hour</th>\n      <th>Cos_Hour</th>\n      <th>Sin_Day_m</th>\n      <th>Cos_Day_m</th>\n      <th>Sin_Month</th>\n      <th>Cos_Month</th>\n      <th>Sin_Day_w</th>\n      <th>Cos_Day_w</th>\n    </tr>\n  </thead>\n  <tbody>\n    <tr>\n      <th>0</th>\n      <td>0</td>\n      <td>-122.425892</td>\n      <td>37.774599</td>\n      <td>1.0</td>\n      <td>-122.426647</td>\n      <td>37.786379</td>\n      <td>-0.030539</td>\n      <td>0.999534</td>\n      <td>-0.258819</td>\n      <td>0.965926</td>\n      <td>0.485302</td>\n      <td>-0.874347</td>\n      <td>0.5</td>\n      <td>-0.866025</td>\n      <td>0.974928</td>\n      <td>-0.222521</td>\n    </tr>\n    <tr>\n      <th>1</th>\n      <td>1</td>\n      <td>-122.425892</td>\n      <td>37.774599</td>\n      <td>1.0</td>\n      <td>-122.426647</td>\n      <td>37.786379</td>\n      <td>-0.030539</td>\n      <td>0.999534</td>\n      <td>-0.258819</td>\n      <td>0.965926</td>\n      <td>0.485302</td>\n      <td>-0.874347</td>\n      <td>0.5</td>\n      <td>-0.866025</td>\n      <td>0.974928</td>\n      <td>-0.222521</td>\n    </tr>\n    <tr>\n      <th>2</th>\n      <td>1</td>\n      <td>-122.424363</td>\n      <td>37.800414</td>\n      <td>1.0</td>\n      <td>-122.426647</td>\n      <td>37.786379</td>\n      <td>-0.117537</td>\n      <td>0.993068</td>\n      <td>-0.258819</td>\n      <td>0.965926</td>\n      <td>0.485302</td>\n      <td>-0.874347</td>\n      <td>0.5</td>\n      <td>-0.866025</td>\n      <td>0.974928</td>\n      <td>-0.222521</td>\n    </tr>\n    <tr>\n      <th>3</th>\n      <td>2</td>\n      <td>-122.426995</td>\n      <td>37.800873</td>\n      <td>1.0</td>\n      <td>-122.426647</td>\n      <td>37.786379</td>\n      <td>-0.130526</td>\n      <td>0.991445</td>\n      <td>-0.258819</td>\n      <td>0.965926</td>\n      <td>0.485302</td>\n      <td>-0.874347</td>\n      <td>0.5</td>\n      <td>-0.866025</td>\n      <td>0.974928</td>\n      <td>-0.222521</td>\n    </tr>\n    <tr>\n      <th>4</th>\n      <td>2</td>\n      <td>-122.438738</td>\n      <td>37.771541</td>\n      <td>1.0</td>\n      <td>-122.445448</td>\n      <td>37.770299</td>\n      <td>-0.130526</td>\n      <td>0.991445</td>\n      <td>-0.258819</td>\n      <td>0.965926</td>\n      <td>0.485302</td>\n      <td>-0.874347</td>\n      <td>0.5</td>\n      <td>-0.866025</td>\n      <td>0.974928</td>\n      <td>-0.222521</td>\n    </tr>\n  </tbody>\n</table>\n</div>"
     },
     "metadata": {},
     "execution_count": 9
    }
   ],
   "source": [
    "#Cell to run if you want to have cyclic year\n",
    "\n",
    "train_data['Sin_Year'] = np.sin(2 * np.pi * train_data['Time'] / (24*60*60))  # cycle rpz to explore \n",
    "train_data['Cos_Year'] = np.cos(2 * np.pi * train_data['Time'] / (24*60*60))\n",
    "\n",
    "train_data['Sin_Hour'] = np.sin(2 * np.pi * train_data['Hour'] / 24)  # cycle rpz to explore \n",
    "train_data['Cos_Hour'] = np.cos(2 * np.pi * train_data['Hour'] / 24)\n",
    "\n",
    "train_data['Sin_Day_m'] = np.sin(2 * np.pi * train_data['Day'] / 31)  # cycle rpz to explore \n",
    "train_data['Cos_Day_m'] = np.cos(2 * np.pi * train_data['Day'] / 31) \n",
    "\n",
    "train_data['Sin_Month'] = np.sin(2 * np.pi * train_data['Month'] / 12)  # cycle rpz to explore \n",
    "train_data['Cos_Month'] = np.cos(2 * np.pi * train_data['Month'] / 12) \n",
    "\n",
    "train_data['Sin_Day_w'] = np.sin(2 * np.pi * train_data['DayOfWeek'] / 7)  # cycle rpz to explore \n",
    "train_data['Cos_Day_w'] = np.cos(2 * np.pi * train_data['DayOfWeek'] / 7) \n",
    "\n",
    "train_data.drop(['Dates','Time','Hour','Day','Month','DayOfWeek'],inplace =True, axis=1)\n",
    "\n",
    "train_data.head()"
   ]
  },
  {
   "cell_type": "code",
   "execution_count": 10,
   "metadata": {},
   "outputs": [
    {
     "output_type": "stream",
     "name": "stdout",
     "text": [
      "test data loaded\n"
     ]
    },
    {
     "output_type": "execute_result",
     "data": {
      "text/plain": [
       "            X          Y  Year  X_Bar_District  Y_Bar_District  Sin_Time  \\\n",
       "0 -122.399588  37.735051   1.0     -122.393457       37.740094 -0.004363   \n",
       "1 -122.391523  37.732432   1.0     -122.393457       37.740094 -0.039260   \n",
       "2 -122.426002  37.792212   1.0     -122.426336       37.795198 -0.043619   \n",
       "3 -122.437394  37.721412   1.0     -122.428722       37.728411 -0.065403   \n",
       "4 -122.437394  37.721412   1.0     -122.428722       37.728411 -0.065403   \n",
       "\n",
       "   Cos_Time  Sin_Hour  Cos_Hour  Sin_Day_m  Cos_Day_m  Sin_Month  Cos_Month  \\\n",
       "0  0.999990 -0.258819  0.965926   0.897805  -0.440394        0.5  -0.866025   \n",
       "1  0.999229 -0.258819  0.965926   0.897805  -0.440394        0.5  -0.866025   \n",
       "2  0.999048 -0.258819  0.965926   0.897805  -0.440394        0.5  -0.866025   \n",
       "3  0.997859 -0.258819  0.965926   0.897805  -0.440394        0.5  -0.866025   \n",
       "4  0.997859 -0.258819  0.965926   0.897805  -0.440394        0.5  -0.866025   \n",
       "\n",
       "   Sin_Day_w  Cos_Day_w  \n",
       "0  -0.781831    0.62349  \n",
       "1  -0.781831    0.62349  \n",
       "2  -0.781831    0.62349  \n",
       "3  -0.781831    0.62349  \n",
       "4  -0.781831    0.62349  "
      ],
      "text/html": "<div>\n<style scoped>\n    .dataframe tbody tr th:only-of-type {\n        vertical-align: middle;\n    }\n\n    .dataframe tbody tr th {\n        vertical-align: top;\n    }\n\n    .dataframe thead th {\n        text-align: right;\n    }\n</style>\n<table border=\"1\" class=\"dataframe\">\n  <thead>\n    <tr style=\"text-align: right;\">\n      <th></th>\n      <th>X</th>\n      <th>Y</th>\n      <th>Year</th>\n      <th>X_Bar_District</th>\n      <th>Y_Bar_District</th>\n      <th>Sin_Time</th>\n      <th>Cos_Time</th>\n      <th>Sin_Hour</th>\n      <th>Cos_Hour</th>\n      <th>Sin_Day_m</th>\n      <th>Cos_Day_m</th>\n      <th>Sin_Month</th>\n      <th>Cos_Month</th>\n      <th>Sin_Day_w</th>\n      <th>Cos_Day_w</th>\n    </tr>\n  </thead>\n  <tbody>\n    <tr>\n      <th>0</th>\n      <td>-122.399588</td>\n      <td>37.735051</td>\n      <td>1.0</td>\n      <td>-122.393457</td>\n      <td>37.740094</td>\n      <td>-0.004363</td>\n      <td>0.999990</td>\n      <td>-0.258819</td>\n      <td>0.965926</td>\n      <td>0.897805</td>\n      <td>-0.440394</td>\n      <td>0.5</td>\n      <td>-0.866025</td>\n      <td>-0.781831</td>\n      <td>0.62349</td>\n    </tr>\n    <tr>\n      <th>1</th>\n      <td>-122.391523</td>\n      <td>37.732432</td>\n      <td>1.0</td>\n      <td>-122.393457</td>\n      <td>37.740094</td>\n      <td>-0.039260</td>\n      <td>0.999229</td>\n      <td>-0.258819</td>\n      <td>0.965926</td>\n      <td>0.897805</td>\n      <td>-0.440394</td>\n      <td>0.5</td>\n      <td>-0.866025</td>\n      <td>-0.781831</td>\n      <td>0.62349</td>\n    </tr>\n    <tr>\n      <th>2</th>\n      <td>-122.426002</td>\n      <td>37.792212</td>\n      <td>1.0</td>\n      <td>-122.426336</td>\n      <td>37.795198</td>\n      <td>-0.043619</td>\n      <td>0.999048</td>\n      <td>-0.258819</td>\n      <td>0.965926</td>\n      <td>0.897805</td>\n      <td>-0.440394</td>\n      <td>0.5</td>\n      <td>-0.866025</td>\n      <td>-0.781831</td>\n      <td>0.62349</td>\n    </tr>\n    <tr>\n      <th>3</th>\n      <td>-122.437394</td>\n      <td>37.721412</td>\n      <td>1.0</td>\n      <td>-122.428722</td>\n      <td>37.728411</td>\n      <td>-0.065403</td>\n      <td>0.997859</td>\n      <td>-0.258819</td>\n      <td>0.965926</td>\n      <td>0.897805</td>\n      <td>-0.440394</td>\n      <td>0.5</td>\n      <td>-0.866025</td>\n      <td>-0.781831</td>\n      <td>0.62349</td>\n    </tr>\n    <tr>\n      <th>4</th>\n      <td>-122.437394</td>\n      <td>37.721412</td>\n      <td>1.0</td>\n      <td>-122.428722</td>\n      <td>37.728411</td>\n      <td>-0.065403</td>\n      <td>0.997859</td>\n      <td>-0.258819</td>\n      <td>0.965926</td>\n      <td>0.897805</td>\n      <td>-0.440394</td>\n      <td>0.5</td>\n      <td>-0.866025</td>\n      <td>-0.781831</td>\n      <td>0.62349</td>\n    </tr>\n  </tbody>\n</table>\n</div>"
     },
     "metadata": {},
     "execution_count": 10
    }
   ],
   "source": [
    "test_data = pd.read_csv('data/test.csv')\n",
    "print('test data loaded')\n",
    "test_data.drop(['Address'],inplace =True, axis=1)  #data useless, unsignificant\n",
    "test_data['DayOfWeek'].replace(to_replace=['Monday','Tuesday','Wednesday','Thursday','Friday','Saturday','Sunday'],value=[i for i in range(0,7)],inplace=True)\n",
    "\n",
    "test_data.Dates = pd.to_datetime(test_data.Dates)\n",
    "test_data['Time'] = test_data.Dates.dt.hour*3600 + test_data.Dates.dt.minute*60 + test_data.Dates.dt.second\n",
    "test_data['Hour'] = test_data.Dates.dt.hour\n",
    "test_data['Day'] = test_data.Dates.dt.day\n",
    "test_data['Month']=test_data.Dates.dt.month\n",
    "test_data['Year']=test_data.Dates.dt.year\n",
    "for key in ['Time','Hour','Day','Month','Year']:\n",
    "    test_data[key]=pd.to_numeric(test_data[key])\n",
    "normalize_year(test_data)\n",
    "District_barycenters(test_data)\n",
    "\n",
    "test_data['Sin_Time'] = np.sin(2 * np.pi * test_data['Time'] / (24*60*60))  # cycle rpz to explore \n",
    "test_data['Cos_Time'] = np.cos(2 * np.pi * test_data['Time'] / (24*60*60))\n",
    "\n",
    "test_data['Sin_Hour'] = np.sin(2 * np.pi * test_data['Hour'] / 24)  # cycle rpz to explore \n",
    "test_data['Cos_Hour'] = np.cos(2 * np.pi * test_data['Hour'] / 24)\n",
    "\n",
    "test_data['Sin_Day_m'] = np.sin(2 * np.pi * test_data['Day'] / 31)  # cycle rpz to explore \n",
    "test_data['Cos_Day_m'] = np.cos(2 * np.pi * test_data['Day'] / 31) \n",
    "\n",
    "test_data['Sin_Month'] = np.sin(2 * np.pi * test_data['Month'] / 12)  # cycle rpz to explore \n",
    "test_data['Cos_Month'] = np.cos(2 * np.pi * test_data['Month'] / 12) \n",
    "\n",
    "test_data['Sin_Day_w'] = np.sin(2 * np.pi * test_data['DayOfWeek'] / 7)  # cycle rpz to explore \n",
    "test_data['Cos_Day_w'] = np.cos(2 * np.pi * test_data['DayOfWeek'] / 7) \n",
    "\n",
    "test_data.drop(['Id','Time','Hour','Day','Month','DayOfWeek','Dates'],inplace =True, axis=1)\n",
    "\n",
    "test_data.head()"
   ]
  },
  {
   "cell_type": "code",
   "execution_count": 11,
   "metadata": {},
   "outputs": [],
   "source": [
    "train_data.to_csv(\"pre_processing_train_data.csv\")\n",
    "test_data.to_csv(\"pre_processing_test_data.csv\")"
   ]
  }
 ],
 "metadata": {
  "kernelspec": {
   "name": "python382jvsc74a57bd0abbcb8d9f889b21e7a35a6fd68ea23faf5197f2c8b5b2ec68133d2c93754c3b5",
   "display_name": "Python 3.8.2 32-bit"
  },
  "language_info": {
   "codemirror_mode": {
    "name": "ipython",
    "version": 3
   },
   "file_extension": ".py",
   "mimetype": "text/x-python",
   "name": "python",
   "nbconvert_exporter": "python",
   "pygments_lexer": "ipython3",
   "version": "3.8.2"
  },
  "metadata": {
   "interpreter": {
    "hash": "48835d67319c7fa79cfd146833b8f8715a1d2e4cc5b6d93ebe0e6a7d47e9049f"
   }
  }
 },
 "nbformat": 4,
 "nbformat_minor": 5
}