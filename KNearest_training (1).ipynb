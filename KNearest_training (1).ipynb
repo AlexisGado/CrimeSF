{
  "nbformat": 4,
  "nbformat_minor": 0,
  "metadata": {
    "colab": {
      "name": "KNearest_training.ipynb",
      "provenance": []
    },
    "kernelspec": {
      "name": "python3",
      "display_name": "Python 3"
    },
    "language_info": {
      "name": "python"
    }
  },
  "cells": [
    {
      "cell_type": "markdown",
      "metadata": {
        "id": "vnUr3yVE6NeJ"
      },
      "source": [
        "We will first use the most basic approach to classify data: a knn classifier.\n",
        "\n",
        "La bibliothèque scikit learn en propose une implémentation simple d'utilisation. Les paramètres sur lesquels nous jouerons sont le nombre de voisins dans le knn, et la distance utilisée pour rapprocher-éloigner les éléments du datasets.\n",
        "\n",
        "The Scikit Learn API provides an efficient and easy-to-use implementation of the algorithm, with two parameters to play with : the number of neighhbors and the metric used to mesure the distance between elements.\n",
        "\n",
        "We use the $\\ell_p$ metric, with $p$ to optimize."
      ]
    },
    {
      "cell_type": "code",
      "metadata": {
        "colab": {
          "base_uri": "https://localhost:8080/"
        },
        "id": "EWrKM98P9G_C",
        "outputId": "c767b823-5330-4c1d-964f-3c8a0ebaf08a"
      },
      "source": [
        "# %cd /content/drive/MyDrive/Ponts/MachineLearning/CrimeSF_Malap"
      ],
      "execution_count": null,
      "outputs": [
        {
          "output_type": "stream",
          "text": [
            "/content/drive/MyDrive/Ponts/MachineLearning/CrimeSF_Malap\n"
          ],
          "name": "stdout"
        }
      ]
    },
    {
      "cell_type": "code",
      "metadata": {
        "id": "Fhdgyrvz9IQ5"
      },
      "source": [
        "import pandas as pd\n",
        "import numpy as np\n"
      ],
      "execution_count": null,
      "outputs": []
    },
    {
      "cell_type": "markdown",
      "metadata": {
        "id": "bHRNK1fM7Dda"
      },
      "source": [
        "We first get our pre-processed data. And then pick a sample to start running the algorithm and optimize the parameters."
      ]
    },
    {
      "cell_type": "code",
      "metadata": {
        "id": "680ewuk99MDp"
      },
      "source": [
        "train_data= pd.read_csv('data/pre_processing_train_data.csv')\n",
        "train_data=train_data.iloc[:,1:]"
      ],
      "execution_count": null,
      "outputs": []
    },
    {
      "cell_type": "code",
      "metadata": {
        "id": "cUHloykf9RTO"
      },
      "source": [
        "train_sample = train_data.sample(n=20000)\n",
        "train_labels=train_sample['Category']\n",
        "train_sample.drop('Category',inplace =True, axis=1)"
      ],
      "execution_count": null,
      "outputs": []
    },
    {
      "cell_type": "code",
      "metadata": {
        "id": "VHMKdKt49Y8B"
      },
      "source": [
        "from sklearn.neighbors import KNeighborsClassifier\n",
        "\n",
        "from sklearn.metrics import accuracy_score\n",
        "from sklearn.model_selection import train_test_split\n",
        "from sklearn.model_selection import cross_val_score\n",
        "from sklearn.metrics import log_loss"
      ],
      "execution_count": null,
      "outputs": []
    },
    {
      "cell_type": "code",
      "metadata": {
        "id": "1P8c1UAPCBgd"
      },
      "source": [
        "X = train_sample\n",
        "y = train_labels"
      ],
      "execution_count": null,
      "outputs": []
    },
    {
      "cell_type": "markdown",
      "metadata": {
        "id": "05OW6-gD7XVJ"
      },
      "source": [
        "We separate the labelled data into a train set and a test set, we will use to check our performances."
      ]
    },
    {
      "cell_type": "code",
      "metadata": {
        "id": "UkD8qD_kDh5L"
      },
      "source": [
        "X_train, X_test, y_train, y_test = train_test_split(X, y, test_size=0.2, random_state=42)"
      ],
      "execution_count": null,
      "outputs": []
    },
    {
      "cell_type": "code",
      "metadata": {
        "colab": {
          "base_uri": "https://localhost:8080/"
        },
        "id": "kSPP-BoxCZql",
        "outputId": "e105e598-989d-4468-a0c3-0b23b8a1af26"
      },
      "source": [
        "knn = KNeighborsClassifier(n_neighbors=9, p=1)\n",
        "knn.fit(X_train, y_train)\n",
        "\n",
        "p_pred = knn.predict_proba(X_test)\n",
        "\n",
        "print(accuracy_score(y_test, np.argmax(p_pred,axis=1)))"
      ],
      "execution_count": null,
      "outputs": [
        {
          "output_type": "stream",
          "text": [
            "0.15125\n"
          ],
          "name": "stdout"
        }
      ]
    },
    {
      "cell_type": "markdown",
      "metadata": {
        "id": "6KISmYPU66Ek"
      },
      "source": [
        "We now process a cross-validation on the two parameters of our knn : the number of neighbors and $p$."
      ]
    },
    {
      "cell_type": "code",
      "metadata": {
        "id": "liWKrmSwR_B2"
      },
      "source": [
        "def cross_val_knn(X,y,nb_range,p_range):\n",
        "    n=len(nb_range)\n",
        "    m=len(p_range)\n",
        "    res=np.zeros((n,m))\n",
        "    for i in range(n):\n",
        "        for j in range(m):\n",
        "            print((nb_range[i],p_range[j]))\n",
        "            knn = KNeighborsClassifier(n_neighbors=nb_range[i], p=p_range[j])\n",
        "            scores=cross_val_score(knn,X,y)\n",
        "            score=np.mean(scores)\n",
        "            print(score)\n",
        "            res[i,j]=score\n",
        "    (imax,jmax)=np.unravel_index(res.argmax(), res.shape)\n",
        "    return (nb_range[imax],p_range[jmax])\n",
        "\n",
        "n_voisins, p_opti = cross_val_knn(X,y,nb_range=range(1,21),p_range=range(1,6))\n"
      ],
      "execution_count": null,
      "outputs": []
    },
    {
      "cell_type": "markdown",
      "metadata": {
        "id": "F7vpuqPNmOAh"
      },
      "source": [
        "We will keep $n=20$ and $p=3$\n",
        "\n",
        "Taking that much neghbors will put the probability of the least represented cases to 0.\n",
        "\n",
        "We now train our knn on the whole dataset."
      ]
    },
    {
      "cell_type": "code",
      "metadata": {
        "id": "IRYGY7jrnJxE"
      },
      "source": [
        "train_data= pd.read_csv('data/pre_processing_train_data.csv')\n",
        "train_data=train_data.iloc[:,1:]\n",
        "train_labels=train_data['Category']\n",
        "train_data.drop('Category',inplace =True, axis=1)"
      ],
      "execution_count": null,
      "outputs": []
    },
    {
      "cell_type": "code",
      "metadata": {
        "colab": {
          "base_uri": "https://localhost:8080/"
        },
        "id": "XR3TRB7toNE4",
        "outputId": "c224e21c-c95d-4c2a-b3ec-dbaea8d81cc9"
      },
      "source": [
        "knn = KNeighborsClassifier(n_neighbors=20, p=3)\n",
        "knn.fit(train_data, train_labels)"
      ],
      "execution_count": null,
      "outputs": [
        {
          "output_type": "execute_result",
          "data": {
            "text/plain": [
              "KNeighborsClassifier(algorithm='auto', leaf_size=30, metric='minkowski',\n",
              "                     metric_params=None, n_jobs=None, n_neighbors=20, p=3,\n",
              "                     weights='uniform')"
            ]
          },
          "metadata": {
            "tags": []
          },
          "execution_count": 30
        }
      ]
    },
    {
      "cell_type": "code",
      "metadata": {
        "id": "d1enlIjPodXN"
      },
      "source": [
        "test_data = pd.read_csv('data/pre_processing_test_data.csv')\n",
        "test_data = test_data.iloc[:,1:]\n"
      ],
      "execution_count": null,
      "outputs": []
    },
    {
      "cell_type": "code",
      "metadata": {
        "id": "4oYpCBIRpBwl"
      },
      "source": [
        "p_pred = knn.predict_proba(test_data)\n",
        "prediction = np.argmax(p_pred,axis=1)\n"
      ],
      "execution_count": null,
      "outputs": []
    },
    {
      "cell_type": "markdown",
      "metadata": {
        "id": "PoXXdOEX2jmE"
      },
      "source": [
        "We keep our results in a npy table, so we won't have to evaluate on the whole dataset again.\n"
      ]
    },
    {
      "cell_type": "code",
      "metadata": {
        "id": "aRnryhFFsZbx"
      },
      "source": [
        "np.save('results/prediction.npy', p_pred)"
      ],
      "execution_count": null,
      "outputs": []
    },
    {
      "cell_type": "code",
      "metadata": {
        "colab": {
          "base_uri": "https://localhost:8080/"
        },
        "id": "zX869YLd6qzu",
        "outputId": "5a75f007-b7d4-4289-efa1-c7e36448d5a0"
      },
      "source": [
        "print(p_pred)"
      ],
      "execution_count": null,
      "outputs": [
        {
          "output_type": "stream",
          "text": [
            "[[0.05 0.25 0.15 ... 0.   0.   0.  ]\n",
            " [0.05 0.25 0.15 ... 0.   0.   0.  ]\n",
            " [0.05 0.25 0.2  ... 0.   0.   0.  ]\n",
            " ...\n",
            " [0.05 0.05 0.05 ... 0.   0.   0.  ]\n",
            " [0.05 0.05 0.05 ... 0.   0.   0.  ]\n",
            " [0.05 0.05 0.05 ... 0.   0.   0.  ]]\n"
          ],
          "name": "stdout"
        }
      ]
    },
    {
      "cell_type": "code",
      "metadata": {
        "id": "axAbrhWx7C_3"
      },
      "source": [
        ""
      ],
      "execution_count": null,
      "outputs": []
    }
  ]
}