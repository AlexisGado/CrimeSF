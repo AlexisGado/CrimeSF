{
 "cells": [
  {
   "cell_type": "markdown",
   "metadata": {},
   "source": [
    "# Crime classification in San Francisco"
   ]
  },
  {
   "cell_type": "code",
   "execution_count": 13,
   "metadata": {},
   "outputs": [
    {
     "output_type": "stream",
     "name": "stdout",
     "text": [
      "Requirement already satisfied: seaborn in /Users/ambroise/.conda/envs/Projet_DEP_NEPTUNE/lib/python3.8/site-packages (0.11.1)\n",
      "Requirement already satisfied: matplotlib>=2.2 in /Users/ambroise/.conda/envs/Projet_DEP_NEPTUNE/lib/python3.8/site-packages (from seaborn) (3.4.2)\n",
      "Requirement already satisfied: scipy>=1.0 in /Users/ambroise/.conda/envs/Projet_DEP_NEPTUNE/lib/python3.8/site-packages (from seaborn) (1.6.3)\n",
      "Requirement already satisfied: numpy>=1.15 in /Users/ambroise/.conda/envs/Projet_DEP_NEPTUNE/lib/python3.8/site-packages (from seaborn) (1.19.2)\n",
      "Requirement already satisfied: pandas>=0.23 in /Users/ambroise/.conda/envs/Projet_DEP_NEPTUNE/lib/python3.8/site-packages (from seaborn) (1.2.4)\n",
      "Requirement already satisfied: python-dateutil>=2.7 in /Users/ambroise/.conda/envs/Projet_DEP_NEPTUNE/lib/python3.8/site-packages (from matplotlib>=2.2->seaborn) (2.8.1)\n",
      "Requirement already satisfied: pillow>=6.2.0 in /Users/ambroise/.conda/envs/Projet_DEP_NEPTUNE/lib/python3.8/site-packages (from matplotlib>=2.2->seaborn) (8.2.0)\n",
      "Requirement already satisfied: cycler>=0.10 in /Users/ambroise/.conda/envs/Projet_DEP_NEPTUNE/lib/python3.8/site-packages (from matplotlib>=2.2->seaborn) (0.10.0)\n",
      "Requirement already satisfied: pyparsing>=2.2.1 in /Users/ambroise/.conda/envs/Projet_DEP_NEPTUNE/lib/python3.8/site-packages (from matplotlib>=2.2->seaborn) (2.4.7)\n",
      "Requirement already satisfied: kiwisolver>=1.0.1 in /Users/ambroise/.conda/envs/Projet_DEP_NEPTUNE/lib/python3.8/site-packages (from matplotlib>=2.2->seaborn) (1.3.1)\n",
      "Requirement already satisfied: six in /Users/ambroise/.conda/envs/Projet_DEP_NEPTUNE/lib/python3.8/site-packages (from cycler>=0.10->matplotlib>=2.2->seaborn) (1.15.0)\n",
      "Requirement already satisfied: pytz>=2017.3 in /Users/ambroise/.conda/envs/Projet_DEP_NEPTUNE/lib/python3.8/site-packages (from pandas>=0.23->seaborn) (2021.1)\n",
      "Collecting sklearn\n",
      "  Using cached sklearn-0.0-py2.py3-none-any.whl\n",
      "Collecting scikit-learn\n",
      "  Downloading scikit-learn-0.24.2.tar.gz (7.5 MB)\n",
      "\u001b[K     |████████████████████████████████| 7.5 MB 3.3 MB/s \n",
      "\u001b[?25h  Installing build dependencies ... \u001b[?25ldone\n",
      "\u001b[?25h  Getting requirements to build wheel ... \u001b[?25ldone\n",
      "\u001b[?25h    Preparing wheel metadata ... \u001b[?25ldone\n",
      "\u001b[?25hRequirement already satisfied: scipy>=0.19.1 in /Users/ambroise/.conda/envs/Projet_DEP_NEPTUNE/lib/python3.8/site-packages (from scikit-learn->sklearn) (1.6.3)\n",
      "Collecting threadpoolctl>=2.0.0\n",
      "  Using cached threadpoolctl-2.1.0-py3-none-any.whl (12 kB)\n",
      "Requirement already satisfied: numpy>=1.13.3 in /Users/ambroise/.conda/envs/Projet_DEP_NEPTUNE/lib/python3.8/site-packages (from scikit-learn->sklearn) (1.19.2)\n",
      "Collecting joblib>=0.11\n",
      "  Using cached joblib-1.0.1-py3-none-any.whl (303 kB)\n",
      "Building wheels for collected packages: scikit-learn\n",
      "  Building wheel for scikit-learn (PEP 517) ... \u001b[?25ldone\n",
      "\u001b[?25h  Created wheel for scikit-learn: filename=scikit_learn-0.24.2-cp38-cp38-macosx_10_12_x86_64.whl size=6925509 sha256=00341f1175d0a174281b1effee887ce29974fd67b8987367225d17a7b73fe546\n",
      "  Stored in directory: /Users/ambroise/Library/Caches/pip/wheels/31/45/1f/fc9aaa71ae68c7ff2e69fe8317c71c947df74166fb187f7de0\n",
      "Successfully built scikit-learn\n",
      "Installing collected packages: threadpoolctl, joblib, scikit-learn, sklearn\n",
      "Successfully installed joblib-1.0.1 scikit-learn-0.24.2 sklearn-0.0 threadpoolctl-2.1.0\n"
     ]
    }
   ],
   "source": [
    "# Run these to install package with pip for the right python install\n",
    "\n",
    "import sys\n",
    "!{sys.executable} -m pip install seaborn\n",
    "!{sys.executable} -m pip install sklearn"
   ]
  },
  {
   "cell_type": "code",
   "execution_count": 29,
   "metadata": {},
   "outputs": [
    {
     "output_type": "execute_result",
     "data": {
      "text/plain": [
       "<Figure size 1080x720 with 0 Axes>"
      ]
     },
     "metadata": {},
     "execution_count": 29
    },
    {
     "output_type": "display_data",
     "data": {
      "text/plain": "<Figure size 1080x720 with 0 Axes>"
     },
     "metadata": {}
    }
   ],
   "source": [
    "import pandas as pd\n",
    "import seaborn as sns\n",
    "#%matplotlib nbagg\n",
    "import matplotlib.pyplot as plt\n",
    "import numpy as np\n",
    "\n",
    "def log_loss(p_pred,y):\n",
    "    y_true=np.array(y)\n",
    "    loss=0\n",
    "    for i in range(len(p_pred)):\n",
    "        if p_pred.shape[1]<=y_true[i]:\n",
    "            loss-=np.log(1e-15)\n",
    "        else:\n",
    "            loss-=np.log(p_pred[i,y_true[i]]+1e-15)\n",
    "    return loss/len(p_pred)\n",
    "\n",
    "sns.set_theme()\n",
    "plt.figure(figsize=(15,10))"
   ]
  },
  {
   "cell_type": "code",
   "execution_count": 78,
   "metadata": {},
   "outputs": [
    {
     "output_type": "stream",
     "name": "stdout",
     "text": [
      "data loaded\n"
     ]
    }
   ],
   "source": [
    "#Read data\n",
    "\n",
    "df = pd.read_csv('data/train.csv')\n",
    "print('data loaded')"
   ]
  },
  {
   "cell_type": "code",
   "execution_count": 79,
   "metadata": {},
   "outputs": [
    {
     "output_type": "stream",
     "name": "stdout",
     "text": [
      "['WARRANTS' 'OTHER OFFENSES' 'LARCENY/THEFT' 'VEHICLE THEFT' 'VANDALISM'\n 'NON-CRIMINAL' 'ROBBERY' 'ASSAULT' 'WEAPON LAWS' 'BURGLARY'\n 'SUSPICIOUS OCC' 'DRUNKENNESS' 'FORGERY/COUNTERFEITING' 'DRUG/NARCOTIC'\n 'STOLEN PROPERTY' 'SECONDARY CODES' 'TRESPASS' 'MISSING PERSON' 'FRAUD'\n 'KIDNAPPING' 'RUNAWAY' 'DRIVING UNDER THE INFLUENCE'\n 'SEX OFFENSES FORCIBLE' 'PROSTITUTION' 'DISORDERLY CONDUCT' 'ARSON'\n 'FAMILY OFFENSES' 'LIQUOR LAWS' 'BRIBERY' 'EMBEZZLEMENT' 'SUICIDE'\n 'LOITERING' 'SEX OFFENSES NON FORCIBLE' 'EXTORTION' 'GAMBLING'\n 'BAD CHECKS' 'TREA' 'RECOVERED VEHICLE' 'PORNOGRAPHY/OBSCENE MAT']\n"
     ]
    },
    {
     "output_type": "execute_result",
     "data": {
      "text/plain": [
       "                 Dates        Category  DayOfWeek PdDistrict           X  \\\n",
       "0  2015-05-13 23:53:00        WARRANTS          2   NORTHERN -122.425892   \n",
       "1  2015-05-13 23:53:00  OTHER OFFENSES          2   NORTHERN -122.425892   \n",
       "2  2015-05-13 23:33:00  OTHER OFFENSES          2   NORTHERN -122.424363   \n",
       "3  2015-05-13 23:30:00   LARCENY/THEFT          2   NORTHERN -122.426995   \n",
       "4  2015-05-13 23:30:00   LARCENY/THEFT          2       PARK -122.438738   \n",
       "\n",
       "           Y  \n",
       "0  37.774599  \n",
       "1  37.774599  \n",
       "2  37.800414  \n",
       "3  37.800873  \n",
       "4  37.771541  "
      ],
      "text/html": "<div>\n<style scoped>\n    .dataframe tbody tr th:only-of-type {\n        vertical-align: middle;\n    }\n\n    .dataframe tbody tr th {\n        vertical-align: top;\n    }\n\n    .dataframe thead th {\n        text-align: right;\n    }\n</style>\n<table border=\"1\" class=\"dataframe\">\n  <thead>\n    <tr style=\"text-align: right;\">\n      <th></th>\n      <th>Dates</th>\n      <th>Category</th>\n      <th>DayOfWeek</th>\n      <th>PdDistrict</th>\n      <th>X</th>\n      <th>Y</th>\n    </tr>\n  </thead>\n  <tbody>\n    <tr>\n      <th>0</th>\n      <td>2015-05-13 23:53:00</td>\n      <td>WARRANTS</td>\n      <td>2</td>\n      <td>NORTHERN</td>\n      <td>-122.425892</td>\n      <td>37.774599</td>\n    </tr>\n    <tr>\n      <th>1</th>\n      <td>2015-05-13 23:53:00</td>\n      <td>OTHER OFFENSES</td>\n      <td>2</td>\n      <td>NORTHERN</td>\n      <td>-122.425892</td>\n      <td>37.774599</td>\n    </tr>\n    <tr>\n      <th>2</th>\n      <td>2015-05-13 23:33:00</td>\n      <td>OTHER OFFENSES</td>\n      <td>2</td>\n      <td>NORTHERN</td>\n      <td>-122.424363</td>\n      <td>37.800414</td>\n    </tr>\n    <tr>\n      <th>3</th>\n      <td>2015-05-13 23:30:00</td>\n      <td>LARCENY/THEFT</td>\n      <td>2</td>\n      <td>NORTHERN</td>\n      <td>-122.426995</td>\n      <td>37.800873</td>\n    </tr>\n    <tr>\n      <th>4</th>\n      <td>2015-05-13 23:30:00</td>\n      <td>LARCENY/THEFT</td>\n      <td>2</td>\n      <td>PARK</td>\n      <td>-122.438738</td>\n      <td>37.771541</td>\n    </tr>\n  </tbody>\n</table>\n</div>"
     },
     "metadata": {},
     "execution_count": 79
    }
   ],
   "source": [
    "#Get categories (output to find)\n",
    "\n",
    "cat = df.Category.unique()\n",
    "print(cat)\n",
    "list_cat=np.copy(cat)\n",
    "df.drop(['Descript','Resolution','Address'],inplace =True, axis=1)  #data useless, unsignificant, estimated useless\n",
    "df.drop(df[(df.Y>60)|(df.X>-122)].index, inplace=True)  #outliers\n",
    "df['DayOfWeek'].replace(to_replace=['Monday','Tuesday','Wednesday','Thursday','Friday','Saturday','Sunday'],value=[i for i in range(0,7)],inplace=True)\n",
    "\n",
    "\n",
    "df.head()"
   ]
  },
  {
   "cell_type": "code",
   "execution_count": 5,
   "metadata": {},
   "outputs": [
    {
     "output_type": "execute_result",
     "data": {
      "text/plain": [
       "                 Dates        Category  DayOfWeek           X          Y\n",
       "0  2015-05-13 23:53:00        WARRANTS          2 -122.425892  37.774599\n",
       "1  2015-05-13 23:53:00  OTHER OFFENSES          2 -122.425892  37.774599\n",
       "2  2015-05-13 23:33:00  OTHER OFFENSES          2 -122.424363  37.800414\n",
       "3  2015-05-13 23:30:00   LARCENY/THEFT          2 -122.426995  37.800873\n",
       "4  2015-05-13 23:30:00   LARCENY/THEFT          2 -122.438738  37.771541"
      ],
      "text/html": "<div>\n<style scoped>\n    .dataframe tbody tr th:only-of-type {\n        vertical-align: middle;\n    }\n\n    .dataframe tbody tr th {\n        vertical-align: top;\n    }\n\n    .dataframe thead th {\n        text-align: right;\n    }\n</style>\n<table border=\"1\" class=\"dataframe\">\n  <thead>\n    <tr style=\"text-align: right;\">\n      <th></th>\n      <th>Dates</th>\n      <th>Category</th>\n      <th>DayOfWeek</th>\n      <th>X</th>\n      <th>Y</th>\n    </tr>\n  </thead>\n  <tbody>\n    <tr>\n      <th>0</th>\n      <td>2015-05-13 23:53:00</td>\n      <td>WARRANTS</td>\n      <td>2</td>\n      <td>-122.425892</td>\n      <td>37.774599</td>\n    </tr>\n    <tr>\n      <th>1</th>\n      <td>2015-05-13 23:53:00</td>\n      <td>OTHER OFFENSES</td>\n      <td>2</td>\n      <td>-122.425892</td>\n      <td>37.774599</td>\n    </tr>\n    <tr>\n      <th>2</th>\n      <td>2015-05-13 23:33:00</td>\n      <td>OTHER OFFENSES</td>\n      <td>2</td>\n      <td>-122.424363</td>\n      <td>37.800414</td>\n    </tr>\n    <tr>\n      <th>3</th>\n      <td>2015-05-13 23:30:00</td>\n      <td>LARCENY/THEFT</td>\n      <td>2</td>\n      <td>-122.426995</td>\n      <td>37.800873</td>\n    </tr>\n    <tr>\n      <th>4</th>\n      <td>2015-05-13 23:30:00</td>\n      <td>LARCENY/THEFT</td>\n      <td>2</td>\n      <td>-122.438738</td>\n      <td>37.771541</td>\n    </tr>\n  </tbody>\n</table>\n</div>"
     },
     "metadata": {},
     "execution_count": 5
    }
   ],
   "source": []
  },
  {
   "cell_type": "code",
   "execution_count": 80,
   "metadata": {},
   "outputs": [
    {
     "output_type": "execute_result",
     "data": {
      "text/plain": [
       "                Dates  Category  DayOfWeek PdDistrict           X          Y  \\\n",
       "0 2015-05-13 23:53:00         0          2   NORTHERN -122.425892  37.774599   \n",
       "1 2015-05-13 23:53:00         1          2   NORTHERN -122.425892  37.774599   \n",
       "2 2015-05-13 23:33:00         1          2   NORTHERN -122.424363  37.800414   \n",
       "3 2015-05-13 23:30:00         2          2   NORTHERN -122.426995  37.800873   \n",
       "4 2015-05-13 23:30:00         2          2       PARK -122.438738  37.771541   \n",
       "\n",
       "    Time  Hour  Month  Year  \n",
       "0  85980    23      5  2015  \n",
       "1  85980    23      5  2015  \n",
       "2  84780    23      5  2015  \n",
       "3  84600    23      5  2015  \n",
       "4  84600    23      5  2015  "
      ],
      "text/html": "<div>\n<style scoped>\n    .dataframe tbody tr th:only-of-type {\n        vertical-align: middle;\n    }\n\n    .dataframe tbody tr th {\n        vertical-align: top;\n    }\n\n    .dataframe thead th {\n        text-align: right;\n    }\n</style>\n<table border=\"1\" class=\"dataframe\">\n  <thead>\n    <tr style=\"text-align: right;\">\n      <th></th>\n      <th>Dates</th>\n      <th>Category</th>\n      <th>DayOfWeek</th>\n      <th>PdDistrict</th>\n      <th>X</th>\n      <th>Y</th>\n      <th>Time</th>\n      <th>Hour</th>\n      <th>Month</th>\n      <th>Year</th>\n    </tr>\n  </thead>\n  <tbody>\n    <tr>\n      <th>0</th>\n      <td>2015-05-13 23:53:00</td>\n      <td>0</td>\n      <td>2</td>\n      <td>NORTHERN</td>\n      <td>-122.425892</td>\n      <td>37.774599</td>\n      <td>85980</td>\n      <td>23</td>\n      <td>5</td>\n      <td>2015</td>\n    </tr>\n    <tr>\n      <th>1</th>\n      <td>2015-05-13 23:53:00</td>\n      <td>1</td>\n      <td>2</td>\n      <td>NORTHERN</td>\n      <td>-122.425892</td>\n      <td>37.774599</td>\n      <td>85980</td>\n      <td>23</td>\n      <td>5</td>\n      <td>2015</td>\n    </tr>\n    <tr>\n      <th>2</th>\n      <td>2015-05-13 23:33:00</td>\n      <td>1</td>\n      <td>2</td>\n      <td>NORTHERN</td>\n      <td>-122.424363</td>\n      <td>37.800414</td>\n      <td>84780</td>\n      <td>23</td>\n      <td>5</td>\n      <td>2015</td>\n    </tr>\n    <tr>\n      <th>3</th>\n      <td>2015-05-13 23:30:00</td>\n      <td>2</td>\n      <td>2</td>\n      <td>NORTHERN</td>\n      <td>-122.426995</td>\n      <td>37.800873</td>\n      <td>84600</td>\n      <td>23</td>\n      <td>5</td>\n      <td>2015</td>\n    </tr>\n    <tr>\n      <th>4</th>\n      <td>2015-05-13 23:30:00</td>\n      <td>2</td>\n      <td>2</td>\n      <td>PARK</td>\n      <td>-122.438738</td>\n      <td>37.771541</td>\n      <td>84600</td>\n      <td>23</td>\n      <td>5</td>\n      <td>2015</td>\n    </tr>\n  </tbody>\n</table>\n</div>"
     },
     "metadata": {},
     "execution_count": 80
    }
   ],
   "source": [
    "#Format time data\n",
    "\n",
    "df.Dates = pd.to_datetime(df.Dates)\n",
    "df['Time'] = df.Dates.dt.hour*3600 + df.Dates.dt.minute*60 + df.Dates.dt.second\n",
    "df['Hour'] = df.Dates.dt.hour\n",
    "df['Month']=df.Dates.dt.month\n",
    "df['Year']=df.Dates.dt.year\n",
    "for key in ['Time','Hour','Month','Year']:\n",
    "    df[key]=pd.to_numeric(df[key])\n",
    "\n",
    "\n",
    "df['Category'].replace(to_replace=cat,value=[i for i in range(len(cat))],inplace=True)\n",
    "df.head()"
   ]
  },
  {
   "cell_type": "code",
   "execution_count": 81,
   "metadata": {},
   "outputs": [
    {
     "output_type": "execute_result",
     "data": {
      "text/plain": [
       "                Dates  Category  DayOfWeek PdDistrict           X          Y  \\\n",
       "0 2015-05-13 23:53:00         0          2   NORTHERN -122.425892  37.774599   \n",
       "1 2015-05-13 23:53:00         1          2   NORTHERN -122.425892  37.774599   \n",
       "2 2015-05-13 23:33:00         1          2   NORTHERN -122.424363  37.800414   \n",
       "3 2015-05-13 23:30:00         2          2   NORTHERN -122.426995  37.800873   \n",
       "4 2015-05-13 23:30:00         2          2       PARK -122.438738  37.771541   \n",
       "\n",
       "    Time  Hour  Month  Year  \n",
       "0  85980    23      5   1.0  \n",
       "1  85980    23      5   1.0  \n",
       "2  84780    23      5   1.0  \n",
       "3  84600    23      5   1.0  \n",
       "4  84600    23      5   1.0  "
      ],
      "text/html": "<div>\n<style scoped>\n    .dataframe tbody tr th:only-of-type {\n        vertical-align: middle;\n    }\n\n    .dataframe tbody tr th {\n        vertical-align: top;\n    }\n\n    .dataframe thead th {\n        text-align: right;\n    }\n</style>\n<table border=\"1\" class=\"dataframe\">\n  <thead>\n    <tr style=\"text-align: right;\">\n      <th></th>\n      <th>Dates</th>\n      <th>Category</th>\n      <th>DayOfWeek</th>\n      <th>PdDistrict</th>\n      <th>X</th>\n      <th>Y</th>\n      <th>Time</th>\n      <th>Hour</th>\n      <th>Month</th>\n      <th>Year</th>\n    </tr>\n  </thead>\n  <tbody>\n    <tr>\n      <th>0</th>\n      <td>2015-05-13 23:53:00</td>\n      <td>0</td>\n      <td>2</td>\n      <td>NORTHERN</td>\n      <td>-122.425892</td>\n      <td>37.774599</td>\n      <td>85980</td>\n      <td>23</td>\n      <td>5</td>\n      <td>1.0</td>\n    </tr>\n    <tr>\n      <th>1</th>\n      <td>2015-05-13 23:53:00</td>\n      <td>1</td>\n      <td>2</td>\n      <td>NORTHERN</td>\n      <td>-122.425892</td>\n      <td>37.774599</td>\n      <td>85980</td>\n      <td>23</td>\n      <td>5</td>\n      <td>1.0</td>\n    </tr>\n    <tr>\n      <th>2</th>\n      <td>2015-05-13 23:33:00</td>\n      <td>1</td>\n      <td>2</td>\n      <td>NORTHERN</td>\n      <td>-122.424363</td>\n      <td>37.800414</td>\n      <td>84780</td>\n      <td>23</td>\n      <td>5</td>\n      <td>1.0</td>\n    </tr>\n    <tr>\n      <th>3</th>\n      <td>2015-05-13 23:30:00</td>\n      <td>2</td>\n      <td>2</td>\n      <td>NORTHERN</td>\n      <td>-122.426995</td>\n      <td>37.800873</td>\n      <td>84600</td>\n      <td>23</td>\n      <td>5</td>\n      <td>1.0</td>\n    </tr>\n    <tr>\n      <th>4</th>\n      <td>2015-05-13 23:30:00</td>\n      <td>2</td>\n      <td>2</td>\n      <td>PARK</td>\n      <td>-122.438738</td>\n      <td>37.771541</td>\n      <td>84600</td>\n      <td>23</td>\n      <td>5</td>\n      <td>1.0</td>\n    </tr>\n  </tbody>\n</table>\n</div>"
     },
     "metadata": {},
     "execution_count": 81
    }
   ],
   "source": [
    "#Cell to run if you want to have year normalized between -1 and 1\n",
    "years = df.Dates.dt.year.unique()\n",
    "years = sorted(years)\n",
    "a = 2/(years[-1] - years[0])\n",
    "b = -a*(years[-1]+years[0])/2\n",
    "df['Year'].replace(to_replace=years,value=[a*year +b for year in years],inplace=True)\n",
    "df.head()"
   ]
  },
  {
   "cell_type": "code",
   "execution_count": 82,
   "metadata": {},
   "outputs": [],
   "source": [
    "\n",
    "Districts = df['PdDistrict'].unique()\n",
    "Bary_coord = {}\n",
    "for i in range(len(Districts)):\n",
    "    test = df[['PdDistrict','X','Y']]\n",
    "    district = test.loc[test['PdDistrict']==Districts[i],:]\n",
    "    abs = district['X']\n",
    "    ord = district['Y']\n",
    "    mean_abs = abs.mean()\n",
    "    mean_ord = ord.mean()\n",
    "    Bary_coord[Districts[i]] = (mean_abs,mean_ord)\n"
   ]
  },
  {
   "cell_type": "code",
   "execution_count": 83,
   "metadata": {},
   "outputs": [],
   "source": [
    "df['X_Bar_District'] = df['PdDistrict']\n",
    "df['Y_Bar_District'] = df['PdDistrict']\n",
    "df.drop('PdDistrict', inplace = True, axis=1)"
   ]
  },
  {
   "cell_type": "code",
   "execution_count": 84,
   "metadata": {},
   "outputs": [
    {
     "output_type": "execute_result",
     "data": {
      "text/plain": [
       "                Dates  Category  DayOfWeek           X          Y   Time  \\\n",
       "0 2015-05-13 23:53:00         0          2 -122.425892  37.774599  85980   \n",
       "1 2015-05-13 23:53:00         1          2 -122.425892  37.774599  85980   \n",
       "2 2015-05-13 23:33:00         1          2 -122.424363  37.800414  84780   \n",
       "3 2015-05-13 23:30:00         2          2 -122.426995  37.800873  84600   \n",
       "4 2015-05-13 23:30:00         2          2 -122.438738  37.771541  84600   \n",
       "\n",
       "   Hour  Month  Year  X_Bar_District  Y_Bar_District  \n",
       "0    23      5   1.0     -122.426647       37.786379  \n",
       "1    23      5   1.0     -122.426647       37.786379  \n",
       "2    23      5   1.0     -122.426647       37.786379  \n",
       "3    23      5   1.0     -122.426647       37.786379  \n",
       "4    23      5   1.0     -122.445448       37.770299  "
      ],
      "text/html": "<div>\n<style scoped>\n    .dataframe tbody tr th:only-of-type {\n        vertical-align: middle;\n    }\n\n    .dataframe tbody tr th {\n        vertical-align: top;\n    }\n\n    .dataframe thead th {\n        text-align: right;\n    }\n</style>\n<table border=\"1\" class=\"dataframe\">\n  <thead>\n    <tr style=\"text-align: right;\">\n      <th></th>\n      <th>Dates</th>\n      <th>Category</th>\n      <th>DayOfWeek</th>\n      <th>X</th>\n      <th>Y</th>\n      <th>Time</th>\n      <th>Hour</th>\n      <th>Month</th>\n      <th>Year</th>\n      <th>X_Bar_District</th>\n      <th>Y_Bar_District</th>\n    </tr>\n  </thead>\n  <tbody>\n    <tr>\n      <th>0</th>\n      <td>2015-05-13 23:53:00</td>\n      <td>0</td>\n      <td>2</td>\n      <td>-122.425892</td>\n      <td>37.774599</td>\n      <td>85980</td>\n      <td>23</td>\n      <td>5</td>\n      <td>1.0</td>\n      <td>-122.426647</td>\n      <td>37.786379</td>\n    </tr>\n    <tr>\n      <th>1</th>\n      <td>2015-05-13 23:53:00</td>\n      <td>1</td>\n      <td>2</td>\n      <td>-122.425892</td>\n      <td>37.774599</td>\n      <td>85980</td>\n      <td>23</td>\n      <td>5</td>\n      <td>1.0</td>\n      <td>-122.426647</td>\n      <td>37.786379</td>\n    </tr>\n    <tr>\n      <th>2</th>\n      <td>2015-05-13 23:33:00</td>\n      <td>1</td>\n      <td>2</td>\n      <td>-122.424363</td>\n      <td>37.800414</td>\n      <td>84780</td>\n      <td>23</td>\n      <td>5</td>\n      <td>1.0</td>\n      <td>-122.426647</td>\n      <td>37.786379</td>\n    </tr>\n    <tr>\n      <th>3</th>\n      <td>2015-05-13 23:30:00</td>\n      <td>2</td>\n      <td>2</td>\n      <td>-122.426995</td>\n      <td>37.800873</td>\n      <td>84600</td>\n      <td>23</td>\n      <td>5</td>\n      <td>1.0</td>\n      <td>-122.426647</td>\n      <td>37.786379</td>\n    </tr>\n    <tr>\n      <th>4</th>\n      <td>2015-05-13 23:30:00</td>\n      <td>2</td>\n      <td>2</td>\n      <td>-122.438738</td>\n      <td>37.771541</td>\n      <td>84600</td>\n      <td>23</td>\n      <td>5</td>\n      <td>1.0</td>\n      <td>-122.445448</td>\n      <td>37.770299</td>\n    </tr>\n  </tbody>\n</table>\n</div>"
     },
     "metadata": {},
     "execution_count": 84
    }
   ],
   "source": [
    "df['X_Bar_District'].replace(to_replace=Districts,value=[Bary_coord[Districts[i]][0] for i in range(len(Districts))],inplace=True)\n",
    "df['Y_Bar_District'].replace(to_replace=Districts,value=[Bary_coord[Districts[i]][1] for i in range(len(Districts))],inplace=True)\n",
    "df.head()"
   ]
  },
  {
   "cell_type": "code",
   "execution_count": 85,
   "metadata": {},
   "outputs": [],
   "source": [
    "#Cell to run if you want to have cyclic year\n",
    "\n",
    "df['Sin_Year'] = np.sin(2 * np.pi * df['Time'] / (24*60*60))  # cycle rpz to explore \n",
    "df['Cos_Year'] = np.cos(2 * np.pi * df['Time'] / (24*60*60))\n",
    "\n",
    "df['Sin_Hour'] = np.sin(2 * np.pi * df['Hour'] / 24)  # cycle rpz to explore \n",
    "df['Cos_Hour'] = np.cos(2 * np.pi * df['Hour'] / 24)\n",
    "\n",
    "df['Sin_Month'] = np.sin(2 * np.pi * df['Month'] / 12)  # cycle rpz to explore \n",
    "df['Cos_Month'] = np.cos(2 * np.pi * df['Month'] / 12) \n",
    "\n",
    "df['Sin_Day'] = np.sin(2 * np.pi * df['DayOfWeek'] / 7)  # cycle rpz to explore \n",
    "df['Cos_Day'] = np.cos(2 * np.pi * df['DayOfWeek'] / 7) \n",
    "\n",
    "df.drop(['Time','Hour','Month','DayOfWeek'],inplace =True, axis=1)"
   ]
  },
  {
   "cell_type": "code",
   "execution_count": 86,
   "metadata": {},
   "outputs": [
    {
     "output_type": "execute_result",
     "data": {
      "text/plain": [
       "                 X          Y      Year  X_Bar_District  Y_Bar_District  \\\n",
       "263666 -122.435188  37.762670  0.333333     -122.419409       37.759961   \n",
       "223032 -122.384161  37.727384  0.500000     -122.393550       37.737256   \n",
       "160813 -122.426384  37.764644  0.666667     -122.419409       37.759961   \n",
       "292695 -122.419720  37.734562  0.333333     -122.428831       37.726543   \n",
       "350164 -122.417423  37.807543  0.166667     -122.409619       37.795685   \n",
       "\n",
       "        Sin_Year  Cos_Year      Sin_Hour  Cos_Hour  Sin_Month     Cos_Month  \\\n",
       "263666 -0.923880  0.382683 -9.659258e-01  0.258819  -0.866025  5.000000e-01   \n",
       "223032  0.707107  0.707107  7.071068e-01  0.707107   0.500000 -8.660254e-01   \n",
       "160813 -0.923880  0.382683 -9.659258e-01  0.258819   1.000000  6.123234e-17   \n",
       "292695  0.559193 -0.829038  7.071068e-01 -0.707107   0.500000 -8.660254e-01   \n",
       "350164 -0.065403 -0.997859  1.224647e-16 -1.000000  -0.500000 -8.660254e-01   \n",
       "\n",
       "         Sin_Day   Cos_Day  \n",
       "263666  0.974928 -0.222521  \n",
       "223032 -0.974928 -0.222521  \n",
       "160813 -0.781831  0.623490  \n",
       "292695 -0.781831  0.623490  \n",
       "350164 -0.974928 -0.222521  "
      ],
      "text/html": "<div>\n<style scoped>\n    .dataframe tbody tr th:only-of-type {\n        vertical-align: middle;\n    }\n\n    .dataframe tbody tr th {\n        vertical-align: top;\n    }\n\n    .dataframe thead th {\n        text-align: right;\n    }\n</style>\n<table border=\"1\" class=\"dataframe\">\n  <thead>\n    <tr style=\"text-align: right;\">\n      <th></th>\n      <th>X</th>\n      <th>Y</th>\n      <th>Year</th>\n      <th>X_Bar_District</th>\n      <th>Y_Bar_District</th>\n      <th>Sin_Year</th>\n      <th>Cos_Year</th>\n      <th>Sin_Hour</th>\n      <th>Cos_Hour</th>\n      <th>Sin_Month</th>\n      <th>Cos_Month</th>\n      <th>Sin_Day</th>\n      <th>Cos_Day</th>\n    </tr>\n  </thead>\n  <tbody>\n    <tr>\n      <th>263666</th>\n      <td>-122.435188</td>\n      <td>37.762670</td>\n      <td>0.333333</td>\n      <td>-122.419409</td>\n      <td>37.759961</td>\n      <td>-0.923880</td>\n      <td>0.382683</td>\n      <td>-9.659258e-01</td>\n      <td>0.258819</td>\n      <td>-0.866025</td>\n      <td>5.000000e-01</td>\n      <td>0.974928</td>\n      <td>-0.222521</td>\n    </tr>\n    <tr>\n      <th>223032</th>\n      <td>-122.384161</td>\n      <td>37.727384</td>\n      <td>0.500000</td>\n      <td>-122.393550</td>\n      <td>37.737256</td>\n      <td>0.707107</td>\n      <td>0.707107</td>\n      <td>7.071068e-01</td>\n      <td>0.707107</td>\n      <td>0.500000</td>\n      <td>-8.660254e-01</td>\n      <td>-0.974928</td>\n      <td>-0.222521</td>\n    </tr>\n    <tr>\n      <th>160813</th>\n      <td>-122.426384</td>\n      <td>37.764644</td>\n      <td>0.666667</td>\n      <td>-122.419409</td>\n      <td>37.759961</td>\n      <td>-0.923880</td>\n      <td>0.382683</td>\n      <td>-9.659258e-01</td>\n      <td>0.258819</td>\n      <td>1.000000</td>\n      <td>6.123234e-17</td>\n      <td>-0.781831</td>\n      <td>0.623490</td>\n    </tr>\n    <tr>\n      <th>292695</th>\n      <td>-122.419720</td>\n      <td>37.734562</td>\n      <td>0.333333</td>\n      <td>-122.428831</td>\n      <td>37.726543</td>\n      <td>0.559193</td>\n      <td>-0.829038</td>\n      <td>7.071068e-01</td>\n      <td>-0.707107</td>\n      <td>0.500000</td>\n      <td>-8.660254e-01</td>\n      <td>-0.781831</td>\n      <td>0.623490</td>\n    </tr>\n    <tr>\n      <th>350164</th>\n      <td>-122.417423</td>\n      <td>37.807543</td>\n      <td>0.166667</td>\n      <td>-122.409619</td>\n      <td>37.795685</td>\n      <td>-0.065403</td>\n      <td>-0.997859</td>\n      <td>1.224647e-16</td>\n      <td>-1.000000</td>\n      <td>-0.500000</td>\n      <td>-8.660254e-01</td>\n      <td>-0.974928</td>\n      <td>-0.222521</td>\n    </tr>\n  </tbody>\n</table>\n</div>"
     },
     "metadata": {},
     "execution_count": 86
    }
   ],
   "source": [
    "dfsample = df.sample(n=10000)\n",
    "ysample=dfsample['Category']\n",
    "ysample.head()\n",
    "dfsample.drop('Category',inplace =True, axis=1)\n",
    "dfsample.drop('Dates',inplace =True, axis=1)\n",
    "dfsample.head()"
   ]
  },
  {
   "cell_type": "code",
   "execution_count": 17,
   "metadata": {},
   "outputs": [
    {
     "output_type": "stream",
     "name": "stdout",
     "text": [
      "(2000, 37)\n2.869019043977656\n0.2325\n"
     ]
    }
   ],
   "source": [
    "# Load Library\n",
    "from sklearn.metrics import accuracy_score\n",
    "from sklearn.model_selection import train_test_split\n",
    "from sklearn.ensemble import RandomForestClassifier, AdaBoostClassifier,GradientBoostingClassifier\n",
    "from sklearn.neural_network import MLPClassifier\n",
    "from sklearn.neighbors import KNeighborsClassifier\n",
    "\n",
    "#X=(dfsample-dfsample.mean())/dfsample.std()\n",
    "X=dfsample\n",
    "y=ysample\n",
    "\n",
    "# Split the training test set\n",
    "X_train, X_test, y_train, y_test = train_test_split(X, y, test_size=0.2, random_state=42)\n",
    "\n",
    "\n",
    "#  Fit a Random Forest model\n",
    "clf = RandomForestClassifier(n_estimators=100,min_samples_split=50,random_state=42)\n",
    "#clf = MLPClassifier(hidden_layer_sizes=(100),solver='sgd',learning_rate='invscaling',random_state=1)\n",
    "#clf=KNeighborsClassifier(n_neighbors=1000)\n",
    "clf.fit(X_train, y_train)\n",
    "p_pred = clf.predict_proba(X_test)\n",
    "print(p_pred.shape)\n",
    "\n",
    "\n",
    "print(log_loss(p_pred,y_test))\n",
    "print(accuracy_score(y_test, np.argmax(p_pred,axis=1)))\n"
   ]
  },
  {
   "cell_type": "code",
   "execution_count": 19,
   "metadata": {},
   "outputs": [
    {
     "output_type": "stream",
     "name": "stdout",
     "text": [
      "test data loaded\n"
     ]
    },
    {
     "output_type": "execute_result",
     "data": {
      "text/plain": [
       "            X          Y  Year  Sin_Time  Cos_Time  Sin_Hour  Cos_Hour  \\\n",
       "0 -122.399588  37.735051  2015 -0.004363  0.999990 -0.258819  0.965926   \n",
       "1 -122.391523  37.732432  2015 -0.039260  0.999229 -0.258819  0.965926   \n",
       "2 -122.426002  37.792212  2015 -0.043619  0.999048 -0.258819  0.965926   \n",
       "3 -122.437394  37.721412  2015 -0.065403  0.997859 -0.258819  0.965926   \n",
       "4 -122.437394  37.721412  2015 -0.065403  0.997859 -0.258819  0.965926   \n",
       "\n",
       "   Sin_Month  Cos_Month   Sin_Day  Cos_Day  \n",
       "0        0.5  -0.866025 -0.781831  0.62349  \n",
       "1        0.5  -0.866025 -0.781831  0.62349  \n",
       "2        0.5  -0.866025 -0.781831  0.62349  \n",
       "3        0.5  -0.866025 -0.781831  0.62349  \n",
       "4        0.5  -0.866025 -0.781831  0.62349  "
      ],
      "text/html": "<div>\n<style scoped>\n    .dataframe tbody tr th:only-of-type {\n        vertical-align: middle;\n    }\n\n    .dataframe tbody tr th {\n        vertical-align: top;\n    }\n\n    .dataframe thead th {\n        text-align: right;\n    }\n</style>\n<table border=\"1\" class=\"dataframe\">\n  <thead>\n    <tr style=\"text-align: right;\">\n      <th></th>\n      <th>X</th>\n      <th>Y</th>\n      <th>Year</th>\n      <th>Sin_Time</th>\n      <th>Cos_Time</th>\n      <th>Sin_Hour</th>\n      <th>Cos_Hour</th>\n      <th>Sin_Month</th>\n      <th>Cos_Month</th>\n      <th>Sin_Day</th>\n      <th>Cos_Day</th>\n    </tr>\n  </thead>\n  <tbody>\n    <tr>\n      <th>0</th>\n      <td>-122.399588</td>\n      <td>37.735051</td>\n      <td>2015</td>\n      <td>-0.004363</td>\n      <td>0.999990</td>\n      <td>-0.258819</td>\n      <td>0.965926</td>\n      <td>0.5</td>\n      <td>-0.866025</td>\n      <td>-0.781831</td>\n      <td>0.62349</td>\n    </tr>\n    <tr>\n      <th>1</th>\n      <td>-122.391523</td>\n      <td>37.732432</td>\n      <td>2015</td>\n      <td>-0.039260</td>\n      <td>0.999229</td>\n      <td>-0.258819</td>\n      <td>0.965926</td>\n      <td>0.5</td>\n      <td>-0.866025</td>\n      <td>-0.781831</td>\n      <td>0.62349</td>\n    </tr>\n    <tr>\n      <th>2</th>\n      <td>-122.426002</td>\n      <td>37.792212</td>\n      <td>2015</td>\n      <td>-0.043619</td>\n      <td>0.999048</td>\n      <td>-0.258819</td>\n      <td>0.965926</td>\n      <td>0.5</td>\n      <td>-0.866025</td>\n      <td>-0.781831</td>\n      <td>0.62349</td>\n    </tr>\n    <tr>\n      <th>3</th>\n      <td>-122.437394</td>\n      <td>37.721412</td>\n      <td>2015</td>\n      <td>-0.065403</td>\n      <td>0.997859</td>\n      <td>-0.258819</td>\n      <td>0.965926</td>\n      <td>0.5</td>\n      <td>-0.866025</td>\n      <td>-0.781831</td>\n      <td>0.62349</td>\n    </tr>\n    <tr>\n      <th>4</th>\n      <td>-122.437394</td>\n      <td>37.721412</td>\n      <td>2015</td>\n      <td>-0.065403</td>\n      <td>0.997859</td>\n      <td>-0.258819</td>\n      <td>0.965926</td>\n      <td>0.5</td>\n      <td>-0.866025</td>\n      <td>-0.781831</td>\n      <td>0.62349</td>\n    </tr>\n  </tbody>\n</table>\n</div>"
     },
     "metadata": {},
     "execution_count": 19
    }
   ],
   "source": [
    "test_data = pd.read_csv('data/test.csv')\n",
    "print('test data loaded')\n",
    "test_data.drop(['Address'],inplace =True, axis=1)  #data useless, unsignificant\n",
    "test_data['DayOfWeek'].replace(to_replace=['Monday','Tuesday','Wednesday','Thursday','Friday','Saturday','Sunday'],value=[i for i in range(0,7)],inplace=True)\n",
    "test_data.drop('PdDistrict',inplace =True, axis=1) # estimated  useless\n",
    "\n",
    "test_data.Dates = pd.to_datetime(test_data.Dates)\n",
    "test_data['Time'] = test_data.Dates.dt.hour*3600 + test_data.Dates.dt.minute*60 + test_data.Dates.dt.second\n",
    "test_data['Hour'] = test_data.Dates.dt.hour\n",
    "test_data['Month']=test_data.Dates.dt.month\n",
    "test_data['Year']=test_data.Dates.dt.year\n",
    "for key in ['Time','Hour','Month','Year']:\n",
    "    test_data[key]=pd.to_numeric(test_data[key])\n",
    "\n",
    "\n",
    "test_data['Sin_Time'] = np.sin(2 * np.pi * test_data['Time'] / (24*60*60))  # cycle rpz to explore \n",
    "test_data['Cos_Time'] = np.cos(2 * np.pi * test_data['Time'] / (24*60*60))\n",
    "\n",
    "test_data['Sin_Hour'] = np.sin(2 * np.pi * test_data['Hour'] / 24)  # cycle rpz to explore \n",
    "test_data['Cos_Hour'] = np.cos(2 * np.pi * test_data['Hour'] / 24)\n",
    "\n",
    "test_data['Sin_Month'] = np.sin(2 * np.pi * test_data['Month'] / 12)  # cycle rpz to explore \n",
    "test_data['Cos_Month'] = np.cos(2 * np.pi * test_data['Month'] / 12) \n",
    "\n",
    "test_data['Sin_Day'] = np.sin(2 * np.pi * test_data['DayOfWeek'] / 7)  # cycle rpz to explore \n",
    "test_data['Cos_Day'] = np.cos(2 * np.pi * test_data['DayOfWeek'] / 7) \n",
    "\n",
    "test_data.drop(['Id','Time','Hour','Month','DayOfWeek','Dates'],inplace =True, axis=1)\n",
    "\n",
    "test_data.head()"
   ]
  },
  {
   "cell_type": "code",
   "execution_count": 20,
   "metadata": {},
   "outputs": [],
   "source": [
    "list_cat=list(list_cat)\n",
    "p_pred = clf.predict_proba(test_data)\n",
    "if p_pred.shape[1]<len(list_cat):\n",
    "    p_pred=np.concatenate((p_pred,np.zeros((len(p_pred),len(list_cat)-p_pred.shape[1]))),axis=1)\n",
    "\n",
    "pred= pd.DataFrame (p_pred, columns = list_cat)\n",
    "pred.insert(0,'Id',np.arange(len(p_pred)))\n",
    "\n",
    "pred.head()\n",
    "pred.to_csv(\"pred2.csv\")"
   ]
  },
  {
   "cell_type": "code",
   "execution_count": 12,
   "metadata": {},
   "outputs": [
    {
     "output_type": "execute_result",
     "data": {
      "text/plain": [
       "   Id  WARRANTS  OTHER OFFENSES  LARCENY/THEFT  VEHICLE THEFT  VANDALISM  \\\n",
       "0   0  0.022050        0.166092       0.173621       0.059560   0.050216   \n",
       "1   1  0.028827        0.178132       0.127937       0.069167   0.066380   \n",
       "2   2  0.023732        0.103492       0.305443       0.052267   0.067765   \n",
       "3   3  0.034211        0.195192       0.150438       0.073916   0.049339   \n",
       "4   4  0.034211        0.195192       0.150438       0.073916   0.049339   \n",
       "\n",
       "   NON-CRIMINAL   ROBBERY   ASSAULT  WEAPON LAWS  ...  EMBEZZLEMENT  SUICIDE  \\\n",
       "0      0.098891  0.055442  0.109069     0.020842  ...      0.003480      0.0   \n",
       "1      0.074242  0.069628  0.103760     0.049250  ...      0.001639      0.0   \n",
       "2      0.125230  0.018068  0.062900     0.014638  ...      0.000189      0.0   \n",
       "3      0.129216  0.035899  0.108750     0.014931  ...      0.001430      0.0   \n",
       "4      0.129216  0.035899  0.108750     0.014931  ...      0.001430      0.0   \n",
       "\n",
       "   LOITERING  SEX OFFENSES NON FORCIBLE  EXTORTION  GAMBLING  BAD CHECKS  \\\n",
       "0   0.000000                   0.000000   0.001046  0.001413         0.0   \n",
       "1   0.000141                   0.000000   0.000323  0.002112         0.0   \n",
       "2   0.000308                   0.000000   0.000143  0.000339         0.0   \n",
       "3   0.000326                   0.000156   0.000370  0.000709         0.0   \n",
       "4   0.000326                   0.000156   0.000370  0.000709         0.0   \n",
       "\n",
       "   TREA  RECOVERED VEHICLE  PORNOGRAPHY/OBSCENE MAT  \n",
       "0   0.0                0.0                      0.0  \n",
       "1   0.0                0.0                      0.0  \n",
       "2   0.0                0.0                      0.0  \n",
       "3   0.0                0.0                      0.0  \n",
       "4   0.0                0.0                      0.0  \n",
       "\n",
       "[5 rows x 40 columns]"
      ],
      "text/html": "<div>\n<style scoped>\n    .dataframe tbody tr th:only-of-type {\n        vertical-align: middle;\n    }\n\n    .dataframe tbody tr th {\n        vertical-align: top;\n    }\n\n    .dataframe thead th {\n        text-align: right;\n    }\n</style>\n<table border=\"1\" class=\"dataframe\">\n  <thead>\n    <tr style=\"text-align: right;\">\n      <th></th>\n      <th>Id</th>\n      <th>WARRANTS</th>\n      <th>OTHER OFFENSES</th>\n      <th>LARCENY/THEFT</th>\n      <th>VEHICLE THEFT</th>\n      <th>VANDALISM</th>\n      <th>NON-CRIMINAL</th>\n      <th>ROBBERY</th>\n      <th>ASSAULT</th>\n      <th>WEAPON LAWS</th>\n      <th>...</th>\n      <th>EMBEZZLEMENT</th>\n      <th>SUICIDE</th>\n      <th>LOITERING</th>\n      <th>SEX OFFENSES NON FORCIBLE</th>\n      <th>EXTORTION</th>\n      <th>GAMBLING</th>\n      <th>BAD CHECKS</th>\n      <th>TREA</th>\n      <th>RECOVERED VEHICLE</th>\n      <th>PORNOGRAPHY/OBSCENE MAT</th>\n    </tr>\n  </thead>\n  <tbody>\n    <tr>\n      <th>0</th>\n      <td>0</td>\n      <td>0.022050</td>\n      <td>0.166092</td>\n      <td>0.173621</td>\n      <td>0.059560</td>\n      <td>0.050216</td>\n      <td>0.098891</td>\n      <td>0.055442</td>\n      <td>0.109069</td>\n      <td>0.020842</td>\n      <td>...</td>\n      <td>0.003480</td>\n      <td>0.0</td>\n      <td>0.000000</td>\n      <td>0.000000</td>\n      <td>0.001046</td>\n      <td>0.001413</td>\n      <td>0.0</td>\n      <td>0.0</td>\n      <td>0.0</td>\n      <td>0.0</td>\n    </tr>\n    <tr>\n      <th>1</th>\n      <td>1</td>\n      <td>0.028827</td>\n      <td>0.178132</td>\n      <td>0.127937</td>\n      <td>0.069167</td>\n      <td>0.066380</td>\n      <td>0.074242</td>\n      <td>0.069628</td>\n      <td>0.103760</td>\n      <td>0.049250</td>\n      <td>...</td>\n      <td>0.001639</td>\n      <td>0.0</td>\n      <td>0.000141</td>\n      <td>0.000000</td>\n      <td>0.000323</td>\n      <td>0.002112</td>\n      <td>0.0</td>\n      <td>0.0</td>\n      <td>0.0</td>\n      <td>0.0</td>\n    </tr>\n    <tr>\n      <th>2</th>\n      <td>2</td>\n      <td>0.023732</td>\n      <td>0.103492</td>\n      <td>0.305443</td>\n      <td>0.052267</td>\n      <td>0.067765</td>\n      <td>0.125230</td>\n      <td>0.018068</td>\n      <td>0.062900</td>\n      <td>0.014638</td>\n      <td>...</td>\n      <td>0.000189</td>\n      <td>0.0</td>\n      <td>0.000308</td>\n      <td>0.000000</td>\n      <td>0.000143</td>\n      <td>0.000339</td>\n      <td>0.0</td>\n      <td>0.0</td>\n      <td>0.0</td>\n      <td>0.0</td>\n    </tr>\n    <tr>\n      <th>3</th>\n      <td>3</td>\n      <td>0.034211</td>\n      <td>0.195192</td>\n      <td>0.150438</td>\n      <td>0.073916</td>\n      <td>0.049339</td>\n      <td>0.129216</td>\n      <td>0.035899</td>\n      <td>0.108750</td>\n      <td>0.014931</td>\n      <td>...</td>\n      <td>0.001430</td>\n      <td>0.0</td>\n      <td>0.000326</td>\n      <td>0.000156</td>\n      <td>0.000370</td>\n      <td>0.000709</td>\n      <td>0.0</td>\n      <td>0.0</td>\n      <td>0.0</td>\n      <td>0.0</td>\n    </tr>\n    <tr>\n      <th>4</th>\n      <td>4</td>\n      <td>0.034211</td>\n      <td>0.195192</td>\n      <td>0.150438</td>\n      <td>0.073916</td>\n      <td>0.049339</td>\n      <td>0.129216</td>\n      <td>0.035899</td>\n      <td>0.108750</td>\n      <td>0.014931</td>\n      <td>...</td>\n      <td>0.001430</td>\n      <td>0.0</td>\n      <td>0.000326</td>\n      <td>0.000156</td>\n      <td>0.000370</td>\n      <td>0.000709</td>\n      <td>0.0</td>\n      <td>0.0</td>\n      <td>0.0</td>\n      <td>0.0</td>\n    </tr>\n  </tbody>\n</table>\n<p>5 rows × 40 columns</p>\n</div>"
     },
     "metadata": {},
     "execution_count": 12
    }
   ],
   "source": [
    "pred.head()"
   ]
  },
  {
   "cell_type": "code",
   "execution_count": null,
   "metadata": {},
   "outputs": [],
   "source": []
  }
 ],
 "metadata": {
  "kernelspec": {
   "name": "python388jvsc74a57bd048835d67319c7fa79cfd146833b8f8715a1d2e4cc5b6d93ebe0e6a7d47e9049f",
   "display_name": "Python 3.8.8 64-bit ('Projet_DEP_NEPTUNE': conda)"
  },
  "language_info": {
   "codemirror_mode": {
    "name": "ipython",
    "version": 3
   },
   "file_extension": ".py",
   "mimetype": "text/x-python",
   "name": "python",
   "nbconvert_exporter": "python",
   "pygments_lexer": "ipython3",
   "version": "3.8.8"
  },
  "metadata": {
   "interpreter": {
    "hash": "48835d67319c7fa79cfd146833b8f8715a1d2e4cc5b6d93ebe0e6a7d47e9049f"
   }
  }
 },
 "nbformat": 4,
 "nbformat_minor": 5
}