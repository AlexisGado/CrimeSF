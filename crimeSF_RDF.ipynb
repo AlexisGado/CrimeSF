{
 "cells": [
  {
   "cell_type": "markdown",
   "metadata": {},
   "source": [
    "# Crime classification in San Francisco"
   ]
  },
  {
   "cell_type": "code",
   "execution_count": 1,
   "metadata": {},
   "outputs": [
    {
     "output_type": "stream",
     "name": "stdout",
     "text": [
      "Requirement already satisfied: seaborn in c:\\users\\remi\\appdata\\local\\programs\\python\\python38-32\\lib\\site-packages (0.11.1)\n",
      "Requirement already satisfied: matplotlib>=2.2 in c:\\users\\remi\\appdata\\local\\programs\\python\\python38-32\\lib\\site-packages (from seaborn) (3.2.1)\n",
      "Requirement already satisfied: scipy>=1.0 in c:\\users\\remi\\appdata\\local\\programs\\python\\python38-32\\lib\\site-packages (from seaborn) (1.4.1)\n",
      "Requirement already satisfied: pandas>=0.23 in c:\\users\\remi\\appdata\\local\\programs\\python\\python38-32\\lib\\site-packages (from seaborn) (1.2.0)\n",
      "Requirement already satisfied: numpy>=1.15 in c:\\users\\remi\\appdata\\local\\programs\\python\\python38-32\\lib\\site-packages (from seaborn) (1.18.3)\n",
      "Requirement already satisfied: kiwisolver>=1.0.1 in c:\\users\\remi\\appdata\\local\\programs\\python\\python38-32\\lib\\site-packages (from matplotlib>=2.2->seaborn) (1.2.0)\n",
      "Requirement already satisfied: cycler>=0.10 in c:\\users\\remi\\appdata\\local\\programs\\python\\python38-32\\lib\\site-packages (from matplotlib>=2.2->seaborn) (0.10.0)\n",
      "Requirement already satisfied: pyparsing!=2.0.4,!=2.1.2,!=2.1.6,>=2.0.1 in c:\\users\\remi\\appdata\\local\\programs\\python\\python38-32\\lib\\site-packages (from matplotlib>=2.2->seaborn) (2.4.7)\n",
      "Requirement already satisfied: python-dateutil>=2.1 in c:\\users\\remi\\appdata\\local\\programs\\python\\python38-32\\lib\\site-packages (from matplotlib>=2.2->seaborn) (2.8.1)\n",
      "Requirement already satisfied: six in c:\\users\\remi\\appdata\\local\\programs\\python\\python38-32\\lib\\site-packages (from cycler>=0.10->matplotlib>=2.2->seaborn) (1.14.0)\n",
      "Requirement already satisfied: pytz>=2017.3 in c:\\users\\remi\\appdata\\local\\programs\\python\\python38-32\\lib\\site-packages (from pandas>=0.23->seaborn) (2020.5)\n",
      "WARNING: You are using pip version 21.0.1; however, version 21.1.2 is available.\n",
      "You should consider upgrading via the 'C:\\Users\\Remi\\AppData\\Local\\Programs\\Python\\Python38-32\\python.exe -m pip install --upgrade pip' command.\n",
      "Requirement already satisfied: sklearn in c:\\users\\remi\\appdata\\local\\programs\\python\\python38-32\\lib\\site-packages (0.0)WARNING: You are using pip version 21.0.1; however, version 21.1.2 is available.\n",
      "You should consider upgrading via the 'C:\\Users\\Remi\\AppData\\Local\\Programs\\Python\\Python38-32\\python.exe -m pip install --upgrade pip' command.\n",
      "\n",
      "Requirement already satisfied: scikit-learn in c:\\users\\remi\\appdata\\local\\programs\\python\\python38-32\\lib\\site-packages (from sklearn) (0.24.0)\n",
      "Requirement already satisfied: threadpoolctl>=2.0.0 in c:\\users\\remi\\appdata\\local\\programs\\python\\python38-32\\lib\\site-packages (from scikit-learn->sklearn) (2.1.0)\n",
      "Requirement already satisfied: joblib>=0.11 in c:\\users\\remi\\appdata\\local\\programs\\python\\python38-32\\lib\\site-packages (from scikit-learn->sklearn) (1.0.0)\n",
      "Requirement already satisfied: scipy>=0.19.1 in c:\\users\\remi\\appdata\\local\\programs\\python\\python38-32\\lib\\site-packages (from scikit-learn->sklearn) (1.4.1)\n",
      "Requirement already satisfied: numpy>=1.13.3 in c:\\users\\remi\\appdata\\local\\programs\\python\\python38-32\\lib\\site-packages (from scikit-learn->sklearn) (1.18.3)\n"
     ]
    }
   ],
   "source": [
    "# Run these to install package with pip for the right python install\n",
    "\n",
    "import sys\n",
    "!{sys.executable} -m pip install seaborn\n",
    "!{sys.executable} -m pip install sklearn"
   ]
  },
  {
   "cell_type": "code",
   "execution_count": 2,
   "metadata": {},
   "outputs": [
    {
     "output_type": "execute_result",
     "data": {
      "text/plain": [
       "<Figure size 1080x720 with 0 Axes>"
      ]
     },
     "metadata": {},
     "execution_count": 2
    },
    {
     "output_type": "display_data",
     "data": {
      "text/plain": "<Figure size 1080x720 with 0 Axes>"
     },
     "metadata": {}
    }
   ],
   "source": [
    "import pandas as pd\n",
    "import seaborn as sns\n",
    "#%matplotlib nbagg\n",
    "import matplotlib.pyplot as plt\n",
    "import numpy as np\n",
    "\n",
    "def log_loss(p_pred,y):\n",
    "    y_true=np.array(y)\n",
    "    loss=0\n",
    "    for i in range(len(p_pred)):\n",
    "        if p_pred.shape[1]<=y_true[i]:\n",
    "            loss-=np.log(1e-15)\n",
    "        else:\n",
    "            loss-=np.log(p_pred[i,y_true[i]]+1e-15)\n",
    "    return loss/len(p_pred)\n",
    "\n",
    "sns.set_theme()\n",
    "plt.figure(figsize=(15,10))"
   ]
  },
  {
   "cell_type": "code",
   "execution_count": 3,
   "metadata": {},
   "outputs": [
    {
     "output_type": "stream",
     "name": "stdout",
     "text": [
      "data loaded\n"
     ]
    }
   ],
   "source": [
    "#Read data\n",
    "\n",
    "df = pd.read_csv('data/train.csv')\n",
    "print('data loaded')"
   ]
  },
  {
   "cell_type": "code",
   "execution_count": 4,
   "metadata": {},
   "outputs": [
    {
     "output_type": "stream",
     "name": "stdout",
     "text": [
      "['WARRANTS' 'OTHER OFFENSES' 'LARCENY/THEFT' 'VEHICLE THEFT' 'VANDALISM'\n 'NON-CRIMINAL' 'ROBBERY' 'ASSAULT' 'WEAPON LAWS' 'BURGLARY'\n 'SUSPICIOUS OCC' 'DRUNKENNESS' 'FORGERY/COUNTERFEITING' 'DRUG/NARCOTIC'\n 'STOLEN PROPERTY' 'SECONDARY CODES' 'TRESPASS' 'MISSING PERSON' 'FRAUD'\n 'KIDNAPPING' 'RUNAWAY' 'DRIVING UNDER THE INFLUENCE'\n 'SEX OFFENSES FORCIBLE' 'PROSTITUTION' 'DISORDERLY CONDUCT' 'ARSON'\n 'FAMILY OFFENSES' 'LIQUOR LAWS' 'BRIBERY' 'EMBEZZLEMENT' 'SUICIDE'\n 'LOITERING' 'SEX OFFENSES NON FORCIBLE' 'EXTORTION' 'GAMBLING'\n 'BAD CHECKS' 'TREA' 'RECOVERED VEHICLE' 'PORNOGRAPHY/OBSCENE MAT']\n"
     ]
    },
    {
     "output_type": "execute_result",
     "data": {
      "text/plain": [
       "                 Dates        Category  DayOfWeek PdDistrict           X  \\\n",
       "0  2015-05-13 23:53:00        WARRANTS          2   NORTHERN -122.425892   \n",
       "1  2015-05-13 23:53:00  OTHER OFFENSES          2   NORTHERN -122.425892   \n",
       "2  2015-05-13 23:33:00  OTHER OFFENSES          2   NORTHERN -122.424363   \n",
       "3  2015-05-13 23:30:00   LARCENY/THEFT          2   NORTHERN -122.426995   \n",
       "4  2015-05-13 23:30:00   LARCENY/THEFT          2       PARK -122.438738   \n",
       "\n",
       "           Y  \n",
       "0  37.774599  \n",
       "1  37.774599  \n",
       "2  37.800414  \n",
       "3  37.800873  \n",
       "4  37.771541  "
      ],
      "text/html": "<div>\n<style scoped>\n    .dataframe tbody tr th:only-of-type {\n        vertical-align: middle;\n    }\n\n    .dataframe tbody tr th {\n        vertical-align: top;\n    }\n\n    .dataframe thead th {\n        text-align: right;\n    }\n</style>\n<table border=\"1\" class=\"dataframe\">\n  <thead>\n    <tr style=\"text-align: right;\">\n      <th></th>\n      <th>Dates</th>\n      <th>Category</th>\n      <th>DayOfWeek</th>\n      <th>PdDistrict</th>\n      <th>X</th>\n      <th>Y</th>\n    </tr>\n  </thead>\n  <tbody>\n    <tr>\n      <th>0</th>\n      <td>2015-05-13 23:53:00</td>\n      <td>WARRANTS</td>\n      <td>2</td>\n      <td>NORTHERN</td>\n      <td>-122.425892</td>\n      <td>37.774599</td>\n    </tr>\n    <tr>\n      <th>1</th>\n      <td>2015-05-13 23:53:00</td>\n      <td>OTHER OFFENSES</td>\n      <td>2</td>\n      <td>NORTHERN</td>\n      <td>-122.425892</td>\n      <td>37.774599</td>\n    </tr>\n    <tr>\n      <th>2</th>\n      <td>2015-05-13 23:33:00</td>\n      <td>OTHER OFFENSES</td>\n      <td>2</td>\n      <td>NORTHERN</td>\n      <td>-122.424363</td>\n      <td>37.800414</td>\n    </tr>\n    <tr>\n      <th>3</th>\n      <td>2015-05-13 23:30:00</td>\n      <td>LARCENY/THEFT</td>\n      <td>2</td>\n      <td>NORTHERN</td>\n      <td>-122.426995</td>\n      <td>37.800873</td>\n    </tr>\n    <tr>\n      <th>4</th>\n      <td>2015-05-13 23:30:00</td>\n      <td>LARCENY/THEFT</td>\n      <td>2</td>\n      <td>PARK</td>\n      <td>-122.438738</td>\n      <td>37.771541</td>\n    </tr>\n  </tbody>\n</table>\n</div>"
     },
     "metadata": {},
     "execution_count": 4
    }
   ],
   "source": [
    "#Get categories (output to find)\n",
    "\n",
    "cat = df.Category.unique()\n",
    "print(cat)\n",
    "list_cat=np.copy(cat)\n",
    "df.drop(['Descript','Resolution','Address'],inplace =True, axis=1)  #data useless, unsignificant, estimated useless\n",
    "df.drop(df[(df.Y>60)|(df.X>-122)].index, inplace=True)  #outliers\n",
    "df['DayOfWeek'].replace(to_replace=['Monday','Tuesday','Wednesday','Thursday','Friday','Saturday','Sunday'],value=[i for i in range(0,7)],inplace=True)\n",
    "\n",
    "\n",
    "df.head()"
   ]
  },
  {
   "cell_type": "code",
   "execution_count": null,
   "metadata": {},
   "outputs": [],
   "source": []
  },
  {
   "cell_type": "code",
   "execution_count": 5,
   "metadata": {},
   "outputs": [
    {
     "output_type": "execute_result",
     "data": {
      "text/plain": [
       "                Dates  Category  DayOfWeek PdDistrict           X          Y  \\\n",
       "0 2015-05-13 23:53:00         0          2   NORTHERN -122.425892  37.774599   \n",
       "1 2015-05-13 23:53:00         1          2   NORTHERN -122.425892  37.774599   \n",
       "2 2015-05-13 23:33:00         1          2   NORTHERN -122.424363  37.800414   \n",
       "3 2015-05-13 23:30:00         2          2   NORTHERN -122.426995  37.800873   \n",
       "4 2015-05-13 23:30:00         2          2       PARK -122.438738  37.771541   \n",
       "\n",
       "    Time  Hour  Month  Year  \n",
       "0  85980    23      5  2015  \n",
       "1  85980    23      5  2015  \n",
       "2  84780    23      5  2015  \n",
       "3  84600    23      5  2015  \n",
       "4  84600    23      5  2015  "
      ],
      "text/html": "<div>\n<style scoped>\n    .dataframe tbody tr th:only-of-type {\n        vertical-align: middle;\n    }\n\n    .dataframe tbody tr th {\n        vertical-align: top;\n    }\n\n    .dataframe thead th {\n        text-align: right;\n    }\n</style>\n<table border=\"1\" class=\"dataframe\">\n  <thead>\n    <tr style=\"text-align: right;\">\n      <th></th>\n      <th>Dates</th>\n      <th>Category</th>\n      <th>DayOfWeek</th>\n      <th>PdDistrict</th>\n      <th>X</th>\n      <th>Y</th>\n      <th>Time</th>\n      <th>Hour</th>\n      <th>Month</th>\n      <th>Year</th>\n    </tr>\n  </thead>\n  <tbody>\n    <tr>\n      <th>0</th>\n      <td>2015-05-13 23:53:00</td>\n      <td>0</td>\n      <td>2</td>\n      <td>NORTHERN</td>\n      <td>-122.425892</td>\n      <td>37.774599</td>\n      <td>85980</td>\n      <td>23</td>\n      <td>5</td>\n      <td>2015</td>\n    </tr>\n    <tr>\n      <th>1</th>\n      <td>2015-05-13 23:53:00</td>\n      <td>1</td>\n      <td>2</td>\n      <td>NORTHERN</td>\n      <td>-122.425892</td>\n      <td>37.774599</td>\n      <td>85980</td>\n      <td>23</td>\n      <td>5</td>\n      <td>2015</td>\n    </tr>\n    <tr>\n      <th>2</th>\n      <td>2015-05-13 23:33:00</td>\n      <td>1</td>\n      <td>2</td>\n      <td>NORTHERN</td>\n      <td>-122.424363</td>\n      <td>37.800414</td>\n      <td>84780</td>\n      <td>23</td>\n      <td>5</td>\n      <td>2015</td>\n    </tr>\n    <tr>\n      <th>3</th>\n      <td>2015-05-13 23:30:00</td>\n      <td>2</td>\n      <td>2</td>\n      <td>NORTHERN</td>\n      <td>-122.426995</td>\n      <td>37.800873</td>\n      <td>84600</td>\n      <td>23</td>\n      <td>5</td>\n      <td>2015</td>\n    </tr>\n    <tr>\n      <th>4</th>\n      <td>2015-05-13 23:30:00</td>\n      <td>2</td>\n      <td>2</td>\n      <td>PARK</td>\n      <td>-122.438738</td>\n      <td>37.771541</td>\n      <td>84600</td>\n      <td>23</td>\n      <td>5</td>\n      <td>2015</td>\n    </tr>\n  </tbody>\n</table>\n</div>"
     },
     "metadata": {},
     "execution_count": 5
    }
   ],
   "source": [
    "#Format time data\n",
    "\n",
    "df.Dates = pd.to_datetime(df.Dates)\n",
    "df['Time'] = df.Dates.dt.hour*3600 + df.Dates.dt.minute*60 + df.Dates.dt.second\n",
    "df['Hour'] = df.Dates.dt.hour\n",
    "df['Month']=df.Dates.dt.month\n",
    "df['Year']=df.Dates.dt.year\n",
    "for key in ['Time','Hour','Month','Year']:\n",
    "    df[key]=pd.to_numeric(df[key])\n",
    "\n",
    "\n",
    "df['Category'].replace(to_replace=cat,value=[i for i in range(len(cat))],inplace=True)\n",
    "df.head()"
   ]
  },
  {
   "cell_type": "code",
   "execution_count": 6,
   "metadata": {},
   "outputs": [
    {
     "output_type": "execute_result",
     "data": {
      "text/plain": [
       "                Dates  Category  DayOfWeek PdDistrict           X          Y  \\\n",
       "0 2015-05-13 23:53:00         0          2   NORTHERN -122.425892  37.774599   \n",
       "1 2015-05-13 23:53:00         1          2   NORTHERN -122.425892  37.774599   \n",
       "2 2015-05-13 23:33:00         1          2   NORTHERN -122.424363  37.800414   \n",
       "3 2015-05-13 23:30:00         2          2   NORTHERN -122.426995  37.800873   \n",
       "4 2015-05-13 23:30:00         2          2       PARK -122.438738  37.771541   \n",
       "\n",
       "    Time  Hour  Month  Year  \n",
       "0  85980    23      5   1.0  \n",
       "1  85980    23      5   1.0  \n",
       "2  84780    23      5   1.0  \n",
       "3  84600    23      5   1.0  \n",
       "4  84600    23      5   1.0  "
      ],
      "text/html": "<div>\n<style scoped>\n    .dataframe tbody tr th:only-of-type {\n        vertical-align: middle;\n    }\n\n    .dataframe tbody tr th {\n        vertical-align: top;\n    }\n\n    .dataframe thead th {\n        text-align: right;\n    }\n</style>\n<table border=\"1\" class=\"dataframe\">\n  <thead>\n    <tr style=\"text-align: right;\">\n      <th></th>\n      <th>Dates</th>\n      <th>Category</th>\n      <th>DayOfWeek</th>\n      <th>PdDistrict</th>\n      <th>X</th>\n      <th>Y</th>\n      <th>Time</th>\n      <th>Hour</th>\n      <th>Month</th>\n      <th>Year</th>\n    </tr>\n  </thead>\n  <tbody>\n    <tr>\n      <th>0</th>\n      <td>2015-05-13 23:53:00</td>\n      <td>0</td>\n      <td>2</td>\n      <td>NORTHERN</td>\n      <td>-122.425892</td>\n      <td>37.774599</td>\n      <td>85980</td>\n      <td>23</td>\n      <td>5</td>\n      <td>1.0</td>\n    </tr>\n    <tr>\n      <th>1</th>\n      <td>2015-05-13 23:53:00</td>\n      <td>1</td>\n      <td>2</td>\n      <td>NORTHERN</td>\n      <td>-122.425892</td>\n      <td>37.774599</td>\n      <td>85980</td>\n      <td>23</td>\n      <td>5</td>\n      <td>1.0</td>\n    </tr>\n    <tr>\n      <th>2</th>\n      <td>2015-05-13 23:33:00</td>\n      <td>1</td>\n      <td>2</td>\n      <td>NORTHERN</td>\n      <td>-122.424363</td>\n      <td>37.800414</td>\n      <td>84780</td>\n      <td>23</td>\n      <td>5</td>\n      <td>1.0</td>\n    </tr>\n    <tr>\n      <th>3</th>\n      <td>2015-05-13 23:30:00</td>\n      <td>2</td>\n      <td>2</td>\n      <td>NORTHERN</td>\n      <td>-122.426995</td>\n      <td>37.800873</td>\n      <td>84600</td>\n      <td>23</td>\n      <td>5</td>\n      <td>1.0</td>\n    </tr>\n    <tr>\n      <th>4</th>\n      <td>2015-05-13 23:30:00</td>\n      <td>2</td>\n      <td>2</td>\n      <td>PARK</td>\n      <td>-122.438738</td>\n      <td>37.771541</td>\n      <td>84600</td>\n      <td>23</td>\n      <td>5</td>\n      <td>1.0</td>\n    </tr>\n  </tbody>\n</table>\n</div>"
     },
     "metadata": {},
     "execution_count": 6
    }
   ],
   "source": [
    "#Cell to run if you want to have year normalized between -1 and 1\n",
    "def normalize_year(data):\n",
    "    years = data.Dates.dt.year.unique()\n",
    "    years = sorted(years)\n",
    "    a = 2/(years[-1] - years[0])\n",
    "    b = -a*(years[-1]+years[0])/2\n",
    "    data['Year'].replace(to_replace=years,value=[a*year +b for year in years],inplace=True)\n",
    "\n",
    "normalize_year(df)\n",
    "df.head()"
   ]
  },
  {
   "cell_type": "code",
   "execution_count": 7,
   "metadata": {},
   "outputs": [
    {
     "output_type": "execute_result",
     "data": {
      "text/plain": [
       "                Dates  Category  DayOfWeek           X          Y   Time  \\\n",
       "0 2015-05-13 23:53:00         0          2 -122.425892  37.774599  85980   \n",
       "1 2015-05-13 23:53:00         1          2 -122.425892  37.774599  85980   \n",
       "2 2015-05-13 23:33:00         1          2 -122.424363  37.800414  84780   \n",
       "3 2015-05-13 23:30:00         2          2 -122.426995  37.800873  84600   \n",
       "4 2015-05-13 23:30:00         2          2 -122.438738  37.771541  84600   \n",
       "\n",
       "   Hour  Month  Year  X_Bar_District  Y_Bar_District  \n",
       "0    23      5   1.0     -122.426647       37.786379  \n",
       "1    23      5   1.0     -122.426647       37.786379  \n",
       "2    23      5   1.0     -122.426647       37.786379  \n",
       "3    23      5   1.0     -122.426647       37.786379  \n",
       "4    23      5   1.0     -122.445448       37.770299  "
      ],
      "text/html": "<div>\n<style scoped>\n    .dataframe tbody tr th:only-of-type {\n        vertical-align: middle;\n    }\n\n    .dataframe tbody tr th {\n        vertical-align: top;\n    }\n\n    .dataframe thead th {\n        text-align: right;\n    }\n</style>\n<table border=\"1\" class=\"dataframe\">\n  <thead>\n    <tr style=\"text-align: right;\">\n      <th></th>\n      <th>Dates</th>\n      <th>Category</th>\n      <th>DayOfWeek</th>\n      <th>X</th>\n      <th>Y</th>\n      <th>Time</th>\n      <th>Hour</th>\n      <th>Month</th>\n      <th>Year</th>\n      <th>X_Bar_District</th>\n      <th>Y_Bar_District</th>\n    </tr>\n  </thead>\n  <tbody>\n    <tr>\n      <th>0</th>\n      <td>2015-05-13 23:53:00</td>\n      <td>0</td>\n      <td>2</td>\n      <td>-122.425892</td>\n      <td>37.774599</td>\n      <td>85980</td>\n      <td>23</td>\n      <td>5</td>\n      <td>1.0</td>\n      <td>-122.426647</td>\n      <td>37.786379</td>\n    </tr>\n    <tr>\n      <th>1</th>\n      <td>2015-05-13 23:53:00</td>\n      <td>1</td>\n      <td>2</td>\n      <td>-122.425892</td>\n      <td>37.774599</td>\n      <td>85980</td>\n      <td>23</td>\n      <td>5</td>\n      <td>1.0</td>\n      <td>-122.426647</td>\n      <td>37.786379</td>\n    </tr>\n    <tr>\n      <th>2</th>\n      <td>2015-05-13 23:33:00</td>\n      <td>1</td>\n      <td>2</td>\n      <td>-122.424363</td>\n      <td>37.800414</td>\n      <td>84780</td>\n      <td>23</td>\n      <td>5</td>\n      <td>1.0</td>\n      <td>-122.426647</td>\n      <td>37.786379</td>\n    </tr>\n    <tr>\n      <th>3</th>\n      <td>2015-05-13 23:30:00</td>\n      <td>2</td>\n      <td>2</td>\n      <td>-122.426995</td>\n      <td>37.800873</td>\n      <td>84600</td>\n      <td>23</td>\n      <td>5</td>\n      <td>1.0</td>\n      <td>-122.426647</td>\n      <td>37.786379</td>\n    </tr>\n    <tr>\n      <th>4</th>\n      <td>2015-05-13 23:30:00</td>\n      <td>2</td>\n      <td>2</td>\n      <td>-122.438738</td>\n      <td>37.771541</td>\n      <td>84600</td>\n      <td>23</td>\n      <td>5</td>\n      <td>1.0</td>\n      <td>-122.445448</td>\n      <td>37.770299</td>\n    </tr>\n  </tbody>\n</table>\n</div>"
     },
     "metadata": {},
     "execution_count": 7
    }
   ],
   "source": [
    "def District_barycenters(data):\n",
    "    Districts = data['PdDistrict'].unique()\n",
    "    Bary_coord = {}\n",
    "    for i in range(len(Districts)):\n",
    "        test = data[['PdDistrict','X','Y']]\n",
    "        district = test.loc[test['PdDistrict']==Districts[i],:]\n",
    "        abs = district['X']\n",
    "        ord = district['Y']\n",
    "        mean_abs = abs.mean()\n",
    "        mean_ord = ord.mean()\n",
    "        Bary_coord[Districts[i]] = (mean_abs,mean_ord)\n",
    "    data['X_Bar_District'] = data['PdDistrict']\n",
    "    data['Y_Bar_District'] = data['PdDistrict']\n",
    "    data.drop('PdDistrict', inplace = True, axis=1)\n",
    "    data['X_Bar_District'].replace(to_replace=Districts,value=[Bary_coord[Districts[i]][0] for i in range(len(Districts))],                   inplace=True)\n",
    "    data['Y_Bar_District'].replace(to_replace=Districts,value=[Bary_coord[Districts[i]][1] for i in range(len(Districts))],                   inplace=True)\n",
    "District_barycenters(df)\n",
    "df.head()"
   ]
  },
  {
   "cell_type": "code",
   "execution_count": 8,
   "metadata": {},
   "outputs": [],
   "source": [
    "def percentage_per_category(data):\n",
    "    percentage_per_category = np.zeros(39)\n",
    "    for c in range(39):\n",
    "        #compute the percentage of category c in data\n",
    "        percentage_per_category[c] = data.loc[data['Category']==c,:].count().unique()/len(data) \n",
    "    return percentage_per_category"
   ]
  },
  {
   "cell_type": "code",
   "execution_count": 9,
   "metadata": {},
   "outputs": [],
   "source": [
    "# this function enables to add data in the sample in order to minimize (less than epsilon = 1e-3 here) the gap between the proportion of\n",
    "# each category in the real data (df) and in the sample (dfsample)\n",
    "def rebuild_data(data,sample, epsilon = 1e-3):\n",
    "    real_percentage = percentage_per_category(data)\n",
    "    proportion = percentage_per_category(sample)\n",
    "    category = np.sort(data['Category'].unique())\n",
    "    N = len(category)\n",
    "    for i in range(N):\n",
    "        m = category[i]\n",
    "        incomplete = True\n",
    "        error = np.abs(real_percentage[m] - proportion[m])\n",
    "        while incomplete:\n",
    "            data_cat = data.loc[data['Category'] == m,:]\n",
    "            n = len(data_cat)\n",
    "            index = np.random.randint(1,n)\n",
    "            new_line = data_cat[index:index+1]\n",
    "            sample = sample.append(new_line,ignore_index = True)\n",
    "            proportion = percentage_per_category(sample)\n",
    "            incomplete = real_percentage[m] - proportion[m] > epsilon\n",
    "            error = np.abs(real_percentage[m] - proportion[m])\n",
    "    return sample"
   ]
  },
  {
   "cell_type": "code",
   "execution_count": 10,
   "metadata": {},
   "outputs": [],
   "source": [
    "#Cell to run if you want to have cyclic year\n",
    "\n",
    "df['Sin_Year'] = np.sin(2 * np.pi * df['Time'] / (24*60*60))  # cycle rpz to explore \n",
    "df['Cos_Year'] = np.cos(2 * np.pi * df['Time'] / (24*60*60))\n",
    "\n",
    "df['Sin_Hour'] = np.sin(2 * np.pi * df['Hour'] / 24)  # cycle rpz to explore \n",
    "df['Cos_Hour'] = np.cos(2 * np.pi * df['Hour'] / 24)\n",
    "\n",
    "df['Sin_Month'] = np.sin(2 * np.pi * df['Month'] / 12)  # cycle rpz to explore \n",
    "df['Cos_Month'] = np.cos(2 * np.pi * df['Month'] / 12) \n",
    "\n",
    "df['Sin_Day'] = np.sin(2 * np.pi * df['DayOfWeek'] / 7)  # cycle rpz to explore \n",
    "df['Cos_Day'] = np.cos(2 * np.pi * df['DayOfWeek'] / 7) \n",
    "\n",
    "df.drop(['Time','Hour','Month','DayOfWeek'],inplace =True, axis=1)"
   ]
  },
  {
   "cell_type": "code",
   "execution_count": 35,
   "metadata": {},
   "outputs": [
    {
     "output_type": "execute_result",
     "data": {
      "text/plain": [
       "            X          Y      Year  X_Bar_District  Y_Bar_District  Sin_Year  \\\n",
       "0 -122.466205  37.772541 -0.833333     -122.470087       37.780208  0.004363   \n",
       "1 -122.419677  37.765851  0.166667     -122.419409       37.759961 -0.960050   \n",
       "2 -122.410474  37.806496  0.333333     -122.409619       37.795685 -0.993572   \n",
       "3 -122.411265  37.782139  0.666667     -122.412503       37.783802 -0.896873   \n",
       "4 -122.413798  37.785630 -0.333333     -122.412503       37.783802  0.500000   \n",
       "\n",
       "   Cos_Year  Sin_Hour  Cos_Hour     Sin_Month     Cos_Month   Sin_Day  \\\n",
       "0  0.999990  0.000000  1.000000  5.000000e-01  8.660254e-01  0.433884   \n",
       "1 -0.279829 -0.866025 -0.500000 -8.660254e-01 -5.000000e-01 -0.781831   \n",
       "2 -0.113203 -0.965926 -0.258819  1.000000e+00  6.123234e-17 -0.781831   \n",
       "3  0.442289 -0.965926  0.258819 -1.000000e+00 -1.836970e-16 -0.974928   \n",
       "4  0.866025  0.500000  0.866025  1.224647e-16 -1.000000e+00  0.974928   \n",
       "\n",
       "    Cos_Day  \n",
       "0 -0.900969  \n",
       "1  0.623490  \n",
       "2  0.623490  \n",
       "3 -0.222521  \n",
       "4 -0.222521  "
      ],
      "text/html": "<div>\n<style scoped>\n    .dataframe tbody tr th:only-of-type {\n        vertical-align: middle;\n    }\n\n    .dataframe tbody tr th {\n        vertical-align: top;\n    }\n\n    .dataframe thead th {\n        text-align: right;\n    }\n</style>\n<table border=\"1\" class=\"dataframe\">\n  <thead>\n    <tr style=\"text-align: right;\">\n      <th></th>\n      <th>X</th>\n      <th>Y</th>\n      <th>Year</th>\n      <th>X_Bar_District</th>\n      <th>Y_Bar_District</th>\n      <th>Sin_Year</th>\n      <th>Cos_Year</th>\n      <th>Sin_Hour</th>\n      <th>Cos_Hour</th>\n      <th>Sin_Month</th>\n      <th>Cos_Month</th>\n      <th>Sin_Day</th>\n      <th>Cos_Day</th>\n    </tr>\n  </thead>\n  <tbody>\n    <tr>\n      <th>0</th>\n      <td>-122.466205</td>\n      <td>37.772541</td>\n      <td>-0.833333</td>\n      <td>-122.470087</td>\n      <td>37.780208</td>\n      <td>0.004363</td>\n      <td>0.999990</td>\n      <td>0.000000</td>\n      <td>1.000000</td>\n      <td>5.000000e-01</td>\n      <td>8.660254e-01</td>\n      <td>0.433884</td>\n      <td>-0.900969</td>\n    </tr>\n    <tr>\n      <th>1</th>\n      <td>-122.419677</td>\n      <td>37.765851</td>\n      <td>0.166667</td>\n      <td>-122.419409</td>\n      <td>37.759961</td>\n      <td>-0.960050</td>\n      <td>-0.279829</td>\n      <td>-0.866025</td>\n      <td>-0.500000</td>\n      <td>-8.660254e-01</td>\n      <td>-5.000000e-01</td>\n      <td>-0.781831</td>\n      <td>0.623490</td>\n    </tr>\n    <tr>\n      <th>2</th>\n      <td>-122.410474</td>\n      <td>37.806496</td>\n      <td>0.333333</td>\n      <td>-122.409619</td>\n      <td>37.795685</td>\n      <td>-0.993572</td>\n      <td>-0.113203</td>\n      <td>-0.965926</td>\n      <td>-0.258819</td>\n      <td>1.000000e+00</td>\n      <td>6.123234e-17</td>\n      <td>-0.781831</td>\n      <td>0.623490</td>\n    </tr>\n    <tr>\n      <th>3</th>\n      <td>-122.411265</td>\n      <td>37.782139</td>\n      <td>0.666667</td>\n      <td>-122.412503</td>\n      <td>37.783802</td>\n      <td>-0.896873</td>\n      <td>0.442289</td>\n      <td>-0.965926</td>\n      <td>0.258819</td>\n      <td>-1.000000e+00</td>\n      <td>-1.836970e-16</td>\n      <td>-0.974928</td>\n      <td>-0.222521</td>\n    </tr>\n    <tr>\n      <th>4</th>\n      <td>-122.413798</td>\n      <td>37.785630</td>\n      <td>-0.333333</td>\n      <td>-122.412503</td>\n      <td>37.783802</td>\n      <td>0.500000</td>\n      <td>0.866025</td>\n      <td>0.500000</td>\n      <td>0.866025</td>\n      <td>1.224647e-16</td>\n      <td>-1.000000e+00</td>\n      <td>0.974928</td>\n      <td>-0.222521</td>\n    </tr>\n  </tbody>\n</table>\n</div>"
     },
     "metadata": {},
     "execution_count": 35
    }
   ],
   "source": [
    "dfsample = df.sample(n=100000)\n",
    "dfsample = rebuild_data(df,dfsample) # new line added in order to imporve the sample\n",
    "ysample=dfsample['Category']\n",
    "ysample.head()\n",
    "dfsample.drop('Category',inplace =True, axis=1)\n",
    "dfsample.drop('Dates',inplace =True, axis=1)\n",
    "dfsample.head()"
   ]
  },
  {
   "cell_type": "code",
   "execution_count": 36,
   "metadata": {},
   "outputs": [
    {
     "output_type": "stream",
     "name": "stdout",
     "text": [
      "(20025, 38)\n2.4700658648379443\n0.2644694132334582\n"
     ]
    }
   ],
   "source": [
    "# Load Library\n",
    "from sklearn.metrics import accuracy_score\n",
    "from sklearn.model_selection import train_test_split\n",
    "from sklearn.model_selection import cross_val_score\n",
    "from sklearn.ensemble import RandomForestClassifier, AdaBoostClassifier,GradientBoostingClassifier\n",
    "from sklearn.neural_network import MLPClassifier\n",
    "from sklearn.neighbors import KNeighborsClassifier\n",
    "\n",
    "#X=(dfsample-dfsample.mean())/dfsample.std()\n",
    "X=dfsample\n",
    "y=np.array(ysample)\n",
    "\n",
    "# Split the training test set\n",
    "X_train, X_test, y_train, y_test = train_test_split(X, y, test_size=0.2, random_state=42)\n",
    "\n",
    "\n",
    "#  Fit a Random Forest model\n",
    "clf = RandomForestClassifier(n_estimators=150,max_depth=10,min_samples_leaf=20,min_samples_split=40,max_features='sqrt',bootstrap=False,random_state=42)\n",
    "#clf = MLPClassifier(hidden_layer_sizes=(100),solver='sgd',learning_rate='invscaling',random_state=1)\n",
    "#clf=KNeighborsClassifier(n_neighbors=1000)\n",
    "clf.fit(X_train, y_train)\n",
    "p_pred = clf.predict_proba(X_test)\n",
    "print(p_pred.shape)\n",
    "\n",
    "print(log_loss(p_pred,y_test))\n",
    "print(accuracy_score(y_test, np.argmax(p_pred,axis=1)))\n"
   ]
  },
  {
   "cell_type": "code",
   "execution_count": 15,
   "metadata": {},
   "outputs": [
    {
     "output_type": "stream",
     "name": "stdout",
     "text": [
      "{'bootstrap': True, 'ccp_alpha': 0.0, 'class_weight': None, 'criterion': 'gini', 'max_depth': None, 'max_features': 'auto', 'max_leaf_nodes': None, 'max_samples': None, 'min_impurity_decrease': 0.0, 'min_impurity_split': None, 'min_samples_leaf': 1, 'min_samples_split': 40, 'min_weight_fraction_leaf': 0.0, 'n_estimators': 100, 'n_jobs': None, 'oob_score': False, 'random_state': 42, 'verbose': 0, 'warm_start': False}\n"
     ]
    }
   ],
   "source": [
    "print(clf.get_params())"
   ]
  },
  {
   "cell_type": "code",
   "execution_count": 32,
   "metadata": {},
   "outputs": [
    {
     "output_type": "stream",
     "name": "stdout",
     "text": [
      "Fitting 5 folds for each of 50 candidates, totalling 250 fits\n",
      "C:\\Users\\Remi\\AppData\\Local\\Programs\\Python\\Python38-32\\lib\\site-packages\\sklearn\\model_selection\\_split.py:666: UserWarning: The least populated class in y has only 1 members, which is less than n_splits=5.\n",
      "  warnings.warn((\"The least populated class in y has only %d\"\n"
     ]
    },
    {
     "output_type": "execute_result",
     "data": {
      "text/plain": [
       "RandomizedSearchCV(cv=5, estimator=RandomForestClassifier(), n_iter=50,\n",
       "                   n_jobs=-1,\n",
       "                   param_distributions={'bootstrap': [True, False],\n",
       "                                        'max_depth': [None, 10, 50, 100, None],\n",
       "                                        'max_features': ['auto', 'sqrt'],\n",
       "                                        'min_samples_leaf': [10, 20, 50],\n",
       "                                        'min_samples_split': [20, 50, 100],\n",
       "                                        'n_estimators': [50, 100, 150]},\n",
       "                   random_state=42, verbose=2)"
      ]
     },
     "metadata": {},
     "execution_count": 32
    }
   ],
   "source": [
    "from sklearn.model_selection import RandomizedSearchCV\n",
    "\n",
    "clf = RandomForestClassifier()\n",
    "# Number of trees in random forest\n",
    "n_estimators =[50,100,150]\n",
    "# Number of features to consider at every split\n",
    "max_features = ['auto', 'sqrt']\n",
    "# Maximum number of levels in tree\n",
    "max_depth = [None,5,10,15]\n",
    "max_depth.append(None)\n",
    "# Minimum number of samples required to split a node\n",
    "min_samples_split = [20,50,100]\n",
    "# Minimum number of samples required at each leaf node\n",
    "min_samples_leaf = [10,20,50]\n",
    "# Method of selecting samples for training each tree\n",
    "bootstrap = [True, False]\n",
    "# Create the random grid\n",
    "random_grid = {'n_estimators': n_estimators,\n",
    "               'max_features': max_features,\n",
    "               'max_depth': max_depth,\n",
    "               'min_samples_split': min_samples_split,\n",
    "               'min_samples_leaf': min_samples_leaf,\n",
    "               'bootstrap': bootstrap}\n",
    "\n",
    "\n",
    "rf_random = RandomizedSearchCV(estimator = clf, param_distributions = random_grid, n_iter = 50, cv = 5, verbose=2, random_state=42, n_jobs = -1)\n",
    "rf_random.fit(X_train, y_train)\n",
    "\n",
    "\n",
    "\n",
    "\n",
    "    \n"
   ]
  },
  {
   "cell_type": "code",
   "execution_count": 33,
   "metadata": {},
   "outputs": [
    {
     "output_type": "stream",
     "name": "stdout",
     "text": [
      "{'n_estimators': 150, 'min_samples_split': 50, 'min_samples_leaf': 10, 'max_features': 'sqrt', 'max_depth': 100, 'bootstrap': False}\n",
      "(2020, 37)\n",
      "2.7293405480175394\n",
      "0.25396039603960396\n"
     ]
    }
   ],
   "source": [
    "print(rf_random.best_params_)\n",
    "p_pred = rf_random.predict_proba(X_test)\n",
    "print(p_pred.shape)\n",
    "\n",
    "print(log_loss(p_pred,y_test))\n",
    "print(accuracy_score(y_test, np.argmax(p_pred,axis=1)))\n"
   ]
  },
  {
   "cell_type": "code",
   "execution_count": null,
   "metadata": {},
   "outputs": [],
   "source": [
    "def cross_val_rdf(X,y,nb_range=[100],mss_range=[10]):\n",
    "    n=len(nb_range)\n",
    "    m=len(mss_range)\n",
    "    res=np.zeros((n,m))\n",
    "    for i in range(n):\n",
    "        for j in range(m):\n",
    "            print((nb_range[i],mss_range[j]))\n",
    "            clf=RandomForestClassifier(n_estimators=nb_range[i],min_samples_split=mss_range[j],random_state=42)\n",
    "            scores=cross_val_score(clf,X,y)\n",
    "            score=np.mean(scores)\n",
    "            print(score)\n",
    "            res[i,j]=score\n",
    "    (imax,jmax)=np.unravel_index(res.argmax(), res.shape)\n",
    "    return (nb_range[imax],mss_range[jmax])\n",
    "\n",
    "cross_val_rdf(X,y,nb_range=[100,150,200],mss_range=[40,50,60])\n"
   ]
  },
  {
   "cell_type": "code",
   "execution_count": null,
   "metadata": {},
   "outputs": [],
   "source": [
    "test_data = pd.read_csv('data/test.csv')\n",
    "print('test data loaded')\n",
    "test_data.drop(['Address'],inplace =True, axis=1)  #data useless, unsignificant\n",
    "test_data['DayOfWeek'].replace(to_replace=['Monday','Tuesday','Wednesday','Thursday','Friday','Saturday','Sunday'],value=[i for i in range(0,7)],inplace=True)\n",
    "\n",
    "test_data.Dates = pd.to_datetime(test_data.Dates)\n",
    "test_data['Time'] = test_data.Dates.dt.hour*3600 + test_data.Dates.dt.minute*60 + test_data.Dates.dt.second\n",
    "test_data['Hour'] = test_data.Dates.dt.hour\n",
    "test_data['Month']=test_data.Dates.dt.month\n",
    "test_data['Year']=test_data.Dates.dt.year\n",
    "for key in ['Time','Hour','Month','Year']:\n",
    "    test_data[key]=pd.to_numeric(test_data[key])\n",
    "normalize_year(test_data)\n",
    "District_barycenters(test_data)\n",
    "\n",
    "test_data['Sin_Time'] = np.sin(2 * np.pi * test_data['Time'] / (24*60*60))  # cycle rpz to explore \n",
    "test_data['Cos_Time'] = np.cos(2 * np.pi * test_data['Time'] / (24*60*60))\n",
    "\n",
    "test_data['Sin_Hour'] = np.sin(2 * np.pi * test_data['Hour'] / 24)  # cycle rpz to explore \n",
    "test_data['Cos_Hour'] = np.cos(2 * np.pi * test_data['Hour'] / 24)\n",
    "\n",
    "test_data['Sin_Month'] = np.sin(2 * np.pi * test_data['Month'] / 12)  # cycle rpz to explore \n",
    "test_data['Cos_Month'] = np.cos(2 * np.pi * test_data['Month'] / 12) \n",
    "\n",
    "test_data['Sin_Day'] = np.sin(2 * np.pi * test_data['DayOfWeek'] / 7)  # cycle rpz to explore \n",
    "test_data['Cos_Day'] = np.cos(2 * np.pi * test_data['DayOfWeek'] / 7) \n",
    "\n",
    "test_data.drop(['Id','Time','Hour','Month','DayOfWeek','Dates'],inplace =True, axis=1)\n",
    "\n",
    "test_data.head()"
   ]
  },
  {
   "cell_type": "code",
   "execution_count": null,
   "metadata": {},
   "outputs": [],
   "source": [
    "list_cat=list(list_cat)\n",
    "p_pred = clf.predict_proba(test_data)\n",
    "if p_pred.shape[1]<len(list_cat):\n",
    "    p_pred=np.concatenate((p_pred,np.zeros((len(p_pred),len(list_cat)-p_pred.shape[1]))),axis=1)\n",
    "\n",
    "pred= pd.DataFrame (p_pred, columns = list_cat)\n",
    "pred.insert(0,'Id',np.arange(len(p_pred)))\n",
    "\n",
    "pred.head()\n",
    "pred.to_csv(\"pred2.csv\")"
   ]
  },
  {
   "cell_type": "code",
   "execution_count": null,
   "metadata": {},
   "outputs": [],
   "source": [
    "pred.head()"
   ]
  },
  {
   "cell_type": "code",
   "execution_count": null,
   "metadata": {},
   "outputs": [],
   "source": []
  }
 ],
 "metadata": {
  "kernelspec": {
   "name": "python382jvsc74a57bd0abbcb8d9f889b21e7a35a6fd68ea23faf5197f2c8b5b2ec68133d2c93754c3b5",
   "display_name": "Python 3.8.2 32-bit"
  },
  "language_info": {
   "codemirror_mode": {
    "name": "ipython",
    "version": 3
   },
   "file_extension": ".py",
   "mimetype": "text/x-python",
   "name": "python",
   "nbconvert_exporter": "python",
   "pygments_lexer": "ipython3",
   "version": "3.8.2"
  },
  "metadata": {
   "interpreter": {
    "hash": "48835d67319c7fa79cfd146833b8f8715a1d2e4cc5b6d93ebe0e6a7d47e9049f"
   }
  }
 },
 "nbformat": 4,
 "nbformat_minor": 5
}