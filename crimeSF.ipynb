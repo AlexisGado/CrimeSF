{
 "cells": [
  {
   "cell_type": "markdown",
   "metadata": {},
   "source": [
    "# Crime classification in San Francisco"
   ]
  },
  {
   "cell_type": "code",
   "execution_count": 1,
   "metadata": {},
   "outputs": [],
   "source": [
    "# Run these to install package with pip for the right python install\n",
    "\n",
    "import sys\n",
    "#!{sys.executable} -m pip install seaborn"
   ]
  },
  {
   "cell_type": "code",
   "execution_count": 2,
   "metadata": {},
   "outputs": [
    {
     "output_type": "execute_result",
     "data": {
      "text/plain": [
       "<Figure size 1080x720 with 0 Axes>"
      ]
     },
     "metadata": {},
     "execution_count": 2
    },
    {
     "output_type": "display_data",
     "data": {
      "text/plain": "<Figure size 1080x720 with 0 Axes>"
     },
     "metadata": {}
    }
   ],
   "source": [
    "import pandas as pd\n",
    "import seaborn as sns\n",
    "#%matplotlib nbagg\n",
    "import matplotlib.pyplot as plt\n",
    "import numpy as np\n",
    "\n",
    "sns.set_theme()\n",
    "plt.figure(figsize=(15,10))"
   ]
  },
  {
   "cell_type": "code",
   "execution_count": 3,
   "metadata": {},
   "outputs": [
    {
     "output_type": "stream",
     "name": "stdout",
     "text": [
      "data loaded\n"
     ]
    }
   ],
   "source": [
    "#Read data\n",
    "\n",
    "df = pd.read_csv('data/train.csv')\n",
    "print('data loaded')"
   ]
  },
  {
   "cell_type": "code",
   "execution_count": 4,
   "metadata": {},
   "outputs": [
    {
     "output_type": "stream",
     "name": "stdout",
     "text": [
      "['WARRANTS' 'OTHER OFFENSES' 'LARCENY/THEFT' 'VEHICLE THEFT' 'VANDALISM'\n 'NON-CRIMINAL' 'ROBBERY' 'ASSAULT' 'WEAPON LAWS' 'BURGLARY'\n 'SUSPICIOUS OCC' 'DRUNKENNESS' 'FORGERY/COUNTERFEITING' 'DRUG/NARCOTIC'\n 'STOLEN PROPERTY' 'SECONDARY CODES' 'TRESPASS' 'MISSING PERSON' 'FRAUD'\n 'KIDNAPPING' 'RUNAWAY' 'DRIVING UNDER THE INFLUENCE'\n 'SEX OFFENSES FORCIBLE' 'PROSTITUTION' 'DISORDERLY CONDUCT' 'ARSON'\n 'FAMILY OFFENSES' 'LIQUOR LAWS' 'BRIBERY' 'EMBEZZLEMENT' 'SUICIDE'\n 'LOITERING' 'SEX OFFENSES NON FORCIBLE' 'EXTORTION' 'GAMBLING'\n 'BAD CHECKS' 'TREA' 'RECOVERED VEHICLE' 'PORNOGRAPHY/OBSCENE MAT']\n"
     ]
    }
   ],
   "source": [
    "#Get categories (output to find)\n",
    "\n",
    "cat = df.Category.unique()\n",
    "print(cat)\n",
    "df.drop(['Descript','Resolution','Address'],inplace =True, axis=1)  #data useless, unsignificant\n",
    "df.drop(df[(df.Y>60)|(df.X>-122)].index, inplace=True)  #outliers\n",
    "df.head()"
   ]
  },
  {
   "cell_type": "code",
   "execution_count": 6,
   "metadata": {},
   "outputs": [
    {
     "output_type": "execute_result",
     "data": {
      "text/plain": [
       "                 Dates        Category PdDistrict           X          Y  \\\n",
       "0  2015-05-13 23:53:00        WARRANTS   NORTHERN -122.425892  37.774599   \n",
       "1  2015-05-13 23:53:00  OTHER OFFENSES   NORTHERN -122.425892  37.774599   \n",
       "2  2015-05-13 23:33:00  OTHER OFFENSES   NORTHERN -122.424363  37.800414   \n",
       "3  2015-05-13 23:30:00   LARCENY/THEFT   NORTHERN -122.426995  37.800873   \n",
       "4  2015-05-13 23:30:00   LARCENY/THEFT       PARK -122.438738  37.771541   \n",
       "\n",
       "   Friday  Monday  Saturday  Sunday  Thursday  Tuesday  Wednesday  \n",
       "0       0       0         0       0         0        0          1  \n",
       "1       0       0         0       0         0        0          1  \n",
       "2       0       0         0       0         0        0          1  \n",
       "3       0       0         0       0         0        0          1  \n",
       "4       0       0         0       0         0        0          1  "
      ],
      "text/html": "<div>\n<style scoped>\n    .dataframe tbody tr th:only-of-type {\n        vertical-align: middle;\n    }\n\n    .dataframe tbody tr th {\n        vertical-align: top;\n    }\n\n    .dataframe thead th {\n        text-align: right;\n    }\n</style>\n<table border=\"1\" class=\"dataframe\">\n  <thead>\n    <tr style=\"text-align: right;\">\n      <th></th>\n      <th>Dates</th>\n      <th>Category</th>\n      <th>PdDistrict</th>\n      <th>X</th>\n      <th>Y</th>\n      <th>Friday</th>\n      <th>Monday</th>\n      <th>Saturday</th>\n      <th>Sunday</th>\n      <th>Thursday</th>\n      <th>Tuesday</th>\n      <th>Wednesday</th>\n    </tr>\n  </thead>\n  <tbody>\n    <tr>\n      <th>0</th>\n      <td>2015-05-13 23:53:00</td>\n      <td>WARRANTS</td>\n      <td>NORTHERN</td>\n      <td>-122.425892</td>\n      <td>37.774599</td>\n      <td>0</td>\n      <td>0</td>\n      <td>0</td>\n      <td>0</td>\n      <td>0</td>\n      <td>0</td>\n      <td>1</td>\n    </tr>\n    <tr>\n      <th>1</th>\n      <td>2015-05-13 23:53:00</td>\n      <td>OTHER OFFENSES</td>\n      <td>NORTHERN</td>\n      <td>-122.425892</td>\n      <td>37.774599</td>\n      <td>0</td>\n      <td>0</td>\n      <td>0</td>\n      <td>0</td>\n      <td>0</td>\n      <td>0</td>\n      <td>1</td>\n    </tr>\n    <tr>\n      <th>2</th>\n      <td>2015-05-13 23:33:00</td>\n      <td>OTHER OFFENSES</td>\n      <td>NORTHERN</td>\n      <td>-122.424363</td>\n      <td>37.800414</td>\n      <td>0</td>\n      <td>0</td>\n      <td>0</td>\n      <td>0</td>\n      <td>0</td>\n      <td>0</td>\n      <td>1</td>\n    </tr>\n    <tr>\n      <th>3</th>\n      <td>2015-05-13 23:30:00</td>\n      <td>LARCENY/THEFT</td>\n      <td>NORTHERN</td>\n      <td>-122.426995</td>\n      <td>37.800873</td>\n      <td>0</td>\n      <td>0</td>\n      <td>0</td>\n      <td>0</td>\n      <td>0</td>\n      <td>0</td>\n      <td>1</td>\n    </tr>\n    <tr>\n      <th>4</th>\n      <td>2015-05-13 23:30:00</td>\n      <td>LARCENY/THEFT</td>\n      <td>PARK</td>\n      <td>-122.438738</td>\n      <td>37.771541</td>\n      <td>0</td>\n      <td>0</td>\n      <td>0</td>\n      <td>0</td>\n      <td>0</td>\n      <td>0</td>\n      <td>1</td>\n    </tr>\n  </tbody>\n</table>\n</div>"
     },
     "metadata": {},
     "execution_count": 6
    }
   ],
   "source": [
    "train_dummies = pd.get_dummies(df['DayOfWeek'])\n",
    "df = pd.concat([df,train_dummies], axis=1)\n",
    "df.drop('DayOfWeek',inplace =True, axis=1)   #replace days by one-hot features\n",
    "#df['DayOfWeek'].replace(to_replace=['Monday','Tuesday','Wednesday','Thursday','Friday','Saturday','Sunday'],value=[i for i in range(0,7)],inplace=True)\n",
    "\n",
    "#train_dummies = pd.get_dummies(df['PdDistrict'])\n",
    "#df = pd.concat([df,train_dummies], axis=1)\n",
    "df.drop('PdDistrict',inplace =True, axis=1) # estimated  useless\n",
    "\n",
    "df.head()"
   ]
  },
  {
   "cell_type": "code",
   "execution_count": 8,
   "metadata": {},
   "outputs": [],
   "source": [
    "#Format time data\n",
    "\n",
    "df.Dates = pd.to_datetime(df.Dates)\n",
    "df['Time'] = df.Dates.dt.hour*3600 + df.Dates.dt.minute*60 + df.Dates.dt.second\n",
    "df['Hour'] = df.Dates.dt.hour\n",
    "df['Month']=df.Dates.dt.month\n",
    "df['Year']=df.Dates.dt.year\n",
    "for key in ['Time','Hour','Month','Year']:\n",
    "    df[key]=pd.to_numeric(df[key])\n",
    "\n",
    "#df['Sin_Time'] = np.sin(2 * np.pi * df['Time'] / (24*60*60))  # cycle rpz to explore \n",
    "#df['Cos_Time'] = np.cos(2 * np.pi * df['Time'] / (24*60*60))\n",
    "\n",
    "df['Category'].replace(to_replace=cat,value=[i for i in range(len(cat))],inplace=True)\n",
    "df.head()"
   ]
  },
  {
   "cell_type": "code",
   "execution_count": 10,
   "metadata": {},
   "outputs": [
    {
     "output_type": "execute_result",
     "data": {
      "text/plain": [
       "5278       6\n",
       "315627     4\n",
       "607384     1\n",
       "710785    13\n",
       "448284    10\n",
       "Name: Category, dtype: int64"
      ]
     },
     "metadata": {},
     "execution_count": 10
    }
   ],
   "source": [
    "dfsample = df.sample(n=10000)\n",
    "y=dfsample['Category']\n",
    "ysample.head()\n",
    "dfsample.drop('Category',inplace =True, axis=1)\n",
    "dfsample.drop('Dates',inplace =True, axis=1)\n",
    "dfsample.head()"
   ]
  },
  {
   "cell_type": "code",
   "execution_count": 23,
   "metadata": {},
   "outputs": [
    {
     "output_type": "stream",
     "name": "stdout",
     "text": [
      "-5339.840115681586\n6\n0.231\n"
     ]
    }
   ],
   "source": [
    "# Load Library\n",
    "from sklearn.metrics import accuracy_score\n",
    "from sklearn.model_selection import train_test_split\n",
    "from sklearn.ensemble import RandomForestClassifier, AdaBoostClassifier,GradientBoostingClassifier\n",
    "\n",
    "X=dfsample\n",
    "y=ysample\n",
    "# Split the training test set\n",
    "X_train, X_test, y_train, y_test = train_test_split(dfsample, ysample, test_size=0.2, random_state=42)\n",
    "\n",
    "#  Fit a Random Forest model\n",
    "clf = RandomForestClassifier(n_estimators=1000,min_samples_split=50,random_state=42)\n",
    "clf.fit(X_train, y_train)\n",
    "p_pred = clf.predict_proba(X_test)\n",
    "loss=0\n",
    "count=0\n",
    "for i in range(len(p_pred)):\n",
    "    if p_pred[i,np.array(y_test)[i]]<1e-15:\n",
    "        count+=1\n",
    "    loss+=np.log(p_pred[i,np.array(y_test)[i]]+1e-15)\n",
    "\n",
    "print(loss)\n",
    "print(count)\n",
    "print(accuracy_score(y_test, y_pred))\n"
   ]
  },
  {
   "cell_type": "code",
   "execution_count": null,
   "metadata": {},
   "outputs": [],
   "source": [
    "plt.figure(figsize=(15,12))\n",
    "sns.scatterplot(\n",
    "    data=dfsample,\n",
    "    x=\"X\", y=\"Y\", \n",
    "    hue=\"Category\",\n",
    "    legend=False\n",
    ")"
   ]
  },
  {
   "cell_type": "code",
   "execution_count": null,
   "metadata": {},
   "outputs": [],
   "source": [
    "plt.figure(figsize=(15,10))\n",
    "sns.histplot(\n",
    "    data=df,\n",
    "    x=\"Category\",\n",
    "    stat='density',\n",
    "    discrete=True,\n",
    "    hue=\"Category\",\n",
    ")"
   ]
  },
  {
   "cell_type": "code",
   "execution_count": null,
   "metadata": {},
   "outputs": [],
   "source": [
    "plt.figure(figsize=(15,10))\n",
    "sns.histplot(\n",
    "    data = df,\n",
    "    x = 'Hour',\n",
    "    discrete=True\n",
    ")"
   ]
  },
  {
   "cell_type": "code",
   "execution_count": null,
   "metadata": {},
   "outputs": [],
   "source": [
    "sns.displot(\n",
    "    data = df,\n",
    "    x = 'Hour',\n",
    "    hue = 'Category',\n",
    "    kind='kde'\n",
    ")"
   ]
  },
  {
   "cell_type": "code",
   "execution_count": null,
   "metadata": {},
   "outputs": [],
   "source": [
    "sns.displot(\n",
    "    data = dfsample,\n",
    "    x = 'Sin_Time',\n",
    "    y = 'Cos_Time'\n",
    ")"
   ]
  },
  {
   "cell_type": "code",
   "execution_count": null,
   "metadata": {},
   "outputs": [],
   "source": [
    "df.PdDistrict.unique()"
   ]
  },
  {
   "cell_type": "code",
   "execution_count": null,
   "metadata": {},
   "outputs": [],
   "source": []
  }
 ],
 "metadata": {
  "kernelspec": {
   "name": "python382jvsc74a57bd0abbcb8d9f889b21e7a35a6fd68ea23faf5197f2c8b5b2ec68133d2c93754c3b5",
   "display_name": "Python 3.8.2 32-bit"
  },
  "language_info": {
   "codemirror_mode": {
    "name": "ipython",
    "version": 3
   },
   "file_extension": ".py",
   "mimetype": "text/x-python",
   "name": "python",
   "nbconvert_exporter": "python",
   "pygments_lexer": "ipython3",
   "version": "3.8.2"
  }
 },
 "nbformat": 4,
 "nbformat_minor": 5
}