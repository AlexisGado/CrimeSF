{
  "nbformat": 4,
  "nbformat_minor": 5,
  "metadata": {
    "kernelspec": {
      "name": "python3",
      "display_name": "Python 3"
    },
    "metadata": {
      "interpreter": {
        "hash": "48835d67319c7fa79cfd146833b8f8715a1d2e4cc5b6d93ebe0e6a7d47e9049f"
      }
    },
    "colab": {
      "name": "rdf_model.ipynb",
      "provenance": [],
      "collapsed_sections": []
    },
    "language_info": {
      "name": "python"
    },
    "accelerator": "GPU"
  },
  "cells": [
    {
      "cell_type": "markdown",
      "metadata": {
        "id": "PkO32WrI6Jzf"
      },
      "source": [
        "# Crime classification in San Francisco"
      ],
      "id": "PkO32WrI6Jzf"
    },
    {
      "cell_type": "code",
      "metadata": {
        "colab": {
          "base_uri": "https://localhost:8080/"
        },
        "id": "6DsKicSO6Jzi",
        "outputId": "84439f0a-fe27-4aa1-fb28-3f4d451772cd"
      },
      "source": [
        "import sys\n",
        "import pandas as pd\n",
        "import seaborn as sns\n",
        "import matplotlib.pyplot as plt\n",
        "import numpy as np\n",
        "import pickle\n",
        "import matplotlib.pyplot as plt\n",
        "from functools import partial\n",
        "\n",
        "try:\n",
        "  from google.colab import drive\n",
        "  drive.mount('/content/gdrive', force_remount=True)\n",
        "\n",
        "  FOLDERNAME = 'ML/CrimeSF'\n",
        "  %cd /content/gdrive/My\\ Drive/$FOLDERNAME\n",
        "except ImportError:\n",
        "  pass"
      ],
      "id": "6DsKicSO6Jzi",
      "execution_count": 1,
      "outputs": [
        {
          "output_type": "stream",
          "text": [
            "Mounted at /content/gdrive\n",
            "/content/gdrive/My Drive/ML/CrimeSF\n"
          ],
          "name": "stdout"
        }
      ]
    },
    {
      "cell_type": "markdown",
      "metadata": {
        "id": "2X1C2c3DLVxV"
      },
      "source": [
        "Import the pre-processing data"
      ],
      "id": "2X1C2c3DLVxV"
    },
    {
      "cell_type": "code",
      "metadata": {
        "id": "rrhHiOCm6Jzk"
      },
      "source": [
        "train_data= pd.read_csv('pre_processing_train_data.csv')\n",
        "train_data=train_data.iloc[:,1:]"
      ],
      "id": "rrhHiOCm6Jzk",
      "execution_count": 19,
      "outputs": []
    },
    {
      "cell_type": "markdown",
      "metadata": {
        "id": "5sCKarl2Lbgf"
      },
      "source": [
        "Select a sample to train faster"
      ],
      "id": "5sCKarl2Lbgf"
    },
    {
      "cell_type": "code",
      "metadata": {
        "colab": {
          "base_uri": "https://localhost:8080/",
          "height": 326
        },
        "id": "Ue7hH1Ml6Jzl",
        "outputId": "583058f8-8ac3-4644-ccef-ff3e9d837451"
      },
      "source": [
        "train_sample=train_data.sample(n=10000)\n",
        "train_labels=train_sample['Category']\n",
        "print(\"Nb class selecteb among the 39 possible : \",len(train_labels.unique()))\n",
        "train_sample.drop('Category',inplace =True, axis=1)   # remove the label from the train sample\n",
        "train_sample.head()"
      ],
      "id": "Ue7hH1Ml6Jzl",
      "execution_count": 23,
      "outputs": [
        {
          "output_type": "stream",
          "text": [
            "Nb class selecteb among the 39 possible :  38\n"
          ],
          "name": "stdout"
        },
        {
          "output_type": "execute_result",
          "data": {
            "text/html": [
              "<div>\n",
              "<style scoped>\n",
              "    .dataframe tbody tr th:only-of-type {\n",
              "        vertical-align: middle;\n",
              "    }\n",
              "\n",
              "    .dataframe tbody tr th {\n",
              "        vertical-align: top;\n",
              "    }\n",
              "\n",
              "    .dataframe thead th {\n",
              "        text-align: right;\n",
              "    }\n",
              "</style>\n",
              "<table border=\"1\" class=\"dataframe\">\n",
              "  <thead>\n",
              "    <tr style=\"text-align: right;\">\n",
              "      <th></th>\n",
              "      <th>X</th>\n",
              "      <th>Y</th>\n",
              "      <th>Year</th>\n",
              "      <th>X_Bar_District</th>\n",
              "      <th>Y_Bar_District</th>\n",
              "      <th>Sin_Year</th>\n",
              "      <th>Cos_Year</th>\n",
              "      <th>Sin_Hour</th>\n",
              "      <th>Cos_Hour</th>\n",
              "      <th>Sin_Day_m</th>\n",
              "      <th>Cos_Day_m</th>\n",
              "      <th>Sin_Month</th>\n",
              "      <th>Cos_Month</th>\n",
              "      <th>Sin_Day_w</th>\n",
              "      <th>Cos_Day_w</th>\n",
              "    </tr>\n",
              "  </thead>\n",
              "  <tbody>\n",
              "    <tr>\n",
              "      <th>350221</th>\n",
              "      <td>-122.414753</td>\n",
              "      <td>37.772924</td>\n",
              "      <td>0.166667</td>\n",
              "      <td>-122.405282</td>\n",
              "      <td>37.779915</td>\n",
              "      <td>6.327053e-01</td>\n",
              "      <td>-0.774393</td>\n",
              "      <td>7.071068e-01</td>\n",
              "      <td>-0.707107</td>\n",
              "      <td>0.571268</td>\n",
              "      <td>0.820763</td>\n",
              "      <td>-5.000000e-01</td>\n",
              "      <td>-0.866025</td>\n",
              "      <td>-0.974928</td>\n",
              "      <td>-0.222521</td>\n",
              "    </tr>\n",
              "    <tr>\n",
              "      <th>662220</th>\n",
              "      <td>-122.423772</td>\n",
              "      <td>37.776838</td>\n",
              "      <td>-0.666667</td>\n",
              "      <td>-122.426647</td>\n",
              "      <td>37.786379</td>\n",
              "      <td>-8.660254e-01</td>\n",
              "      <td>0.500000</td>\n",
              "      <td>-8.660254e-01</td>\n",
              "      <td>0.500000</td>\n",
              "      <td>-0.485302</td>\n",
              "      <td>-0.874347</td>\n",
              "      <td>-2.449294e-16</td>\n",
              "      <td>1.000000</td>\n",
              "      <td>-0.781831</td>\n",
              "      <td>0.623490</td>\n",
              "    </tr>\n",
              "    <tr>\n",
              "      <th>341079</th>\n",
              "      <td>-122.460310</td>\n",
              "      <td>37.785538</td>\n",
              "      <td>0.166667</td>\n",
              "      <td>-122.470087</td>\n",
              "      <td>37.780208</td>\n",
              "      <td>2.181489e-02</td>\n",
              "      <td>0.999762</td>\n",
              "      <td>0.000000e+00</td>\n",
              "      <td>1.000000</td>\n",
              "      <td>-0.937752</td>\n",
              "      <td>0.347305</td>\n",
              "      <td>-8.660254e-01</td>\n",
              "      <td>-0.500000</td>\n",
              "      <td>0.974928</td>\n",
              "      <td>-0.222521</td>\n",
              "    </tr>\n",
              "    <tr>\n",
              "      <th>709804</th>\n",
              "      <td>-122.429623</td>\n",
              "      <td>37.772156</td>\n",
              "      <td>-0.666667</td>\n",
              "      <td>-122.426647</td>\n",
              "      <td>37.786379</td>\n",
              "      <td>3.925982e-02</td>\n",
              "      <td>-0.999229</td>\n",
              "      <td>2.588190e-01</td>\n",
              "      <td>-0.965926</td>\n",
              "      <td>-0.968077</td>\n",
              "      <td>-0.250653</td>\n",
              "      <td>8.660254e-01</td>\n",
              "      <td>-0.500000</td>\n",
              "      <td>-0.433884</td>\n",
              "      <td>-0.900969</td>\n",
              "    </tr>\n",
              "    <tr>\n",
              "      <th>615036</th>\n",
              "      <td>-122.425111</td>\n",
              "      <td>37.804146</td>\n",
              "      <td>-0.500000</td>\n",
              "      <td>-122.409619</td>\n",
              "      <td>37.795685</td>\n",
              "      <td>-3.216245e-16</td>\n",
              "      <td>-1.000000</td>\n",
              "      <td>1.224647e-16</td>\n",
              "      <td>-1.000000</td>\n",
              "      <td>-0.998717</td>\n",
              "      <td>-0.050649</td>\n",
              "      <td>-8.660254e-01</td>\n",
              "      <td>-0.500000</td>\n",
              "      <td>0.974928</td>\n",
              "      <td>-0.222521</td>\n",
              "    </tr>\n",
              "  </tbody>\n",
              "</table>\n",
              "</div>"
            ],
            "text/plain": [
              "                 X          Y      Year  ...  Cos_Month  Sin_Day_w  Cos_Day_w\n",
              "350221 -122.414753  37.772924  0.166667  ...  -0.866025  -0.974928  -0.222521\n",
              "662220 -122.423772  37.776838 -0.666667  ...   1.000000  -0.781831   0.623490\n",
              "341079 -122.460310  37.785538  0.166667  ...  -0.500000   0.974928  -0.222521\n",
              "709804 -122.429623  37.772156 -0.666667  ...  -0.500000  -0.433884  -0.900969\n",
              "615036 -122.425111  37.804146 -0.500000  ...  -0.500000   0.974928  -0.222521\n",
              "\n",
              "[5 rows x 15 columns]"
            ]
          },
          "metadata": {
            "tags": []
          },
          "execution_count": 23
        }
      ]
    },
    {
      "cell_type": "code",
      "metadata": {
        "colab": {
          "base_uri": "https://localhost:8080/"
        },
        "id": "f8rfxqa16Jzn",
        "outputId": "4a65d7ba-7a5d-4d4e-9f7e-0852d6ccdd65"
      },
      "source": [
        "# Load the model, loss and useful function\n",
        "from sklearn.model_selection import train_test_split\n",
        "from sklearn.ensemble import RandomForestClassifier\n",
        "from sklearn.metrics import log_loss\n",
        "\n",
        "\n",
        "X=train_sample\n",
        "y=train_labels\n",
        "\n",
        "\n",
        "# Split the training test set\n",
        "X_train, X_test, y_train, y_test = train_test_split(X, y, test_size=0.2, random_state=42)\n",
        "\n",
        "#  Fit a Random Forest model\n",
        "clf = RandomForestClassifier(n_estimators=150,max_depth=None,min_samples_leaf=100,max_features='sqrt',bootstrap=False,random_state=42)\n",
        "clf.fit(X_train, y_train)\n",
        "p_pred = clf.predict_proba(X_test)\n",
        "\n",
        "print(\"The loss on the test set is : \",log_loss(y_test,p_pred,labels=y_train.unique()))\n"
      ],
      "id": "f8rfxqa16Jzn",
      "execution_count": 24,
      "outputs": [
        {
          "output_type": "stream",
          "text": [
            "The loss on the test set is :  2.540480349070633\n"
          ],
          "name": "stdout"
        }
      ]
    },
    {
      "cell_type": "markdown",
      "metadata": {
        "id": "9OcPlKe7Mc2Z"
      },
      "source": [
        "We want to make a cross validation on the random forest model. The main parameters are the number of estimators, the maximal depth and the minimum number of sample per leaf. We will first choose a number of estimators independently from the other parameters. Indeed, the increasing of the number of tree is not correlated with the depth of the trees. It just certify that the results are not too random. \\\\\n",
        "\n",
        "For the other parameters, there are closely linked. One important point is that the training set is much bigger than the training sample used for cross validation. Thereby, a maximal depth which works well in cross validation could not work so well on the whole training set. Indeed, there will be much more example per leaf and the model will not be enough precise. The only choice of the minimum sample per leaf determined the depth of trees and permits to guarantee the performance of the model for any size of the training example. Indeed, for a number of sample $n$ and a depth $d$, the number of sample per leaf will roughly be $\\frac{n}{2^d}$. Then if we fix this number, we fix the depth."
      ],
      "id": "9OcPlKe7Mc2Z"
    },
    {
      "cell_type": "code",
      "metadata": {
        "tags": [],
        "id": "5jwyXKg06Jzw",
        "colab": {
          "base_uri": "https://localhost:8080/",
          "height": 573
        },
        "outputId": "ab0fbe8b-4c10-4959-fdb9-9f050e5cf1b5"
      },
      "source": [
        "def cross_val_rdf_nb(X,y,nb_estimators=[10,50,100,150,200]):\n",
        "    X=np.array(X)\n",
        "    y=np.array(y)\n",
        "    nb=len(nb_estimators)\n",
        "    losses=[]\n",
        "    for i in range(nb):\n",
        "        loss=[]\n",
        "        clf=RandomForestClassifier(n_estimators=nb_estimators[i],min_samples_leaf=100,random_state=42)\n",
        "        for it in range(10):\n",
        "            X_train, X_test, y_train, y_test = train_test_split(X, y , random_state =it,     test_size=0.25)\n",
        "            clf.fit(X_train,y_train)\n",
        "            p_pred = clf.predict_proba(X_test)\n",
        "            l=log_loss(y_test,p_pred,labels=np.unique(y_train))\n",
        "            loss.append(l)\n",
        "        losses.append(loss)\n",
        "    losses=np.asarray(losses)\n",
        "    plt.title(\"Log loss\")\n",
        "    plt.xlabel(\"Number of estimators\")\n",
        "    plt.errorbar(nb_estimators,losses.mean(axis=1),losses.std(axis=1))\n",
        "    plt.show()\n",
        "\n",
        "def cross_val_rdf_msl(X,y,msl_range=[10,50,100,200]):\n",
        "    X=np.array(X)\n",
        "    y=np.array(y)\n",
        "    nb=len(msl_range)\n",
        "    losses=[]\n",
        "    for i in range(nb):\n",
        "        loss=[]\n",
        "        clf=RandomForestClassifier(n_estimators=100,min_samples_leaf=msl_range[i],random_state=42)\n",
        "        for it in range(10):\n",
        "            X_train, X_test, y_train, y_test = train_test_split(X, y , random_state =it, test_size=0.25)\n",
        "            clf.fit(X_train,y_train)\n",
        "            p_pred = clf.predict_proba(X_test)\n",
        "            l=log_loss(y_test,p_pred,labels=np.unique(y_train))\n",
        "            loss.append(l)\n",
        "        losses.append(loss)\n",
        "    losses=np.asarray(losses)\n",
        "    plt.title(\"Log loss\")\n",
        "    plt.xlabel(\"Minimum sample per leaf\")\n",
        "    plt.errorbar(msl_range,losses.mean(axis=1),losses.std(axis=1))\n",
        "    plt.show()\n",
        "\n",
        "cross_val_rdf_nb(X,y,nb_estimators=[10,30,50,75,100,150,200])\n",
        "cross_val_rdf_msl(X,y,msl_range=[10,30,50,75,100,150,200,500])\n"
      ],
      "id": "5jwyXKg06Jzw",
      "execution_count": 33,
      "outputs": [
        {
          "output_type": "display_data",
          "data": {
            "image/png": "[encoded data removed]",
            "text/plain": [
              "<Figure size 432x288 with 1 Axes>"
            ]
          },
          "metadata": {
            "tags": [],
            "needs_background": "light"
          }
        },
        {
          "output_type": "display_data",
          "data": {
            "image/png": "[encoded data removed]",
            "text/plain": [
              "<Figure size 432x288 with 1 Axes>"
            ]
          },
          "metadata": {
            "tags": [],
            "needs_background": "light"
          }
        }
      ]
    },
    {
      "cell_type": "markdown",
      "metadata": {
        "id": "-BTR7a4fU3oH"
      },
      "source": [
        "We observe that a number of 150 estimators is a good tradeoff between precision and computation time and that a minimum sample per leaf of 100 is optimal for our problem. We can now fit our model on the full training set."
      ],
      "id": "-BTR7a4fU3oH"
    },
    {
      "cell_type": "code",
      "metadata": {
        "id": "njO1JGi06Jzp",
        "colab": {
          "base_uri": "https://localhost:8080/"
        },
        "outputId": "77d44403-97d3-4294-d69c-ff139d555cbe"
      },
      "source": [
        "train_labels=train_data['Category']\n",
        "train_data.drop('Category',inplace =True, axis=1)   # remove the label from the train sample\n",
        "\n",
        "clf = RandomForestClassifier(n_estimators=150,min_samples_leaf=100)\n",
        "\n",
        "clf.fit(train_data, train_labels)"
      ],
      "id": "njO1JGi06Jzp",
      "execution_count": 8,
      "outputs": [
        {
          "output_type": "execute_result",
          "data": {
            "text/plain": [
              "RandomForestClassifier(bootstrap=False, ccp_alpha=0.0, class_weight=None,\n",
              "                       criterion='gini', max_depth=None, max_features='sqrt',\n",
              "                       max_leaf_nodes=None, max_samples=None,\n",
              "                       min_impurity_decrease=0.0, min_impurity_split=None,\n",
              "                       min_samples_leaf=100, min_samples_split=2,\n",
              "                       min_weight_fraction_leaf=0.0, n_estimators=150,\n",
              "                       n_jobs=None, oob_score=False, random_state=42, verbose=0,\n",
              "                       warm_start=False)"
            ]
          },
          "metadata": {
            "tags": []
          },
          "execution_count": 8
        }
      ]
    },
    {
      "cell_type": "markdown",
      "metadata": {
        "id": "RqnkErqBWWBE"
      },
      "source": [
        "Load the test dataset, with the categories of our training data."
      ],
      "id": "RqnkErqBWWBE"
    },
    {
      "cell_type": "code",
      "metadata": {
        "colab": {
          "base_uri": "https://localhost:8080/",
          "height": 224
        },
        "id": "CNzXd3N_AzJG",
        "outputId": "61077e4a-2ea2-4d35-ac1e-c32fab353bd9"
      },
      "source": [
        "test_data= pd.read_csv('pre_processing_test_data.csv')\n",
        "test_data=test_data.iloc[:,1:]\n",
        "list_cat=np.load('categories.npy',allow_pickle=True)\n",
        "test_data.head()"
      ],
      "id": "CNzXd3N_AzJG",
      "execution_count": 9,
      "outputs": [
        {
          "output_type": "execute_result",
          "data": {
            "text/html": [
              "<div>\n",
              "<style scoped>\n",
              "    .dataframe tbody tr th:only-of-type {\n",
              "        vertical-align: middle;\n",
              "    }\n",
              "\n",
              "    .dataframe tbody tr th {\n",
              "        vertical-align: top;\n",
              "    }\n",
              "\n",
              "    .dataframe thead th {\n",
              "        text-align: right;\n",
              "    }\n",
              "</style>\n",
              "<table border=\"1\" class=\"dataframe\">\n",
              "  <thead>\n",
              "    <tr style=\"text-align: right;\">\n",
              "      <th></th>\n",
              "      <th>X</th>\n",
              "      <th>Y</th>\n",
              "      <th>Year</th>\n",
              "      <th>X_Bar_District</th>\n",
              "      <th>Y_Bar_District</th>\n",
              "      <th>Sin_Time</th>\n",
              "      <th>Cos_Time</th>\n",
              "      <th>Sin_Hour</th>\n",
              "      <th>Cos_Hour</th>\n",
              "      <th>Sin_Day_m</th>\n",
              "      <th>Cos_Day_m</th>\n",
              "      <th>Sin_Month</th>\n",
              "      <th>Cos_Month</th>\n",
              "      <th>Sin_Day_w</th>\n",
              "      <th>Cos_Day_w</th>\n",
              "    </tr>\n",
              "  </thead>\n",
              "  <tbody>\n",
              "    <tr>\n",
              "      <th>0</th>\n",
              "      <td>-122.399588</td>\n",
              "      <td>37.735051</td>\n",
              "      <td>1.0</td>\n",
              "      <td>-122.393457</td>\n",
              "      <td>37.740094</td>\n",
              "      <td>-0.004363</td>\n",
              "      <td>0.999990</td>\n",
              "      <td>-0.258819</td>\n",
              "      <td>0.965926</td>\n",
              "      <td>0.897805</td>\n",
              "      <td>-0.440394</td>\n",
              "      <td>0.5</td>\n",
              "      <td>-0.866025</td>\n",
              "      <td>-0.781831</td>\n",
              "      <td>0.62349</td>\n",
              "    </tr>\n",
              "    <tr>\n",
              "      <th>1</th>\n",
              "      <td>-122.391523</td>\n",
              "      <td>37.732432</td>\n",
              "      <td>1.0</td>\n",
              "      <td>-122.393457</td>\n",
              "      <td>37.740094</td>\n",
              "      <td>-0.039260</td>\n",
              "      <td>0.999229</td>\n",
              "      <td>-0.258819</td>\n",
              "      <td>0.965926</td>\n",
              "      <td>0.897805</td>\n",
              "      <td>-0.440394</td>\n",
              "      <td>0.5</td>\n",
              "      <td>-0.866025</td>\n",
              "      <td>-0.781831</td>\n",
              "      <td>0.62349</td>\n",
              "    </tr>\n",
              "    <tr>\n",
              "      <th>2</th>\n",
              "      <td>-122.426002</td>\n",
              "      <td>37.792212</td>\n",
              "      <td>1.0</td>\n",
              "      <td>-122.426336</td>\n",
              "      <td>37.795198</td>\n",
              "      <td>-0.043619</td>\n",
              "      <td>0.999048</td>\n",
              "      <td>-0.258819</td>\n",
              "      <td>0.965926</td>\n",
              "      <td>0.897805</td>\n",
              "      <td>-0.440394</td>\n",
              "      <td>0.5</td>\n",
              "      <td>-0.866025</td>\n",
              "      <td>-0.781831</td>\n",
              "      <td>0.62349</td>\n",
              "    </tr>\n",
              "    <tr>\n",
              "      <th>3</th>\n",
              "      <td>-122.437394</td>\n",
              "      <td>37.721412</td>\n",
              "      <td>1.0</td>\n",
              "      <td>-122.428722</td>\n",
              "      <td>37.728411</td>\n",
              "      <td>-0.065403</td>\n",
              "      <td>0.997859</td>\n",
              "      <td>-0.258819</td>\n",
              "      <td>0.965926</td>\n",
              "      <td>0.897805</td>\n",
              "      <td>-0.440394</td>\n",
              "      <td>0.5</td>\n",
              "      <td>-0.866025</td>\n",
              "      <td>-0.781831</td>\n",
              "      <td>0.62349</td>\n",
              "    </tr>\n",
              "    <tr>\n",
              "      <th>4</th>\n",
              "      <td>-122.437394</td>\n",
              "      <td>37.721412</td>\n",
              "      <td>1.0</td>\n",
              "      <td>-122.428722</td>\n",
              "      <td>37.728411</td>\n",
              "      <td>-0.065403</td>\n",
              "      <td>0.997859</td>\n",
              "      <td>-0.258819</td>\n",
              "      <td>0.965926</td>\n",
              "      <td>0.897805</td>\n",
              "      <td>-0.440394</td>\n",
              "      <td>0.5</td>\n",
              "      <td>-0.866025</td>\n",
              "      <td>-0.781831</td>\n",
              "      <td>0.62349</td>\n",
              "    </tr>\n",
              "  </tbody>\n",
              "</table>\n",
              "</div>"
            ],
            "text/plain": [
              "            X          Y  Year  ...  Cos_Month  Sin_Day_w  Cos_Day_w\n",
              "0 -122.399588  37.735051   1.0  ...  -0.866025  -0.781831    0.62349\n",
              "1 -122.391523  37.732432   1.0  ...  -0.866025  -0.781831    0.62349\n",
              "2 -122.426002  37.792212   1.0  ...  -0.866025  -0.781831    0.62349\n",
              "3 -122.437394  37.721412   1.0  ...  -0.866025  -0.781831    0.62349\n",
              "4 -122.437394  37.721412   1.0  ...  -0.866025  -0.781831    0.62349\n",
              "\n",
              "[5 rows x 15 columns]"
            ]
          },
          "metadata": {
            "tags": []
          },
          "execution_count": 9
        }
      ]
    },
    {
      "cell_type": "markdown",
      "metadata": {
        "id": "RYAH8QGKWlAR"
      },
      "source": [
        "Predict the probabilities for the test dataset and save them in a csv file."
      ],
      "id": "RYAH8QGKWlAR"
    },
    {
      "cell_type": "code",
      "metadata": {
        "id": "3U6ZYkVn6Jzx",
        "colab": {
          "base_uri": "https://localhost:8080/"
        },
        "outputId": "e94d4300-bd3b-45c9-8fe7-0184da71156c"
      },
      "source": [
        "p_pred = clf.predict_proba(test_data)\n",
        "pred= pd.DataFrame (p_pred, columns = list_cat)\n",
        "pred.to_csv(\"pred2.csv\")\n",
        "pred.head()s"
      ],
      "id": "3U6ZYkVn6Jzx",
      "execution_count": 16,
      "outputs": [
        {
          "output_type": "stream",
          "text": [
            "(884262, 39)\n"
          ],
          "name": "stdout"
        }
      ]
    },
    {
      "cell_type": "markdown",
      "metadata": {
        "id": "_wAvz5NlW98b"
      },
      "source": [
        "This result gives us finally a score of 2.418, which rank us 500 on the 2500 teams in the competition."
      ],
      "id": "_wAvz5NlW98b"
    }
  ]
}